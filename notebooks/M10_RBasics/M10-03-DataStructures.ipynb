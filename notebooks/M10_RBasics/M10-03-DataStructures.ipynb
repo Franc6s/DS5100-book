{
 "cells": [
  {
   "cell_type": "markdown",
   "id": "ebe84028-051c-4bd1-9ae3-6993e1039589",
   "metadata": {},
   "source": [
    "# NB: R Data Structures"
   ]
  },
  {
   "cell_type": "markdown",
   "id": "7b721175-be19-492f-b82c-93498d4ce3f0",
   "metadata": {},
   "source": [
    "Basic R comes with several data structures:\n",
    "\n",
    "| Structure   | Dim | Data Type | Shape   | Python | \n",
    "|-------------|-----|-----------|---------|--------|\n",
    "| Vector     | $1$ | uniform  | sequence | \n",
    "| Matrix    | $2$ | uniform  | square   |\n",
    "| Array      | $N$ | uniform  | cube+    | NumPy array |\n",
    "| List       | $1$ | non-uniform  | ragged | List, Dict |\n",
    "| Data Frame | $2$ | multiple | uniform | Pandas Data Frame |\n",
    "\n",
    "\n",
    "- These reflect the evolution of R.\n",
    "- We mainly use Vectors and Data Frames."
   ]
  },
  {
   "cell_type": "markdown",
   "id": "e393fb40-42cf-4204-bae4-1343863ef72b",
   "metadata": {},
   "source": [
    "A **vector** is what is called an array in many other programming\n",
    "languages\n",
    "\n",
    "-   A collection of cells with **a fixed size** where all cells hold the\n",
    "    **same data type** (integers or characters or reals or whatever)."
   ]
  },
  {
   "cell_type": "markdown",
   "id": "a41bf46e-be20-4a56-a596-044d9af1adec",
   "metadata": {},
   "source": [
    "A **matrix** is a two-dimensional vector (fixed size, all cell types the\n",
    "same)."
   ]
  },
  {
   "cell_type": "markdown",
   "id": "560be5fa-d8a3-4259-8d9d-ecaa469a549c",
   "metadata": {},
   "source": [
    "An **array** is a vector with one or more dimensions.\n",
    "\n",
    "-   So, an array with one dimension is (almost) the same as a vector.\n",
    "\n",
    "-   An array with two dimensions is (almost) the same as a matrix.\n",
    "\n",
    "-   An array with three or more dimensions is an n-dimensional array."
   ]
  },
  {
   "cell_type": "markdown",
   "id": "debfd645-2135-4f8f-b087-3b3c1808cd7d",
   "metadata": {},
   "source": [
    "A **list** can hold items of different types and the list size can be\n",
    "increased on the fly.\n",
    "\n",
    "-   List contents can be accessed either by **index** (like\n",
    "    `mylist[[1]]`) or by **name** (like `mylist$age`).\n",
    "\n",
    "-   Lists are like lists in Python."
   ]
  },
  {
   "cell_type": "markdown",
   "id": "a8567fde-397e-4c53-b32d-18baafb5fcc5",
   "metadata": {},
   "source": [
    "A **data frame** is called a *table* in many languages.\n",
    "\n",
    "-   This is the workhorse of R.\n",
    "\n",
    "-   Each column holds the same type, and the columns can have header\n",
    "    names.\\\n",
    "    A data frame is essential a kind of a list --- **a list of vectors**\n",
    "    each with the same length, but of varying data types."
   ]
  },
  {
   "cell_type": "markdown",
   "id": "e4511829-8375-4e8d-880a-462307019650",
   "metadata": {},
   "source": [
    "**The two most frequently used are Vector and Data frame.**\n",
    "\n",
    "So, we will look at vectors and data frames.\n",
    "\n",
    "We will also look at lists since they are used internally to construct\n",
    "data frames."
   ]
  },
  {
   "cell_type": "markdown",
   "id": "4ed74b72-f5be-478c-bd70-6cf1f0134f52",
   "metadata": {},
   "source": [
    "# Vectors and `c()`\n",
    "\n",
    "A vector is a sequence of data elements of the **same basic type**.\n",
    "\n",
    "Members in a vector are officially called ***components***, but many\n",
    "call them ***members***.\n",
    "\n",
    "Vectors may be created with the `c()` function (\"c\" stands for combine).\n",
    "\n",
    "-  This is like `[]` in Python.\n",
    "\n",
    "Here is a vector of three numeric values 2, 3 and 5."
   ]
  },
  {
   "cell_type": "code",
   "execution_count": 156,
   "id": "79c336cb-eff3-4720-a75f-8387bf5d879d",
   "metadata": {
    "tags": []
   },
   "outputs": [
    {
     "data": {
      "text/html": [
       "<style>\n",
       ".list-inline {list-style: none; margin:0; padding: 0}\n",
       ".list-inline>li {display: inline-block}\n",
       ".list-inline>li:not(:last-child)::after {content: \"\\00b7\"; padding: 0 .5ex}\n",
       "</style>\n",
       "<ol class=list-inline><li>2</li><li>3</li><li>5</li></ol>\n"
      ],
      "text/latex": [
       "\\begin{enumerate*}\n",
       "\\item 2\n",
       "\\item 3\n",
       "\\item 5\n",
       "\\end{enumerate*}\n"
      ],
      "text/markdown": [
       "1. 2\n",
       "2. 3\n",
       "3. 5\n",
       "\n",
       "\n"
      ],
      "text/plain": [
       "[1] 2 3 5"
      ]
     },
     "metadata": {},
     "output_type": "display_data"
    }
   ],
   "source": [
    "c(2, 3, 5) "
   ]
  },
  {
   "cell_type": "markdown",
   "id": "19d44373-4916-4b32-ab57-3e3882d53736",
   "metadata": {},
   "source": [
    "And here is a vector of logical values."
   ]
  },
  {
   "cell_type": "code",
   "execution_count": 157,
   "id": "0cfad423-ceb5-46f6-9f65-33815cf4c3b5",
   "metadata": {
    "tags": []
   },
   "outputs": [
    {
     "data": {
      "text/html": [
       "<style>\n",
       ".list-inline {list-style: none; margin:0; padding: 0}\n",
       ".list-inline>li {display: inline-block}\n",
       ".list-inline>li:not(:last-child)::after {content: \"\\00b7\"; padding: 0 .5ex}\n",
       "</style>\n",
       "<ol class=list-inline><li>TRUE</li><li>FALSE</li><li>TRUE</li><li>FALSE</li><li>FALSE</li></ol>\n"
      ],
      "text/latex": [
       "\\begin{enumerate*}\n",
       "\\item TRUE\n",
       "\\item FALSE\n",
       "\\item TRUE\n",
       "\\item FALSE\n",
       "\\item FALSE\n",
       "\\end{enumerate*}\n"
      ],
      "text/markdown": [
       "1. TRUE\n",
       "2. FALSE\n",
       "3. TRUE\n",
       "4. FALSE\n",
       "5. FALSE\n",
       "\n",
       "\n"
      ],
      "text/plain": [
       "[1]  TRUE FALSE  TRUE FALSE FALSE"
      ]
     },
     "metadata": {},
     "output_type": "display_data"
    }
   ],
   "source": [
    "c(TRUE, FALSE, TRUE, FALSE, FALSE) "
   ]
  },
  {
   "cell_type": "markdown",
   "id": "21e4c371-e133-4ca5-9f27-c1eb13035c8d",
   "metadata": {},
   "source": [
    "A vector can contain character strings."
   ]
  },
  {
   "cell_type": "code",
   "execution_count": 158,
   "id": "d5405d79-99ce-4461-a9e0-605d451db710",
   "metadata": {
    "tags": []
   },
   "outputs": [
    {
     "data": {
      "text/html": [
       "<style>\n",
       ".list-inline {list-style: none; margin:0; padding: 0}\n",
       ".list-inline>li {display: inline-block}\n",
       ".list-inline>li:not(:last-child)::after {content: \"\\00b7\"; padding: 0 .5ex}\n",
       "</style>\n",
       "<ol class=list-inline><li>'aa'</li><li>'bb'</li><li>'cc'</li><li>'dd'</li><li>'ee'</li></ol>\n"
      ],
      "text/latex": [
       "\\begin{enumerate*}\n",
       "\\item 'aa'\n",
       "\\item 'bb'\n",
       "\\item 'cc'\n",
       "\\item 'dd'\n",
       "\\item 'ee'\n",
       "\\end{enumerate*}\n"
      ],
      "text/markdown": [
       "1. 'aa'\n",
       "2. 'bb'\n",
       "3. 'cc'\n",
       "4. 'dd'\n",
       "5. 'ee'\n",
       "\n",
       "\n"
      ],
      "text/plain": [
       "[1] \"aa\" \"bb\" \"cc\" \"dd\" \"ee\""
      ]
     },
     "metadata": {},
     "output_type": "display_data"
    }
   ],
   "source": [
    "c(\"aa\", \"bb\", \"cc\", \"dd\", \"ee\") "
   ]
  },
  {
   "cell_type": "markdown",
   "id": "ebe3f578-fb72-4dd9-80e0-e16b366ae35c",
   "metadata": {},
   "source": [
    "## Vectors from sequences using `:`, `seq()`, and `rep()`\n",
    "\n",
    "Vectors can be made out of sequences which may be generated in a few\n",
    "ways."
   ]
  },
  {
   "cell_type": "code",
   "execution_count": 159,
   "id": "312fc0b1-14db-4c02-a61a-d101be7eb603",
   "metadata": {},
   "outputs": [
    {
     "data": {
      "text/html": [
       "<style>\n",
       ".list-inline {list-style: none; margin:0; padding: 0}\n",
       ".list-inline>li {display: inline-block}\n",
       ".list-inline>li:not(:last-child)::after {content: \"\\00b7\"; padding: 0 .5ex}\n",
       "</style>\n",
       "<ol class=list-inline><li>2</li><li>3</li><li>4</li><li>5</li></ol>\n"
      ],
      "text/latex": [
       "\\begin{enumerate*}\n",
       "\\item 2\n",
       "\\item 3\n",
       "\\item 4\n",
       "\\item 5\n",
       "\\end{enumerate*}\n"
      ],
      "text/markdown": [
       "1. 2\n",
       "2. 3\n",
       "3. 4\n",
       "4. 5\n",
       "\n",
       "\n"
      ],
      "text/plain": [
       "[1] 2 3 4 5"
      ]
     },
     "metadata": {},
     "output_type": "display_data"
    }
   ],
   "source": [
    "s1 <- 2:5\n",
    "s1"
   ]
  },
  {
   "cell_type": "markdown",
   "id": "b37fe346-2ec1-465a-b5d4-6bed373fe909",
   "metadata": {},
   "source": [
    "The `seq()` function is like Python's `range()`."
   ]
  },
  {
   "cell_type": "code",
   "execution_count": 160,
   "id": "4a56448a-6287-4283-919d-4ffc0797eac8",
   "metadata": {},
   "outputs": [
    {
     "data": {
      "text/html": [
       "<style>\n",
       ".list-inline {list-style: none; margin:0; padding: 0}\n",
       ".list-inline>li {display: inline-block}\n",
       ".list-inline>li:not(:last-child)::after {content: \"\\00b7\"; padding: 0 .5ex}\n",
       "</style>\n",
       "<ol class=list-inline><li>1</li><li>3</li><li>5</li></ol>\n"
      ],
      "text/latex": [
       "\\begin{enumerate*}\n",
       "\\item 1\n",
       "\\item 3\n",
       "\\item 5\n",
       "\\end{enumerate*}\n"
      ],
      "text/markdown": [
       "1. 1\n",
       "2. 3\n",
       "3. 5\n",
       "\n",
       "\n"
      ],
      "text/plain": [
       "[1] 1 3 5"
      ]
     },
     "metadata": {},
     "output_type": "display_data"
    }
   ],
   "source": [
    "s2 <- seq(from=1, to=5, by=2)\n",
    "s2"
   ]
  },
  {
   "cell_type": "markdown",
   "id": "3b249346-2da9-486f-be88-aef3374c18d1",
   "metadata": {},
   "source": [
    "You can drop the argument names and write `seq(1,5,2)`.\n",
    "\n",
    "The `rep()` function will create a series of repeated values:"
   ]
  },
  {
   "cell_type": "code",
   "execution_count": 161,
   "id": "af643f75-fc3a-45a1-bbb4-94218f96383c",
   "metadata": {
    "tags": []
   },
   "outputs": [
    {
     "data": {
      "text/html": [
       "<style>\n",
       ".list-inline {list-style: none; margin:0; padding: 0}\n",
       ".list-inline>li {display: inline-block}\n",
       ".list-inline>li:not(:last-child)::after {content: \"\\00b7\"; padding: 0 .5ex}\n",
       "</style>\n",
       "<ol class=list-inline><li>1</li><li>1</li><li>1</li><li>1</li><li>1</li></ol>\n"
      ],
      "text/latex": [
       "\\begin{enumerate*}\n",
       "\\item 1\n",
       "\\item 1\n",
       "\\item 1\n",
       "\\item 1\n",
       "\\item 1\n",
       "\\end{enumerate*}\n"
      ],
      "text/markdown": [
       "1. 1\n",
       "2. 1\n",
       "3. 1\n",
       "4. 1\n",
       "5. 1\n",
       "\n",
       "\n"
      ],
      "text/plain": [
       "[1] 1 1 1 1 1"
      ]
     },
     "metadata": {},
     "output_type": "display_data"
    }
   ],
   "source": [
    "s3 <- rep(1, 5)\n",
    "s3"
   ]
  },
  {
   "cell_type": "markdown",
   "id": "8eb4625d-1925-4dc5-a594-c016c84b0bf3",
   "metadata": {},
   "source": [
    "## `length()`\n",
    "\n",
    "The number of members in a vector is given by the `length()` function."
   ]
  },
  {
   "cell_type": "code",
   "execution_count": 162,
   "id": "2386b144-d860-4b3e-8cb2-7755ce7ed9b4",
   "metadata": {
    "tags": []
   },
   "outputs": [
    {
     "data": {
      "text/html": [
       "5"
      ],
      "text/latex": [
       "5"
      ],
      "text/markdown": [
       "5"
      ],
      "text/plain": [
       "[1] 5"
      ]
     },
     "metadata": {},
     "output_type": "display_data"
    }
   ],
   "source": [
    "length(c(\"aa\", \"bb\", \"cc\", \"dd\", \"ee\")) "
   ]
  },
  {
   "cell_type": "markdown",
   "id": "36f5d65d-e93a-48b0-a60d-692775c02645",
   "metadata": {},
   "source": [
    "## Combining Vectors with `c()`\n",
    "\n",
    "Vectors can be combined via the function `c()`."
   ]
  },
  {
   "cell_type": "code",
   "execution_count": 163,
   "id": "45078e5c-201b-404d-acc6-74e99b4c3d24",
   "metadata": {
    "tags": []
   },
   "outputs": [
    {
     "data": {
      "text/html": [
       "<style>\n",
       ".list-inline {list-style: none; margin:0; padding: 0}\n",
       ".list-inline>li {display: inline-block}\n",
       ".list-inline>li:not(:last-child)::after {content: \"\\00b7\"; padding: 0 .5ex}\n",
       "</style>\n",
       "<ol class=list-inline><li>'2'</li><li>'3'</li><li>'5'</li><li>'aa'</li><li>'bb'</li><li>'cc'</li><li>'dd'</li><li>'ee'</li></ol>\n"
      ],
      "text/latex": [
       "\\begin{enumerate*}\n",
       "\\item '2'\n",
       "\\item '3'\n",
       "\\item '5'\n",
       "\\item 'aa'\n",
       "\\item 'bb'\n",
       "\\item 'cc'\n",
       "\\item 'dd'\n",
       "\\item 'ee'\n",
       "\\end{enumerate*}\n"
      ],
      "text/markdown": [
       "1. '2'\n",
       "2. '3'\n",
       "3. '5'\n",
       "4. 'aa'\n",
       "5. 'bb'\n",
       "6. 'cc'\n",
       "7. 'dd'\n",
       "8. 'ee'\n",
       "\n",
       "\n"
      ],
      "text/plain": [
       "[1] \"2\"  \"3\"  \"5\"  \"aa\" \"bb\" \"cc\" \"dd\" \"ee\""
      ]
     },
     "metadata": {},
     "output_type": "display_data"
    }
   ],
   "source": [
    "n <- c(2, 3, 5) \n",
    "s <- c(\"aa\", \"bb\", \"cc\", \"dd\", \"ee\") \n",
    " c(n, s) "
   ]
  },
  {
   "cell_type": "markdown",
   "id": "4258834f-0295-4b2b-9ea2-b4471039f202",
   "metadata": {},
   "source": [
    "## Value Coercion\n",
    "\n",
    "Notice how **the numeric values are being coerced into character\n",
    "strings** when the two vectors are combined.\n",
    "\n",
    "This is necessary so as to maintain the same primitive data type for\n",
    "members in the same vector."
   ]
  },
  {
   "cell_type": "markdown",
   "id": "229ecc31-9e7a-4aa0-937e-fd9cd1d3fe09",
   "metadata": {
    "tags": []
   },
   "source": [
    "## Vector Math\n",
    "\n",
    "Arithmetic operations of vectors are performed member-by-member, i.e.,\n",
    "**member-wise**.\n",
    "\n",
    "We called this 'element-wise' in the context of NumPy.\n",
    "\n",
    "For example, suppose we have two vectors a and b."
   ]
  },
  {
   "cell_type": "code",
   "execution_count": 164,
   "id": "c1075bba-47eb-4271-8fe0-39e26efbe18d",
   "metadata": {
    "tags": []
   },
   "outputs": [],
   "source": [
    "a <- c(1, 3, 5, 7) \n",
    "b <- c(1, 2, 4, 8)"
   ]
  },
  {
   "cell_type": "markdown",
   "id": "d97f6e2c-3417-4cb9-a1d4-e20ed0fba4a5",
   "metadata": {},
   "source": [
    "If we multiply `a` by 5, we would get a vector with each of its members\n",
    "multiplied by 5."
   ]
  },
  {
   "cell_type": "code",
   "execution_count": 165,
   "id": "0f435130-88af-4c02-b761-f709eb7e0c73",
   "metadata": {
    "tags": []
   },
   "outputs": [
    {
     "data": {
      "text/html": [
       "<style>\n",
       ".list-inline {list-style: none; margin:0; padding: 0}\n",
       ".list-inline>li {display: inline-block}\n",
       ".list-inline>li:not(:last-child)::after {content: \"\\00b7\"; padding: 0 .5ex}\n",
       "</style>\n",
       "<ol class=list-inline><li>5</li><li>15</li><li>25</li><li>35</li></ol>\n"
      ],
      "text/latex": [
       "\\begin{enumerate*}\n",
       "\\item 5\n",
       "\\item 15\n",
       "\\item 25\n",
       "\\item 35\n",
       "\\end{enumerate*}\n"
      ],
      "text/markdown": [
       "1. 5\n",
       "2. 15\n",
       "3. 25\n",
       "4. 35\n",
       "\n",
       "\n"
      ],
      "text/plain": [
       "[1]  5 15 25 35"
      ]
     },
     "metadata": {},
     "output_type": "display_data"
    }
   ],
   "source": [
    "5 * a "
   ]
  },
  {
   "cell_type": "markdown",
   "id": "5934d67f-c11b-4018-adeb-a747885dafee",
   "metadata": {},
   "source": [
    "And if we add a and b together, the sum would be a vector whose members\n",
    "are the sum of the corresponding members from a and b."
   ]
  },
  {
   "cell_type": "code",
   "execution_count": 166,
   "id": "b7325d0e-bd2e-4a16-b3cc-706fb6a30927",
   "metadata": {
    "tags": []
   },
   "outputs": [
    {
     "data": {
      "text/html": [
       "<style>\n",
       ".list-inline {list-style: none; margin:0; padding: 0}\n",
       ".list-inline>li {display: inline-block}\n",
       ".list-inline>li:not(:last-child)::after {content: \"\\00b7\"; padding: 0 .5ex}\n",
       "</style>\n",
       "<ol class=list-inline><li>2</li><li>5</li><li>9</li><li>15</li></ol>\n"
      ],
      "text/latex": [
       "\\begin{enumerate*}\n",
       "\\item 2\n",
       "\\item 5\n",
       "\\item 9\n",
       "\\item 15\n",
       "\\end{enumerate*}\n"
      ],
      "text/markdown": [
       "1. 2\n",
       "2. 5\n",
       "3. 9\n",
       "4. 15\n",
       "\n",
       "\n"
      ],
      "text/plain": [
       "[1]  2  5  9 15"
      ]
     },
     "metadata": {},
     "output_type": "display_data"
    }
   ],
   "source": [
    "a + b"
   ]
  },
  {
   "cell_type": "markdown",
   "id": "c3708e54-3e38-427f-b565-1b24b8908830",
   "metadata": {},
   "source": [
    "Similarly for subtraction, multiplication and division, we get new\n",
    "vectors via member-wise operations."
   ]
  },
  {
   "cell_type": "code",
   "execution_count": 167,
   "id": "24cec95f-0108-4466-8fa8-b9c0b72166df",
   "metadata": {
    "tags": []
   },
   "outputs": [
    {
     "data": {
      "text/html": [
       "<style>\n",
       ".list-inline {list-style: none; margin:0; padding: 0}\n",
       ".list-inline>li {display: inline-block}\n",
       ".list-inline>li:not(:last-child)::after {content: \"\\00b7\"; padding: 0 .5ex}\n",
       "</style>\n",
       "<ol class=list-inline><li>0</li><li>1</li><li>1</li><li>-1</li></ol>\n"
      ],
      "text/latex": [
       "\\begin{enumerate*}\n",
       "\\item 0\n",
       "\\item 1\n",
       "\\item 1\n",
       "\\item -1\n",
       "\\end{enumerate*}\n"
      ],
      "text/markdown": [
       "1. 0\n",
       "2. 1\n",
       "3. 1\n",
       "4. -1\n",
       "\n",
       "\n"
      ],
      "text/plain": [
       "[1]  0  1  1 -1"
      ]
     },
     "metadata": {},
     "output_type": "display_data"
    }
   ],
   "source": [
    "a - b "
   ]
  },
  {
   "cell_type": "code",
   "execution_count": 168,
   "id": "4fbeb0d6-e305-4a48-9921-3456135c6ea7",
   "metadata": {
    "tags": []
   },
   "outputs": [
    {
     "data": {
      "text/html": [
       "<style>\n",
       ".list-inline {list-style: none; margin:0; padding: 0}\n",
       ".list-inline>li {display: inline-block}\n",
       ".list-inline>li:not(:last-child)::after {content: \"\\00b7\"; padding: 0 .5ex}\n",
       "</style>\n",
       "<ol class=list-inline><li>1</li><li>6</li><li>20</li><li>56</li></ol>\n"
      ],
      "text/latex": [
       "\\begin{enumerate*}\n",
       "\\item 1\n",
       "\\item 6\n",
       "\\item 20\n",
       "\\item 56\n",
       "\\end{enumerate*}\n"
      ],
      "text/markdown": [
       "1. 1\n",
       "2. 6\n",
       "3. 20\n",
       "4. 56\n",
       "\n",
       "\n"
      ],
      "text/plain": [
       "[1]  1  6 20 56"
      ]
     },
     "metadata": {},
     "output_type": "display_data"
    }
   ],
   "source": [
    "a * b "
   ]
  },
  {
   "cell_type": "code",
   "execution_count": 169,
   "id": "430de61d-b9e6-44fc-bd73-bb61108ec866",
   "metadata": {
    "tags": []
   },
   "outputs": [
    {
     "data": {
      "text/html": [
       "<style>\n",
       ".list-inline {list-style: none; margin:0; padding: 0}\n",
       ".list-inline>li {display: inline-block}\n",
       ".list-inline>li:not(:last-child)::after {content: \"\\00b7\"; padding: 0 .5ex}\n",
       "</style>\n",
       "<ol class=list-inline><li>1</li><li>1.5</li><li>1.25</li><li>0.875</li></ol>\n"
      ],
      "text/latex": [
       "\\begin{enumerate*}\n",
       "\\item 1\n",
       "\\item 1.5\n",
       "\\item 1.25\n",
       "\\item 0.875\n",
       "\\end{enumerate*}\n"
      ],
      "text/markdown": [
       "1. 1\n",
       "2. 1.5\n",
       "3. 1.25\n",
       "4. 0.875\n",
       "\n",
       "\n"
      ],
      "text/plain": [
       "[1] 1.000 1.500 1.250 0.875"
      ]
     },
     "metadata": {},
     "output_type": "display_data"
    }
   ],
   "source": [
    "a / b "
   ]
  },
  {
   "cell_type": "markdown",
   "id": "80b18526-0311-4504-b5a9-1223f1a753c8",
   "metadata": {},
   "source": [
    "## The Recycling Rule\n",
    "\n",
    "If two vectors are of unequal length, the **shorter one will be\n",
    "recycled** in order to match the longer vector.\n",
    "\n",
    "This is similar to broadcasting in NumPy and Pandas.\n",
    "\n",
    "For example, the following vectors `u` and `v` have different lengths,\n",
    "and their sum is computed by recycling values of the shorter vector `u`."
   ]
  },
  {
   "cell_type": "code",
   "execution_count": 170,
   "id": "ca52c2f6-9362-4ede-899b-592fda30937f",
   "metadata": {
    "tags": []
   },
   "outputs": [
    {
     "data": {
      "text/html": [
       "<style>\n",
       ".list-inline {list-style: none; margin:0; padding: 0}\n",
       ".list-inline>li {display: inline-block}\n",
       ".list-inline>li:not(:last-child)::after {content: \"\\00b7\"; padding: 0 .5ex}\n",
       "</style>\n",
       "<ol class=list-inline><li>11</li><li>22</li><li>33</li><li>14</li><li>25</li><li>36</li><li>17</li><li>28</li><li>39</li></ol>\n"
      ],
      "text/latex": [
       "\\begin{enumerate*}\n",
       "\\item 11\n",
       "\\item 22\n",
       "\\item 33\n",
       "\\item 14\n",
       "\\item 25\n",
       "\\item 36\n",
       "\\item 17\n",
       "\\item 28\n",
       "\\item 39\n",
       "\\end{enumerate*}\n"
      ],
      "text/markdown": [
       "1. 11\n",
       "2. 22\n",
       "3. 33\n",
       "4. 14\n",
       "5. 25\n",
       "6. 36\n",
       "7. 17\n",
       "8. 28\n",
       "9. 39\n",
       "\n",
       "\n"
      ],
      "text/plain": [
       "[1] 11 22 33 14 25 36 17 28 39"
      ]
     },
     "metadata": {},
     "output_type": "display_data"
    }
   ],
   "source": [
    "u <- c(10, 20, 30) \n",
    "v <- c(1, 2, 3, 4, 5, 6, 7, 8, 9) \n",
    "u + v "
   ]
  },
  {
   "cell_type": "markdown",
   "id": "995598db-3bd8-4349-837b-20fe8d4da108",
   "metadata": {
    "tags": []
   },
   "source": [
    "## Vector Indexes\n",
    "\n",
    "We retrieve values in a vector by declaring an index inside a single\n",
    "square bracket index `[]` operator.\n",
    "\n",
    "Vector indexes are 1-based."
   ]
  },
  {
   "cell_type": "code",
   "execution_count": 171,
   "id": "2ad772a8-da5f-406f-b671-e8e190985e8c",
   "metadata": {
    "tags": []
   },
   "outputs": [
    {
     "data": {
      "text/html": [
       "'cc'"
      ],
      "text/latex": [
       "'cc'"
      ],
      "text/markdown": [
       "'cc'"
      ],
      "text/plain": [
       "[1] \"cc\""
      ]
     },
     "metadata": {},
     "output_type": "display_data"
    }
   ],
   "source": [
    "s <- c(\"aa\", \"bb\", \"cc\", \"dd\", \"ee\") \n",
    "s[3] "
   ]
  },
  {
   "cell_type": "markdown",
   "id": "b593ef99-5162-47a6-86eb-917b5e99f4cb",
   "metadata": {},
   "source": [
    "## Negative Indexing\n",
    "\n",
    "Unlike Python, if the index is negative, **it will remove the member**\n",
    "whose position has the same absolute value as the negative index.\n",
    "\n",
    "It really does mean subtraction!\n",
    "\n",
    "For example, the following creates a vector slice with the third member\n",
    "removed."
   ]
  },
  {
   "cell_type": "code",
   "execution_count": 172,
   "id": "500932fa-a512-4d91-837d-ac6501c4dd3e",
   "metadata": {
    "tags": []
   },
   "outputs": [
    {
     "data": {
      "text/html": [
       "<style>\n",
       ".list-inline {list-style: none; margin:0; padding: 0}\n",
       ".list-inline>li {display: inline-block}\n",
       ".list-inline>li:not(:last-child)::after {content: \"\\00b7\"; padding: 0 .5ex}\n",
       "</style>\n",
       "<ol class=list-inline><li>'aa'</li><li>'bb'</li><li>'dd'</li><li>'ee'</li></ol>\n"
      ],
      "text/latex": [
       "\\begin{enumerate*}\n",
       "\\item 'aa'\n",
       "\\item 'bb'\n",
       "\\item 'dd'\n",
       "\\item 'ee'\n",
       "\\end{enumerate*}\n"
      ],
      "text/markdown": [
       "1. 'aa'\n",
       "2. 'bb'\n",
       "3. 'dd'\n",
       "4. 'ee'\n",
       "\n",
       "\n"
      ],
      "text/plain": [
       "[1] \"aa\" \"bb\" \"dd\" \"ee\""
      ]
     },
     "metadata": {},
     "output_type": "display_data"
    }
   ],
   "source": [
    "s[-3] "
   ]
  },
  {
   "cell_type": "markdown",
   "id": "d8615b17-0bdc-4e5e-9699-f7a6b538df81",
   "metadata": {},
   "source": [
    "## Out-of-Range Indexes\n",
    "\n",
    "Values for out-of-range indexes are reported as `NA`."
   ]
  },
  {
   "cell_type": "code",
   "execution_count": 173,
   "id": "bc911e79-9af9-4864-854c-bb25609332ab",
   "metadata": {
    "tags": []
   },
   "outputs": [
    {
     "data": {
      "text/html": [
       "NA"
      ],
      "text/latex": [
       "NA"
      ],
      "text/markdown": [
       "NA"
      ],
      "text/plain": [
       "[1] NA"
      ]
     },
     "metadata": {},
     "output_type": "display_data"
    }
   ],
   "source": [
    "s[10] "
   ]
  },
  {
   "cell_type": "markdown",
   "id": "0ebcb82e-25bd-4f08-8cca-804faab17aa3",
   "metadata": {
    "tags": []
   },
   "source": [
    "## Numeric Index Vectors\n",
    "\n",
    "A new vector can be sliced from a given vector with a numeric vector\n",
    "passed to the indexing operator.\n",
    "\n",
    "Index vectors consist of member positions of the original vector to be\n",
    "retrieved.\n",
    "\n",
    "Here we see how to retrieve a vector slice containing the second and\n",
    "third members of a given vector `s`."
   ]
  },
  {
   "cell_type": "code",
   "execution_count": 174,
   "id": "af388edd-8c5f-450b-99c6-80a4e4feb174",
   "metadata": {
    "tags": []
   },
   "outputs": [
    {
     "data": {
      "text/html": [
       "<style>\n",
       ".list-inline {list-style: none; margin:0; padding: 0}\n",
       ".list-inline>li {display: inline-block}\n",
       ".list-inline>li:not(:last-child)::after {content: \"\\00b7\"; padding: 0 .5ex}\n",
       "</style>\n",
       "<ol class=list-inline><li>'bb'</li><li>'cc'</li></ol>\n"
      ],
      "text/latex": [
       "\\begin{enumerate*}\n",
       "\\item 'bb'\n",
       "\\item 'cc'\n",
       "\\end{enumerate*}\n"
      ],
      "text/markdown": [
       "1. 'bb'\n",
       "2. 'cc'\n",
       "\n",
       "\n"
      ],
      "text/plain": [
       "[1] \"bb\" \"cc\""
      ]
     },
     "metadata": {},
     "output_type": "display_data"
    }
   ],
   "source": [
    "s <- c(\"aa\", \"bb\", \"cc\", \"dd\", \"ee\") \n",
    "s[c(2, 3)] "
   ]
  },
  {
   "cell_type": "markdown",
   "id": "31a84198-dd6d-477f-8e47-bdbaf454c1ea",
   "metadata": {
    "tags": []
   },
   "source": [
    "## Duplicate Indexes\n",
    "\n",
    "The index vector allows duplicate values. Hence the following retrieves\n",
    "a member twice in one operation."
   ]
  },
  {
   "cell_type": "code",
   "execution_count": 175,
   "id": "ee55ad4d-0da8-4a6f-9887-86d953ebe529",
   "metadata": {
    "tags": []
   },
   "outputs": [
    {
     "data": {
      "text/html": [
       "<style>\n",
       ".list-inline {list-style: none; margin:0; padding: 0}\n",
       ".list-inline>li {display: inline-block}\n",
       ".list-inline>li:not(:last-child)::after {content: \"\\00b7\"; padding: 0 .5ex}\n",
       "</style>\n",
       "<ol class=list-inline><li>'bb'</li><li>'cc'</li><li>'cc'</li></ol>\n"
      ],
      "text/latex": [
       "\\begin{enumerate*}\n",
       "\\item 'bb'\n",
       "\\item 'cc'\n",
       "\\item 'cc'\n",
       "\\end{enumerate*}\n"
      ],
      "text/markdown": [
       "1. 'bb'\n",
       "2. 'cc'\n",
       "3. 'cc'\n",
       "\n",
       "\n"
      ],
      "text/plain": [
       "[1] \"bb\" \"cc\" \"cc\""
      ]
     },
     "metadata": {},
     "output_type": "display_data"
    }
   ],
   "source": [
    "s[c(2, 3, 3)] "
   ]
  },
  {
   "cell_type": "markdown",
   "id": "1e7abf62-e215-4335-9f43-417e0c81178e",
   "metadata": {},
   "source": [
    "## Out-of-Order Indexes\n",
    "\n",
    "The index vector can even be out-of-order. Here is a vector slice with\n",
    "the order of first and second members reversed."
   ]
  },
  {
   "cell_type": "code",
   "execution_count": 176,
   "id": "8f5f6c80-a77b-49fa-8a68-c094a621d828",
   "metadata": {
    "tags": []
   },
   "outputs": [
    {
     "data": {
      "text/html": [
       "<style>\n",
       ".list-inline {list-style: none; margin:0; padding: 0}\n",
       ".list-inline>li {display: inline-block}\n",
       ".list-inline>li:not(:last-child)::after {content: \"\\00b7\"; padding: 0 .5ex}\n",
       "</style>\n",
       "<ol class=list-inline><li>'bb'</li><li>'aa'</li><li>'cc'</li></ol>\n"
      ],
      "text/latex": [
       "\\begin{enumerate*}\n",
       "\\item 'bb'\n",
       "\\item 'aa'\n",
       "\\item 'cc'\n",
       "\\end{enumerate*}\n"
      ],
      "text/markdown": [
       "1. 'bb'\n",
       "2. 'aa'\n",
       "3. 'cc'\n",
       "\n",
       "\n"
      ],
      "text/plain": [
       "[1] \"bb\" \"aa\" \"cc\""
      ]
     },
     "metadata": {},
     "output_type": "display_data"
    }
   ],
   "source": [
    "s[c(2, 1, 3)] "
   ]
  },
  {
   "cell_type": "markdown",
   "id": "68c31163-db67-46a1-889e-5274a0be91cf",
   "metadata": {},
   "source": [
    "## Range Index\n",
    "\n",
    "To produce a vector slice between two indexes, we can use the colon\n",
    "operator \":\". This can be convenient for situations involving large\n",
    "vectors."
   ]
  },
  {
   "cell_type": "code",
   "execution_count": 177,
   "id": "6eab24f7-5c0f-4372-b8d2-9c394b0edcb4",
   "metadata": {
    "tags": []
   },
   "outputs": [
    {
     "data": {
      "text/html": [
       "<style>\n",
       ".list-inline {list-style: none; margin:0; padding: 0}\n",
       ".list-inline>li {display: inline-block}\n",
       ".list-inline>li:not(:last-child)::after {content: \"\\00b7\"; padding: 0 .5ex}\n",
       "</style>\n",
       "<ol class=list-inline><li>'bb'</li><li>'cc'</li><li>'dd'</li></ol>\n"
      ],
      "text/latex": [
       "\\begin{enumerate*}\n",
       "\\item 'bb'\n",
       "\\item 'cc'\n",
       "\\item 'dd'\n",
       "\\end{enumerate*}\n"
      ],
      "text/markdown": [
       "1. 'bb'\n",
       "2. 'cc'\n",
       "3. 'dd'\n",
       "\n",
       "\n"
      ],
      "text/plain": [
       "[1] \"bb\" \"cc\" \"dd\""
      ]
     },
     "metadata": {},
     "output_type": "display_data"
    }
   ],
   "source": [
    "s[2:4] "
   ]
  },
  {
   "cell_type": "markdown",
   "id": "20ec0dc3-f19d-4c5f-ba2d-2f3d87e89d11",
   "metadata": {},
   "source": [
    "## Logical Index Vectors\n",
    "\n",
    "A new vector can be sliced from a given vector with a logical index\n",
    "vector.\n",
    "\n",
    "The logical vector must the same length as the original vector.\n",
    "\n",
    "Its members are `TRUE` if the corresponding members in the original\n",
    "vector are to be included in the slice, and `FALSE` if otherwise.\n",
    "\n",
    "-   This is what we called **boolean indexing** and masking in Python.\n",
    "\n",
    "For example, consider the following vector s of length 5."
   ]
  },
  {
   "cell_type": "code",
   "execution_count": 178,
   "id": "14cf4b51-1b0d-4ca1-a714-e5f3d265f23c",
   "metadata": {
    "tags": []
   },
   "outputs": [],
   "source": [
    "s <- c(\"aa\", \"bb\", \"cc\", \"dd\", \"ee\")"
   ]
  },
  {
   "cell_type": "markdown",
   "id": "bfb091fa-3ee3-4afa-b370-b464169d14b6",
   "metadata": {},
   "source": [
    "To retrieve the the second and fourth members of s, we define a logical\n",
    "vector L of the same length, and have its second and fourth members set\n",
    "as `TRUE`."
   ]
  },
  {
   "cell_type": "code",
   "execution_count": 179,
   "id": "4d6d083e-b29f-4e3a-9d8a-5265ed72e24a",
   "metadata": {
    "tags": []
   },
   "outputs": [
    {
     "data": {
      "text/html": [
       "<style>\n",
       ".list-inline {list-style: none; margin:0; padding: 0}\n",
       ".list-inline>li {display: inline-block}\n",
       ".list-inline>li:not(:last-child)::after {content: \"\\00b7\"; padding: 0 .5ex}\n",
       "</style>\n",
       "<ol class=list-inline><li>'bb'</li><li>'dd'</li></ol>\n"
      ],
      "text/latex": [
       "\\begin{enumerate*}\n",
       "\\item 'bb'\n",
       "\\item 'dd'\n",
       "\\end{enumerate*}\n"
      ],
      "text/markdown": [
       "1. 'bb'\n",
       "2. 'dd'\n",
       "\n",
       "\n"
      ],
      "text/plain": [
       "[1] \"bb\" \"dd\""
      ]
     },
     "metadata": {},
     "output_type": "display_data"
    }
   ],
   "source": [
    "L = c(FALSE, TRUE, FALSE, TRUE, FALSE)\n",
    "s[L] "
   ]
  },
  {
   "cell_type": "markdown",
   "id": "a03e44f4-ad4e-4ee8-ad7e-0e6a7dc541db",
   "metadata": {},
   "source": [
    "The code can be abbreviated into a single line."
   ]
  },
  {
   "cell_type": "code",
   "execution_count": 180,
   "id": "83febd2e-0e90-4a5f-96fa-38ea51ba6b0b",
   "metadata": {
    "tags": []
   },
   "outputs": [
    {
     "data": {
      "text/html": [
       "<style>\n",
       ".list-inline {list-style: none; margin:0; padding: 0}\n",
       ".list-inline>li {display: inline-block}\n",
       ".list-inline>li:not(:last-child)::after {content: \"\\00b7\"; padding: 0 .5ex}\n",
       "</style>\n",
       "<ol class=list-inline><li>'bb'</li><li>'dd'</li></ol>\n"
      ],
      "text/latex": [
       "\\begin{enumerate*}\n",
       "\\item 'bb'\n",
       "\\item 'dd'\n",
       "\\end{enumerate*}\n"
      ],
      "text/markdown": [
       "1. 'bb'\n",
       "2. 'dd'\n",
       "\n",
       "\n"
      ],
      "text/plain": [
       "[1] \"bb\" \"dd\""
      ]
     },
     "metadata": {},
     "output_type": "display_data"
    }
   ],
   "source": [
    "s[c(FALSE, TRUE, FALSE, TRUE, FALSE)]"
   ]
  },
  {
   "cell_type": "markdown",
   "id": "8c2e2864-ac11-4c55-8e09-b414822fb384",
   "metadata": {},
   "source": [
    "## Naming Vector Members with `names()`\n",
    "\n",
    "We can assign names to vector members, too."
   ]
  },
  {
   "cell_type": "code",
   "execution_count": 181,
   "id": "b73e0d58-0043-4ca9-bc85-b38520864d9b",
   "metadata": {
    "tags": []
   },
   "outputs": [
    {
     "data": {
      "text/html": [
       "<style>\n",
       ".dl-inline {width: auto; margin:0; padding: 0}\n",
       ".dl-inline>dt, .dl-inline>dd {float: none; width: auto; display: inline-block}\n",
       ".dl-inline>dt::after {content: \":\\0020\"; padding-right: .5ex}\n",
       ".dl-inline>dt:not(:first-of-type) {padding-left: .5ex}\n",
       "</style><dl class=dl-inline><dt>First</dt><dd>'Mary'</dd><dt>Last</dt><dd>'Sue'</dd></dl>\n"
      ],
      "text/latex": [
       "\\begin{description*}\n",
       "\\item[First] 'Mary'\n",
       "\\item[Last] 'Sue'\n",
       "\\end{description*}\n"
      ],
      "text/markdown": [
       "First\n",
       ":   'Mary'Last\n",
       ":   'Sue'\n",
       "\n"
      ],
      "text/plain": [
       " First   Last \n",
       "\"Mary\"  \"Sue\" "
      ]
     },
     "metadata": {},
     "output_type": "display_data"
    }
   ],
   "source": [
    "v <- c(\"Mary\", \"Sue\") \n",
    "names(v) <- c(\"First\", \"Last\") \n",
    "v "
   ]
  },
  {
   "cell_type": "markdown",
   "id": "854903f6-1c1c-4bb0-8b5b-e2cd3e81a4d8",
   "metadata": {},
   "source": [
    "Now we can retrieve the first member by name, much like a Python\n",
    "dictionary."
   ]
  },
  {
   "cell_type": "code",
   "execution_count": 182,
   "id": "1c64ad48-0d3c-4be4-9572-a01e0f2ca4b0",
   "metadata": {
    "tags": []
   },
   "outputs": [
    {
     "data": {
      "text/html": [
       "<strong>First:</strong> 'Mary'"
      ],
      "text/latex": [
       "\\textbf{First:} 'Mary'"
      ],
      "text/markdown": [
       "**First:** 'Mary'"
      ],
      "text/plain": [
       " First \n",
       "\"Mary\" "
      ]
     },
     "metadata": {},
     "output_type": "display_data"
    }
   ],
   "source": [
    "v[\"First\"] "
   ]
  },
  {
   "cell_type": "markdown",
   "id": "2107f5ca-666a-4c9d-98ec-8289b08bcc01",
   "metadata": {},
   "source": [
    "We can also reverse the order with a character string index vector."
   ]
  },
  {
   "cell_type": "code",
   "execution_count": 183,
   "id": "3071fff8-9e98-4b3e-8e9b-5b7fb7e1cd8f",
   "metadata": {
    "tags": []
   },
   "outputs": [
    {
     "data": {
      "text/html": [
       "<style>\n",
       ".dl-inline {width: auto; margin:0; padding: 0}\n",
       ".dl-inline>dt, .dl-inline>dd {float: none; width: auto; display: inline-block}\n",
       ".dl-inline>dt::after {content: \":\\0020\"; padding-right: .5ex}\n",
       ".dl-inline>dt:not(:first-of-type) {padding-left: .5ex}\n",
       "</style><dl class=dl-inline><dt>Last</dt><dd>'Sue'</dd><dt>First</dt><dd>'Mary'</dd></dl>\n"
      ],
      "text/latex": [
       "\\begin{description*}\n",
       "\\item[Last] 'Sue'\n",
       "\\item[First] 'Mary'\n",
       "\\end{description*}\n"
      ],
      "text/markdown": [
       "Last\n",
       ":   'Sue'First\n",
       ":   'Mary'\n",
       "\n"
      ],
      "text/plain": [
       "  Last  First \n",
       " \"Sue\" \"Mary\" "
      ]
     },
     "metadata": {},
     "output_type": "display_data"
    }
   ],
   "source": [
    "v[c(\"Last\", \"First\")]"
   ]
  },
  {
   "cell_type": "markdown",
   "id": "e3064d8f-d802-461a-bf0e-a533989af860",
   "metadata": {},
   "source": [
    "# Lists\n",
    "\n",
    "A list is a generic vector containing other objects.\n",
    "\n",
    "This is close to a Python list.\n",
    "\n",
    "The following variable `x` is a list containing copies of three vectors\n",
    "`n`, `s`, `b`, and `a` numeric value $3$."
   ]
  },
  {
   "cell_type": "code",
   "execution_count": 184,
   "id": "751920ea-73e7-4598-8706-cbf4151de431",
   "metadata": {
    "tags": []
   },
   "outputs": [
    {
     "data": {
      "text/html": [
       "<ol>\n",
       "\t<li><style>\n",
       ".list-inline {list-style: none; margin:0; padding: 0}\n",
       ".list-inline>li {display: inline-block}\n",
       ".list-inline>li:not(:last-child)::after {content: \"\\00b7\"; padding: 0 .5ex}\n",
       "</style>\n",
       "<ol class=list-inline><li>2</li><li>3</li><li>5</li></ol>\n",
       "</li>\n",
       "\t<li><style>\n",
       ".list-inline {list-style: none; margin:0; padding: 0}\n",
       ".list-inline>li {display: inline-block}\n",
       ".list-inline>li:not(:last-child)::after {content: \"\\00b7\"; padding: 0 .5ex}\n",
       "</style>\n",
       "<ol class=list-inline><li>'aa'</li><li>'bb'</li><li>'cc'</li><li>'dd'</li><li>'ee'</li></ol>\n",
       "</li>\n",
       "\t<li><style>\n",
       ".list-inline {list-style: none; margin:0; padding: 0}\n",
       ".list-inline>li {display: inline-block}\n",
       ".list-inline>li:not(:last-child)::after {content: \"\\00b7\"; padding: 0 .5ex}\n",
       "</style>\n",
       "<ol class=list-inline><li>TRUE</li><li>FALSE</li><li>TRUE</li><li>FALSE</li><li>FALSE</li></ol>\n",
       "</li>\n",
       "\t<li>3</li>\n",
       "</ol>\n"
      ],
      "text/latex": [
       "\\begin{enumerate}\n",
       "\\item \\begin{enumerate*}\n",
       "\\item 2\n",
       "\\item 3\n",
       "\\item 5\n",
       "\\end{enumerate*}\n",
       "\n",
       "\\item \\begin{enumerate*}\n",
       "\\item 'aa'\n",
       "\\item 'bb'\n",
       "\\item 'cc'\n",
       "\\item 'dd'\n",
       "\\item 'ee'\n",
       "\\end{enumerate*}\n",
       "\n",
       "\\item \\begin{enumerate*}\n",
       "\\item TRUE\n",
       "\\item FALSE\n",
       "\\item TRUE\n",
       "\\item FALSE\n",
       "\\item FALSE\n",
       "\\end{enumerate*}\n",
       "\n",
       "\\item 3\n",
       "\\end{enumerate}\n"
      ],
      "text/markdown": [
       "1. 1. 2\n",
       "2. 3\n",
       "3. 5\n",
       "\n",
       "\n",
       "\n",
       "2. 1. 'aa'\n",
       "2. 'bb'\n",
       "3. 'cc'\n",
       "4. 'dd'\n",
       "5. 'ee'\n",
       "\n",
       "\n",
       "\n",
       "3. 1. TRUE\n",
       "2. FALSE\n",
       "3. TRUE\n",
       "4. FALSE\n",
       "5. FALSE\n",
       "\n",
       "\n",
       "\n",
       "4. 3\n",
       "\n",
       "\n"
      ],
      "text/plain": [
       "[[1]]\n",
       "[1] 2 3 5\n",
       "\n",
       "[[2]]\n",
       "[1] \"aa\" \"bb\" \"cc\" \"dd\" \"ee\"\n",
       "\n",
       "[[3]]\n",
       "[1]  TRUE FALSE  TRUE FALSE FALSE\n",
       "\n",
       "[[4]]\n",
       "[1] 3\n"
      ]
     },
     "metadata": {},
     "output_type": "display_data"
    }
   ],
   "source": [
    "n <- c(2, 3, 5) \n",
    "s <- c(\"aa\", \"bb\", \"cc\", \"dd\", \"ee\") \n",
    "b <- c(TRUE, FALSE, TRUE, FALSE, FALSE) \n",
    "\n",
    "x <- list(n, s, b, 3)   # x contains copies of n, s, b\n",
    "x"
   ]
  },
  {
   "cell_type": "markdown",
   "id": "feacfd06-696c-434c-b83e-fed06fc4a1b8",
   "metadata": {},
   "source": [
    "Note that odd **bracket notation**.\n",
    "\n",
    "It indicates that each list member **contains** a vector, even if the\n",
    "length of the vector is $1.$"
   ]
  },
  {
   "cell_type": "markdown",
   "id": "ea7e6950-ec7c-46f7-9876-e997c20a7d3a",
   "metadata": {},
   "source": [
    "## List Slicing\n",
    "\n",
    "We retrieve a list slice with the single square bracket `[]` operator.\n",
    "\n",
    "The following is a slice containing the second member of `x`, which is a copy of `s`."
   ]
  },
  {
   "cell_type": "code",
   "execution_count": 185,
   "id": "f05108ae-c7d5-4402-91b2-4bf88965b4ed",
   "metadata": {
    "tags": []
   },
   "outputs": [
    {
     "data": {
      "text/html": [
       "<ol>\n",
       "\t<li><style>\n",
       ".list-inline {list-style: none; margin:0; padding: 0}\n",
       ".list-inline>li {display: inline-block}\n",
       ".list-inline>li:not(:last-child)::after {content: \"\\00b7\"; padding: 0 .5ex}\n",
       "</style>\n",
       "<ol class=list-inline><li>'aa'</li><li>'bb'</li><li>'cc'</li><li>'dd'</li><li>'ee'</li></ol>\n",
       "</li>\n",
       "</ol>\n"
      ],
      "text/latex": [
       "\\begin{enumerate}\n",
       "\\item \\begin{enumerate*}\n",
       "\\item 'aa'\n",
       "\\item 'bb'\n",
       "\\item 'cc'\n",
       "\\item 'dd'\n",
       "\\item 'ee'\n",
       "\\end{enumerate*}\n",
       "\n",
       "\\end{enumerate}\n"
      ],
      "text/markdown": [
       "1. 1. 'aa'\n",
       "2. 'bb'\n",
       "3. 'cc'\n",
       "4. 'dd'\n",
       "5. 'ee'\n",
       "\n",
       "\n",
       "\n",
       "\n",
       "\n"
      ],
      "text/plain": [
       "[[1]]\n",
       "[1] \"aa\" \"bb\" \"cc\" \"dd\" \"ee\"\n"
      ]
     },
     "metadata": {},
     "output_type": "display_data"
    }
   ],
   "source": [
    "x[2]"
   ]
  },
  {
   "cell_type": "markdown",
   "id": "2dd03b70-9b70-48d6-8fc2-fd5696ec0334",
   "metadata": {},
   "source": [
    "With a vector, we can retrieve a slice with multiple members.\n",
    "\n",
    "Here a slice containing the second and fourth members of `x`."
   ]
  },
  {
   "cell_type": "code",
   "execution_count": 186,
   "id": "1bcce2b3-63d5-41b1-8b9b-6a8d7d9bbae1",
   "metadata": {
    "tags": []
   },
   "outputs": [
    {
     "data": {
      "text/html": [
       "<ol>\n",
       "\t<li><style>\n",
       ".list-inline {list-style: none; margin:0; padding: 0}\n",
       ".list-inline>li {display: inline-block}\n",
       ".list-inline>li:not(:last-child)::after {content: \"\\00b7\"; padding: 0 .5ex}\n",
       "</style>\n",
       "<ol class=list-inline><li>'aa'</li><li>'bb'</li><li>'cc'</li><li>'dd'</li><li>'ee'</li></ol>\n",
       "</li>\n",
       "\t<li>3</li>\n",
       "</ol>\n"
      ],
      "text/latex": [
       "\\begin{enumerate}\n",
       "\\item \\begin{enumerate*}\n",
       "\\item 'aa'\n",
       "\\item 'bb'\n",
       "\\item 'cc'\n",
       "\\item 'dd'\n",
       "\\item 'ee'\n",
       "\\end{enumerate*}\n",
       "\n",
       "\\item 3\n",
       "\\end{enumerate}\n"
      ],
      "text/markdown": [
       "1. 1. 'aa'\n",
       "2. 'bb'\n",
       "3. 'cc'\n",
       "4. 'dd'\n",
       "5. 'ee'\n",
       "\n",
       "\n",
       "\n",
       "2. 3\n",
       "\n",
       "\n"
      ],
      "text/plain": [
       "[[1]]\n",
       "[1] \"aa\" \"bb\" \"cc\" \"dd\" \"ee\"\n",
       "\n",
       "[[2]]\n",
       "[1] 3\n"
      ]
     },
     "metadata": {},
     "output_type": "display_data"
    }
   ],
   "source": [
    "x[c(2, 4)]"
   ]
  },
  {
   "cell_type": "markdown",
   "id": "22c09a8c-c60d-438e-92b2-b330985df01b",
   "metadata": {},
   "source": [
    "## Member Reference with `[[]]`\n",
    "\n",
    "To reference a list member directly, we use the double square bracket\n",
    "`[[]]` operator.\n",
    "\n",
    "The following object `x[[2]]` is the second member of `x`.\n",
    "\n",
    "In other words, **`x[[2]]` is a true copy of `s`, not a slice containing\n",
    "`s` or its copy**."
   ]
  },
  {
   "cell_type": "code",
   "execution_count": 187,
   "id": "a18b2651-4317-440d-adb5-4d6fd7ab06d2",
   "metadata": {
    "tags": []
   },
   "outputs": [
    {
     "data": {
      "text/html": [
       "<ol>\n",
       "\t<li><style>\n",
       ".list-inline {list-style: none; margin:0; padding: 0}\n",
       ".list-inline>li {display: inline-block}\n",
       ".list-inline>li:not(:last-child)::after {content: \"\\00b7\"; padding: 0 .5ex}\n",
       "</style>\n",
       "<ol class=list-inline><li>'aa'</li><li>'bb'</li><li>'cc'</li><li>'dd'</li><li>'ee'</li></ol>\n",
       "</li>\n",
       "</ol>\n"
      ],
      "text/latex": [
       "\\begin{enumerate}\n",
       "\\item \\begin{enumerate*}\n",
       "\\item 'aa'\n",
       "\\item 'bb'\n",
       "\\item 'cc'\n",
       "\\item 'dd'\n",
       "\\item 'ee'\n",
       "\\end{enumerate*}\n",
       "\n",
       "\\end{enumerate}\n"
      ],
      "text/markdown": [
       "1. 1. 'aa'\n",
       "2. 'bb'\n",
       "3. 'cc'\n",
       "4. 'dd'\n",
       "5. 'ee'\n",
       "\n",
       "\n",
       "\n",
       "\n",
       "\n"
      ],
      "text/plain": [
       "[[1]]\n",
       "[1] \"aa\" \"bb\" \"cc\" \"dd\" \"ee\"\n"
      ]
     },
     "metadata": {},
     "output_type": "display_data"
    }
   ],
   "source": [
    "x[2]"
   ]
  },
  {
   "cell_type": "code",
   "execution_count": 188,
   "id": "4bbf152e-1376-4e5d-a65b-89a699f6707e",
   "metadata": {
    "tags": []
   },
   "outputs": [
    {
     "data": {
      "text/html": [
       "<style>\n",
       ".list-inline {list-style: none; margin:0; padding: 0}\n",
       ".list-inline>li {display: inline-block}\n",
       ".list-inline>li:not(:last-child)::after {content: \"\\00b7\"; padding: 0 .5ex}\n",
       "</style>\n",
       "<ol class=list-inline><li>'aa'</li><li>'bb'</li><li>'cc'</li><li>'dd'</li><li>'ee'</li></ol>\n"
      ],
      "text/latex": [
       "\\begin{enumerate*}\n",
       "\\item 'aa'\n",
       "\\item 'bb'\n",
       "\\item 'cc'\n",
       "\\item 'dd'\n",
       "\\item 'ee'\n",
       "\\end{enumerate*}\n"
      ],
      "text/markdown": [
       "1. 'aa'\n",
       "2. 'bb'\n",
       "3. 'cc'\n",
       "4. 'dd'\n",
       "5. 'ee'\n",
       "\n",
       "\n"
      ],
      "text/plain": [
       "[1] \"aa\" \"bb\" \"cc\" \"dd\" \"ee\""
      ]
     },
     "metadata": {},
     "output_type": "display_data"
    }
   ],
   "source": [
    "x[[2]]"
   ]
  },
  {
   "cell_type": "markdown",
   "id": "d26637e6-9d76-43a3-a0c3-e46ab422c084",
   "metadata": {},
   "source": [
    "We can modify its content directly."
   ]
  },
  {
   "cell_type": "code",
   "execution_count": 189,
   "id": "05320396-72a6-4137-872c-e21936c27dd0",
   "metadata": {
    "tags": []
   },
   "outputs": [],
   "source": [
    "x[[2]][1] = \"ta\" "
   ]
  },
  {
   "cell_type": "code",
   "execution_count": 190,
   "id": "7ae2ea16-9df3-4ea3-8f8b-6399e43a392c",
   "metadata": {
    "tags": []
   },
   "outputs": [
    {
     "data": {
      "text/html": [
       "<ol>\n",
       "\t<li><style>\n",
       ".list-inline {list-style: none; margin:0; padding: 0}\n",
       ".list-inline>li {display: inline-block}\n",
       ".list-inline>li:not(:last-child)::after {content: \"\\00b7\"; padding: 0 .5ex}\n",
       "</style>\n",
       "<ol class=list-inline><li>'ta'</li><li>'bb'</li><li>'cc'</li><li>'dd'</li><li>'ee'</li></ol>\n",
       "</li>\n",
       "</ol>\n"
      ],
      "text/latex": [
       "\\begin{enumerate}\n",
       "\\item \\begin{enumerate*}\n",
       "\\item 'ta'\n",
       "\\item 'bb'\n",
       "\\item 'cc'\n",
       "\\item 'dd'\n",
       "\\item 'ee'\n",
       "\\end{enumerate*}\n",
       "\n",
       "\\end{enumerate}\n"
      ],
      "text/markdown": [
       "1. 1. 'ta'\n",
       "2. 'bb'\n",
       "3. 'cc'\n",
       "4. 'dd'\n",
       "5. 'ee'\n",
       "\n",
       "\n",
       "\n",
       "\n",
       "\n"
      ],
      "text/plain": [
       "[[1]]\n",
       "[1] \"ta\" \"bb\" \"cc\" \"dd\" \"ee\"\n"
      ]
     },
     "metadata": {},
     "output_type": "display_data"
    }
   ],
   "source": [
    "x[2]"
   ]
  },
  {
   "cell_type": "markdown",
   "id": "675bc26a-0a36-4c16-bf68-4140a89b83b3",
   "metadata": {},
   "source": [
    "And `s` is unaffected."
   ]
  },
  {
   "cell_type": "code",
   "execution_count": 191,
   "id": "7651d4c5-8766-4aca-ae69-a57fef857ae2",
   "metadata": {
    "tags": []
   },
   "outputs": [
    {
     "data": {
      "text/html": [
       "<style>\n",
       ".list-inline {list-style: none; margin:0; padding: 0}\n",
       ".list-inline>li {display: inline-block}\n",
       ".list-inline>li:not(:last-child)::after {content: \"\\00b7\"; padding: 0 .5ex}\n",
       "</style>\n",
       "<ol class=list-inline><li>'aa'</li><li>'bb'</li><li>'cc'</li><li>'dd'</li><li>'ee'</li></ol>\n"
      ],
      "text/latex": [
       "\\begin{enumerate*}\n",
       "\\item 'aa'\n",
       "\\item 'bb'\n",
       "\\item 'cc'\n",
       "\\item 'dd'\n",
       "\\item 'ee'\n",
       "\\end{enumerate*}\n"
      ],
      "text/markdown": [
       "1. 'aa'\n",
       "2. 'bb'\n",
       "3. 'cc'\n",
       "4. 'dd'\n",
       "5. 'ee'\n",
       "\n",
       "\n"
      ],
      "text/plain": [
       "[1] \"aa\" \"bb\" \"cc\" \"dd\" \"ee\""
      ]
     },
     "metadata": {},
     "output_type": "display_data"
    }
   ],
   "source": [
    "s"
   ]
  }
 ],
 "metadata": {
  "kernelspec": {
   "display_name": "R Environment",
   "language": "R",
   "name": "r_env"
  },
  "language_info": {
   "codemirror_mode": "r",
   "file_extension": ".r",
   "mimetype": "text/x-r-source",
   "name": "R",
   "pygments_lexer": "r",
   "version": "4.3.1"
  }
 },
 "nbformat": 4,
 "nbformat_minor": 5
}
