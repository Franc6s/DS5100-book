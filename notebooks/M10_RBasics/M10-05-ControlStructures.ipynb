{
 "cells": [
  {
   "cell_type": "markdown",
   "id": "3633ce53-ba1b-4e2e-8543-32968b6c44b7",
   "metadata": {},
   "source": [
    "# NB: Control Structures and Functions"
   ]
  },
  {
   "cell_type": "markdown",
   "id": "5c674f34-8ec2-4d4d-a9b8-78a2addc6c2e",
   "metadata": {
    "tags": []
   },
   "source": [
    "## `if`/`else` Statements\n",
    "\n",
    "You've seen this in Python.\n",
    "\n",
    "They work the same way in both languages.\n",
    "\n",
    "Here's their syntax in R.\n",
    "\n",
    "```r\n",
    "if (<condition>) {\n",
    "        ## do something\n",
    "} \n",
    "\n",
    "if (<condition>) {\n",
    "        ## do something\n",
    "} \n",
    "else {\n",
    "        ## do something else\n",
    "}\n",
    "\n",
    "if (<condition1>) {\n",
    "        ## do something\n",
    "} else if (<condition2>)  {\n",
    "        ## do something different\n",
    "} else {\n",
    "        ## do something different\n",
    "}\n",
    "```\n",
    "\n",
    "Generate a uniform random number:"
   ]
  },
  {
   "cell_type": "code",
   "execution_count": 5,
   "id": "c4e667c0-3e44-4194-bac8-4aa1d4dd9e44",
   "metadata": {
    "tags": []
   },
   "outputs": [
    {
     "data": {
      "text/html": [
       "7.01629590708762"
      ],
      "text/latex": [
       "7.01629590708762"
      ],
      "text/markdown": [
       "7.01629590708762"
      ],
      "text/plain": [
       "[1] 7.016296"
      ]
     },
     "metadata": {},
     "output_type": "display_data"
    },
    {
     "data": {
      "text/html": [
       "10"
      ],
      "text/latex": [
       "10"
      ],
      "text/markdown": [
       "10"
      ],
      "text/plain": [
       "[1] 10"
      ]
     },
     "metadata": {},
     "output_type": "display_data"
    }
   ],
   "source": [
    "x <- runif(1, 0, 10) # From the Uniform Distribution\n",
    "\n",
    "if (x > 3) {\n",
    "    y <- 10\n",
    "} else {\n",
    "    y <- 0\n",
    "}\n",
    "\n",
    "x\n",
    "y"
   ]
  },
  {
   "cell_type": "markdown",
   "id": "24886fe9-c065-43a9-b939-c938f9b83fea",
   "metadata": {
    "tags": []
   },
   "source": [
    "You assign an `if` statement to a variable."
   ]
  },
  {
   "cell_type": "code",
   "execution_count": 6,
   "id": "1fd664b8-3e07-4ca9-9762-1e5b9d44e592",
   "metadata": {
    "tags": []
   },
   "outputs": [
    {
     "data": {
      "text/html": [
       "10"
      ],
      "text/latex": [
       "10"
      ],
      "text/markdown": [
       "10"
      ],
      "text/plain": [
       "[1] 10"
      ]
     },
     "metadata": {},
     "output_type": "display_data"
    }
   ],
   "source": [
    "z <- if (x > 3) {\n",
    "  10\n",
    "} else { \n",
    "  0\n",
    "}\n",
    "\n",
    "z"
   ]
  },
  {
   "cell_type": "markdown",
   "id": "b973bd54-be87-424c-8fed-4722ed79828b",
   "metadata": {
    "tags": []
   },
   "source": [
    "Of course, you can stack `if` blocks, too.\n",
    "\n",
    "```r\n",
    "if (<condition1>) {\n",
    "    \n",
    "}\n",
    "\n",
    "if (<condition2>) {\n",
    "\n",
    "}\n",
    "```"
   ]
  },
  {
   "cell_type": "markdown",
   "id": "cc5f95ad-b6b9-414b-acf5-5214c5b0857a",
   "metadata": {
    "tags": []
   },
   "source": [
    "## `for` Loops\n",
    "\n",
    "For loops are straight-forward. The take an iterator variable, e.g. `i`,\n",
    "and assign it successive values from a sequence or vector.\n",
    "\n",
    "For loops are often used to iterate over the elements of an object\n",
    "(list, vector, etc.)."
   ]
  },
  {
   "cell_type": "code",
   "execution_count": 10,
   "id": "b15112a5-adfa-47b6-b1f5-ff74ad9d49c6",
   "metadata": {
    "tags": []
   },
   "outputs": [
    {
     "name": "stdout",
     "output_type": "stream",
     "text": [
      "[1] 1\n",
      "[1] 2\n",
      "[1] 3\n",
      "[1] 4\n",
      "[1] 5\n",
      "[1] 6\n",
      "[1] 7\n",
      "[1] 8\n",
      "[1] 9\n",
      "[1] 10\n"
     ]
    }
   ],
   "source": [
    "for (i in 1:10) {\n",
    "  print(i)\n",
    "}"
   ]
  },
  {
   "cell_type": "markdown",
   "id": "fffb021e-0797-4f8d-b39f-581b9d1836a7",
   "metadata": {
    "tags": []
   },
   "source": [
    "According to Hadley Wickham, loops are pretty much the only looping\n",
    "construct that you will need in R.\n",
    "\n",
    "The following three loops all have the same behavior."
   ]
  },
  {
   "cell_type": "code",
   "execution_count": 11,
   "id": "b434c513-2020-47c4-9b1a-0c07d3d423da",
   "metadata": {
    "tags": []
   },
   "outputs": [
    {
     "name": "stdout",
     "output_type": "stream",
     "text": [
      "[1] \"a\"\n",
      "[1] \"b\"\n",
      "[1] \"c\"\n",
      "[1] \"d\"\n"
     ]
    }
   ],
   "source": [
    "x <- c(\"a\", \"b\", \"c\", \"d\")\n",
    "for (i in 1:4) {\n",
    "  print(x[i])  \n",
    "}"
   ]
  },
  {
   "cell_type": "markdown",
   "id": "9d7ca966-4d6a-43c7-ab1d-7a7e6336275f",
   "metadata": {
    "tags": []
   },
   "source": [
    "## `seq_along()`\n",
    "\n",
    "The `seq_along()` function is commonly used in conjunction with for\n",
    "loops in order to generate an integer sequence based on the length of an\n",
    "object (in this case, the object x)."
   ]
  },
  {
   "cell_type": "code",
   "execution_count": 12,
   "id": "3808c3de-4ac5-43bf-b8c6-fdd0c77d0e74",
   "metadata": {
    "tags": []
   },
   "outputs": [
    {
     "data": {
      "text/html": [
       "<style>\n",
       ".list-inline {list-style: none; margin:0; padding: 0}\n",
       ".list-inline>li {display: inline-block}\n",
       ".list-inline>li:not(:last-child)::after {content: \"\\00b7\"; padding: 0 .5ex}\n",
       "</style>\n",
       "<ol class=list-inline><li>'a'</li><li>'b'</li><li>'c'</li><li>'d'</li></ol>\n"
      ],
      "text/latex": [
       "\\begin{enumerate*}\n",
       "\\item 'a'\n",
       "\\item 'b'\n",
       "\\item 'c'\n",
       "\\item 'd'\n",
       "\\end{enumerate*}\n"
      ],
      "text/markdown": [
       "1. 'a'\n",
       "2. 'b'\n",
       "3. 'c'\n",
       "4. 'd'\n",
       "\n",
       "\n"
      ],
      "text/plain": [
       "[1] \"a\" \"b\" \"c\" \"d\""
      ]
     },
     "metadata": {},
     "output_type": "display_data"
    }
   ],
   "source": [
    "x"
   ]
  },
  {
   "cell_type": "markdown",
   "id": "7f17f716-aecf-4d4d-bf06-1627f254aa46",
   "metadata": {
    "tags": []
   },
   "source": [
    "Generate a sequence based on length of 'x':"
   ]
  },
  {
   "cell_type": "code",
   "execution_count": 13,
   "id": "63828711-4091-449c-9d9c-85d95b1b30b9",
   "metadata": {
    "tags": []
   },
   "outputs": [
    {
     "name": "stdout",
     "output_type": "stream",
     "text": [
      "[1] \"a\"\n",
      "[1] \"b\"\n",
      "[1] \"c\"\n",
      "[1] \"d\"\n"
     ]
    }
   ],
   "source": [
    "for (i in seq_along(x)) {   \n",
    "  print(x[i])\n",
    "}"
   ]
  },
  {
   "cell_type": "markdown",
   "id": "fdb40059-54aa-4074-adea-7b4c3818b565",
   "metadata": {
    "tags": []
   },
   "source": [
    "It is not necessary to use an index-type variable."
   ]
  },
  {
   "cell_type": "code",
   "execution_count": 14,
   "id": "2368de1f-f926-4e8b-b14a-9e742c8d8006",
   "metadata": {
    "tags": []
   },
   "outputs": [
    {
     "name": "stdout",
     "output_type": "stream",
     "text": [
      "[1] \"a\"\n",
      "[1] \"b\"\n",
      "[1] \"c\"\n",
      "[1] \"d\"\n"
     ]
    }
   ],
   "source": [
    "for (letter in x) {\n",
    "  print(letter)\n",
    "}"
   ]
  },
  {
   "cell_type": "markdown",
   "id": "d2ce028e-3c84-4bcb-8052-e4d02c957873",
   "metadata": {
    "tags": []
   },
   "source": [
    "For one line loops, the curly braces are not strictly necessary."
   ]
  },
  {
   "cell_type": "code",
   "execution_count": 15,
   "id": "0382c7a6-406c-46c5-a0af-c3538c16789d",
   "metadata": {
    "tags": []
   },
   "outputs": [
    {
     "name": "stdout",
     "output_type": "stream",
     "text": [
      "[1] \"a\"\n",
      "[1] \"b\"\n",
      "[1] \"c\"\n",
      "[1] \"d\"\n"
     ]
    }
   ],
   "source": [
    "for (i in 1:4) print(x[i])"
   ]
  },
  {
   "cell_type": "markdown",
   "id": "0110ac46-90de-4396-bbbc-98822f7c4034",
   "metadata": {
    "tags": []
   },
   "source": [
    "## Nested `for` loops\n",
    "\n",
    "Dor loops can be nested inside of each other."
   ]
  },
  {
   "cell_type": "code",
   "execution_count": 16,
   "id": "61292dc2-283d-4754-aac9-5d10c0d24659",
   "metadata": {
    "tags": []
   },
   "outputs": [
    {
     "name": "stdout",
     "output_type": "stream",
     "text": [
      "[1] 1\n",
      "[1] 3\n",
      "[1] 5\n",
      "[1] 2\n",
      "[1] 4\n",
      "[1] 6\n"
     ]
    }
   ],
   "source": [
    "x <- matrix(1:6, 2, 3)\n",
    "for (i in seq_len(nrow(x))) {\n",
    "  for (j in seq_len(ncol(x))) {\n",
    "    print(x[i, j])\n",
    "  }   \n",
    "}"
   ]
  },
  {
   "cell_type": "markdown",
   "id": "03c32a93-a7ec-4e66-ac72-313207c5a3d9",
   "metadata": {
    "tags": []
   },
   "source": [
    "Nested loops are used to generate multidimensional or hierarchical data\n",
    "structures (e.g. matrices, lists)."
   ]
  },
  {
   "cell_type": "markdown",
   "id": "417a7254-a1c2-41ed-a29c-c21ff3851dcb",
   "metadata": {
    "tags": []
   },
   "source": [
    "## `while` Loops\n",
    "\n",
    "As with Python, while loops start with a condition. It loops while the\n",
    "condition is true and stops when it is false.\n",
    "\n",
    "Remembe, while loops can go on forever is the truth condition is never\n",
    "met."
   ]
  },
  {
   "cell_type": "code",
   "execution_count": 17,
   "id": "3b37a3a2-26ef-458d-aba0-702a03f9e6cb",
   "metadata": {
    "tags": []
   },
   "outputs": [
    {
     "name": "stdout",
     "output_type": "stream",
     "text": [
      "[1] 0\n",
      "[1] 1\n",
      "[1] 2\n",
      "[1] 3\n",
      "[1] 4\n",
      "[1] 5\n",
      "[1] 6\n",
      "[1] 7\n",
      "[1] 8\n",
      "[1] 9\n"
     ]
    }
   ],
   "source": [
    "count <- 0\n",
    "while (count < 10) {\n",
    "  print(count)\n",
    "  count <- count + 1\n",
    "}"
   ]
  },
  {
   "cell_type": "markdown",
   "id": "077fe5b5-13cf-4084-99cd-4d90ddd23a26",
   "metadata": {
    "tags": []
   },
   "source": [
    "## `repeat` Loops\n",
    "\n",
    "`repeat` loops are used by R.\n",
    "\n",
    "They initiate an infinite loop right from the start.\n",
    "\n",
    "The only way to exit a repeat loop is to call break on an internal\n",
    "condition."
   ]
  },
  {
   "cell_type": "markdown",
   "id": "47467515-11fd-4f6b-b216-86da63678930",
   "metadata": {
    "tags": []
   },
   "source": [
    "```r\n",
    "x0 <- 1\n",
    "tol <- 1e-8\n",
    "\n",
    "repeat {\n",
    "  x1 <- computeEstimate()\n",
    "  if (abs(x1 - x0) < tol) {  ## Close enough?\n",
    "    break\n",
    "  } else {\n",
    "    x0 <- x1\n",
    "  } \n",
    "}\n",
    "```"
   ]
  },
  {
   "cell_type": "markdown",
   "id": "62aff44c-24ed-42be-9c7a-8cb26bb6cc21",
   "metadata": {
    "tags": []
   },
   "source": [
    "## `next` and `break`\n",
    "\n",
    "`next` is used to skip an iteration of a loop. \n",
    "\n",
    "This is the same as `continue` in Python."
   ]
  },
  {
   "cell_type": "code",
   "execution_count": 23,
   "id": "d72da0dc-464e-479f-86ad-c7862ac65463",
   "metadata": {
    "tags": []
   },
   "outputs": [],
   "source": [
    "for (i in 1:100) {\n",
    "  if (i <= 20) {\n",
    "    # Skip the first 20 iterations\n",
    "    next                \n",
    "  }     \n",
    "  # Do something here\n",
    "}"
   ]
  },
  {
   "cell_type": "markdown",
   "id": "c8f86d10-848a-40df-a783-8ef398740134",
   "metadata": {
    "tags": []
   },
   "source": [
    "`break` is used to exit a loop immediately."
   ]
  },
  {
   "cell_type": "code",
   "execution_count": 22,
   "id": "4e16b62c-80b2-49a1-adce-0b9bed3bc297",
   "metadata": {
    "tags": []
   },
   "outputs": [
    {
     "name": "stdout",
     "output_type": "stream",
     "text": [
      "[1] 1\n",
      "[1] 2\n",
      "[1] 3\n",
      "[1] 4\n",
      "[1] 5\n",
      "[1] 6\n",
      "[1] 7\n",
      "[1] 8\n",
      "[1] 9\n",
      "[1] 10\n",
      "[1] 11\n",
      "[1] 12\n",
      "[1] 13\n",
      "[1] 14\n",
      "[1] 15\n",
      "[1] 16\n",
      "[1] 17\n",
      "[1] 18\n",
      "[1] 19\n",
      "[1] 20\n",
      "[1] 21\n"
     ]
    }
   ],
   "source": [
    "for (i in 1:100) {\n",
    "  print(i)\n",
    "  if (i > 20) {\n",
    "    # Stop loop after 20 iterations\n",
    "    break  \n",
    "  }     \n",
    "}"
   ]
  }
 ],
 "metadata": {
  "kernelspec": {
   "display_name": "R Environment",
   "language": "R",
   "name": "r_env"
  },
  "language_info": {
   "codemirror_mode": "r",
   "file_extension": ".r",
   "mimetype": "text/x-r-source",
   "name": "R",
   "pygments_lexer": "r",
   "version": "4.3.1"
  }
 },
 "nbformat": 4,
 "nbformat_minor": 5
}
