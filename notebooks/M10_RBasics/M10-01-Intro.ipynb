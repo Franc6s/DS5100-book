{
 "cells": [
  {
   "cell_type": "markdown",
   "id": "ebe84028-051c-4bd1-9ae3-6993e1039589",
   "metadata": {
    "slideshow": {
     "slide_type": "slide"
    },
    "tags": []
   },
   "source": [
    "# NB: Introducing R"
   ]
  },
  {
   "cell_type": "markdown",
   "id": "dbdd04fd-16ed-4d52-bb63-89498a1769c5",
   "metadata": {
    "slideshow": {
     "slide_type": "slide"
    },
    "tags": []
   },
   "source": [
    "## What is R?\n",
    "\n",
    "We have been studying Python as a data processing language from the perspective of data science. But **R is in many ways the original data science language**.\n",
    "\n",
    "It was built from the beginning by and for data analysts, statisticians, and scientists.\n",
    "\n",
    "Note, however, the R was *not* built by and for data miners, who compose a large segment of the data science community."
   ]
  },
  {
   "cell_type": "markdown",
   "id": "4f203bc2-a219-44c8-8311-ef8df7b78f22",
   "metadata": {
    "tags": []
   },
   "source": [
    "## Why Study R?\n",
    "\n",
    "There are many reasons for this:\n",
    "\n",
    "-   **Python borrows** many concepts from R, including the data frame.\n",
    "\n",
    "-   The R community provides **insights** into data processing through\n",
    "    excellent documentation and well-designed code.\n",
    "\n",
    "-   Although not as popular as it once was, it is still widely\n",
    "    used---**you may find yourself on a team that prefers it**.\n",
    "\n",
    "-   Many of the courses in the **UVA SDS programs use R**.\n",
    "\n",
    "-   It's **not that hard**, especially once you know basic programming\n",
    "    concepts."
   ]
  },
  {
   "cell_type": "markdown",
   "id": "f484601f-a1f4-4a4b-bd13-eea282efadec",
   "metadata": {},
   "source": [
    "## R's Design\n",
    "\n",
    "-   A scripting language, like Python.\n",
    "\n",
    "-   Designed to support statistical computing above all.\n",
    "\n",
    "-   Very strong academic community.\n",
    "\n",
    "-   Many domain-specific functions are built-in.\n",
    "\n",
    "-   Vector-first thinking.\n",
    "\n",
    "-   Everything is an object."
   ]
  },
  {
   "cell_type": "markdown",
   "id": "41d128cd-80c0-45b9-a15d-0aee8e8e272f",
   "metadata": {},
   "source": [
    "## R Syntax\n",
    "\n",
    "-   Syntax loosely follows traditional `C`-style\n",
    "\n",
    "    -   **Braces** `{` and `}` are used to form blocks.\n",
    "\n",
    "    -   **Semi-colons** are used optionally to end statements, required\n",
    "        if on same line.\n",
    "\n",
    "-   **Assignments** are made with `<-` or `->`.\n",
    "\n",
    "-   **Dots** `.` have no special meaning---they are not operators.\n",
    "\n",
    "    -   They are used like underscores `_` in Python.\n",
    "\n",
    "-   Single and double **quotes** have the same meaning, but double\n",
    "    quotes tend to be preferred.\n",
    "\n",
    "    -   Use single quotes if you expect your string to contain double\n",
    "        quotes.\n",
    "\n",
    "    -   Backslash escape applies to R strings, although since there are\n",
    "        no raw strings---Python's `r\" \"`---we often have to supply\n",
    "        double backslashes in regular expressions."
   ]
  },
  {
   "cell_type": "markdown",
   "id": "a947c7d1-dbd9-4019-9ea5-b3feab348ce8",
   "metadata": {},
   "source": [
    "## Using R\n",
    "\n",
    "-   Although there are many ways to run R programs, by far the most\n",
    "    common is to use **R Studio**.\n",
    "\n",
    "-   R Studio provides **a fully-functional programming environment**\n",
    "    that includes an editor, a command-line, access to the file system,\n",
    "    a help system, an installation system, etc.\n",
    "\n",
    "    -   Other programs run R too, though, such as VSCode and Jupyter.\n",
    "\n",
    "-   R programs can be plain text files with an `.r` suffix, R Markdown\n",
    "    files (`.Rmd`), or many other kinds of file.\n",
    "\n",
    "    -   We will discuss these in a later module.\n",
    "\n",
    "OK, so let's get into the basics---beginning with data types."
   ]
  },
  {
   "cell_type": "markdown",
   "id": "9dd5ca79-e1a4-443e-837d-4e32fd03f286",
   "metadata": {
    "tags": []
   },
   "source": [
    "## Working Directory\n",
    "\n",
    "Finally, the code samples above assume the data files are located in the\n",
    "R working directory, which can be found with the function `getwd()`.\n",
    "\n",
    "Note that these things can also be set using the RStudio's GUI."
   ]
  },
  {
   "cell_type": "code",
   "execution_count": 215,
   "id": "9218c8f0-f512-4711-82da-8cf9fd22f0df",
   "metadata": {
    "tags": []
   },
   "outputs": [
    {
     "data": {
      "text/html": [
       "'/sfs/qumulo/qhome/rca2t/Documents/MSDS/DS5100/repo-book/notebooks/M10_RBasics'"
      ],
      "text/latex": [
       "'/sfs/qumulo/qhome/rca2t/Documents/MSDS/DS5100/repo-book/notebooks/M10\\_RBasics'"
      ],
      "text/markdown": [
       "'/sfs/qumulo/qhome/rca2t/Documents/MSDS/DS5100/repo-book/notebooks/M10_RBasics'"
      ],
      "text/plain": [
       "[1] \"/sfs/qumulo/qhome/rca2t/Documents/MSDS/DS5100/repo-book/notebooks/M10_RBasics\""
      ]
     },
     "metadata": {},
     "output_type": "display_data"
    }
   ],
   "source": [
    "getwd()               # get current working directory"
   ]
  },
  {
   "cell_type": "markdown",
   "id": "4329de0f-60b8-4614-b5de-0d78ba495b71",
   "metadata": {
    "tags": []
   },
   "source": [
    "You can select a different working directory with the function setwd(),\n",
    "and thus avoid entering the full path of the data files"
   ]
  },
  {
   "cell_type": "code",
   "execution_count": 203,
   "id": "bf0b6322-6463-4ca5-97b3-8139baddc1a7",
   "metadata": {
    "tags": []
   },
   "outputs": [],
   "source": [
    "# setwd(\"<new path>\")   # set working directory"
   ]
  },
  {
   "cell_type": "markdown",
   "id": "6b4ca82b-1b16-40ed-b089-141e77b5bbcf",
   "metadata": {
    "tags": []
   },
   "source": [
    "Note that the forward slash should be used as the path separator even on\n",
    "Windows platform"
   ]
  },
  {
   "cell_type": "code",
   "execution_count": 197,
   "id": "15971f25-80f3-4848-97cb-db344a9053ee",
   "metadata": {
    "tags": []
   },
   "outputs": [],
   "source": [
    "# setwd(\"C:/MyDoc\")"
   ]
  },
  {
   "cell_type": "markdown",
   "id": "7b6a7141-c776-4599-adda-e86c74b1bd79",
   "metadata": {},
   "source": [
    "## Installing and Loading Packages\n",
    "\n",
    "Packages need to be installed once."
   ]
  },
  {
   "cell_type": "code",
   "execution_count": 105,
   "id": "66a57db5-836b-4de7-b069-18f49662aabd",
   "metadata": {
    "tags": []
   },
   "outputs": [
    {
     "name": "stderr",
     "output_type": "stream",
     "text": [
      "also installing the dependencies ‘NLP’, ‘slam’, ‘BH’\n",
      "\n",
      "\n",
      "Warning message in install.packages(\"tm\"):\n",
      "“installation of package ‘slam’ had non-zero exit status”\n",
      "Warning message in install.packages(\"tm\"):\n",
      "“installation of package ‘tm’ had non-zero exit status”\n"
     ]
    }
   ],
   "source": [
    "install.packages(\"tm\")  "
   ]
  },
  {
   "cell_type": "markdown",
   "id": "5514cf2f-c12f-48bd-a718-6276201678e4",
   "metadata": {},
   "source": [
    "You can also install thing using the Package window.\n",
    "\n",
    "Once they are installed, you import them with the `library()` function:"
   ]
  },
  {
   "cell_type": "code",
   "execution_count": 104,
   "id": "547a6083-d1d1-44cb-bd47-afa727b4645f",
   "metadata": {
    "tags": []
   },
   "outputs": [
    {
     "ename": "ERROR",
     "evalue": "Error in library(tm): there is no package called ‘tm’\n",
     "output_type": "error",
     "traceback": [
      "Error in library(tm): there is no package called ‘tm’\nTraceback:\n",
      "1. library(tm)"
     ]
    }
   ],
   "source": [
    "library(tm)"
   ]
  },
  {
   "cell_type": "markdown",
   "id": "0f45c711-22a1-4c23-8cc9-702a9ada51ee",
   "metadata": {},
   "source": [
    "Note that the library name is quoted in when installing, but not when\n",
    "using `library`."
   ]
  },
  {
   "cell_type": "markdown",
   "id": "da0b6171-5693-44ae-b76c-9ded59ea32a2",
   "metadata": {},
   "source": [
    "## Installing an R Kernel\n",
    "\n",
    "You can run R in Jupyter by installing an R kernel. \n",
    "\n",
    "<!-- Here's a [how to](M11_00_Rkernel.pdf) document to set this up. -->\n",
    "\n",
    "In brief, here's what you do. First, at the command line:\n",
    "```bash\n",
    "conda create -n r_env r-essentials r-base\n",
    "conda activate r_env\n",
    "R # This opens the R shell\n",
    "```\n",
    "Then, in the R shell:\n",
    "```r\n",
    "IRkernel::installspec(name = 'r_env', displayname = 'R Environment')\n",
    "quit()\n",
    "```\n",
    "\n",
    "Now, fire up a Jupyter Lab instance from the OpenOnDemand page and select the kernel when you create a new notebook."
   ]
  }
 ],
 "metadata": {
  "kernelspec": {
   "display_name": "R Environment",
   "language": "R",
   "name": "r_env"
  },
  "language_info": {
   "codemirror_mode": "r",
   "file_extension": ".r",
   "mimetype": "text/x-r-source",
   "name": "R",
   "pygments_lexer": "r",
   "version": "4.3.1"
  }
 },
 "nbformat": 4,
 "nbformat_minor": 5
}
