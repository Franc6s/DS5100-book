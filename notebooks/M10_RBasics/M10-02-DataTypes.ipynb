{
 "cells": [
  {
   "cell_type": "markdown",
   "id": "ebe84028-051c-4bd1-9ae3-6993e1039589",
   "metadata": {},
   "source": [
    "# NB: Data Types"
   ]
  },
  {
   "cell_type": "markdown",
   "id": "a7b59172-1758-4926-9292-d3b4a5b270e4",
   "metadata": {
    "tags": []
   },
   "source": [
    "# R Data Types and Operators\n",
    "\n",
    "There are several basic R data types.\n",
    "\n",
    "-   Numeric\n",
    "-   Integer\n",
    "-   Complex\n",
    "-   Logical\n",
    "-   Character"
   ]
  },
  {
   "cell_type": "markdown",
   "id": "aa0f168d-acd2-4a47-a2bf-ad704e03e37c",
   "metadata": {
    "tags": []
   },
   "source": [
    "## Numeric\n",
    "\n",
    "Floating point numbers are called \"numerics\" in R.\n",
    "\n",
    "It is the **default** data type.\n",
    "\n",
    "If we assign a decimal value to a variable x, x will be of numeric type:"
   ]
  },
  {
   "cell_type": "code",
   "execution_count": 201,
   "id": "743bd372-3991-44bc-9808-bbef759f4ab8",
   "metadata": {
    "tags": []
   },
   "outputs": [
    {
     "data": {
      "text/html": [
       "10.5"
      ],
      "text/latex": [
       "10.5"
      ],
      "text/markdown": [
       "10.5"
      ],
      "text/plain": [
       "[1] 10.5"
      ]
     },
     "metadata": {},
     "output_type": "display_data"
    }
   ],
   "source": [
    "x <- 10.5      # assign a decimal value \n",
    "x              # print the value of x "
   ]
  },
  {
   "cell_type": "code",
   "execution_count": 132,
   "id": "f512b879-b5ec-40a1-b006-1c7a9f726fcf",
   "metadata": {
    "tags": []
   },
   "outputs": [
    {
     "data": {
      "text/html": [
       "'numeric'"
      ],
      "text/latex": [
       "'numeric'"
      ],
      "text/markdown": [
       "'numeric'"
      ],
      "text/plain": [
       "[1] \"numeric\""
      ]
     },
     "metadata": {},
     "output_type": "display_data"
    }
   ],
   "source": [
    "class(x)      # print the class name of x "
   ]
  },
  {
   "cell_type": "markdown",
   "id": "6706bf66-3660-4da9-9d03-735c077476e7",
   "metadata": {},
   "source": [
    "Even if we assign an integer to a variable k, it is will still be saved\n",
    "as a numeric value."
   ]
  },
  {
   "cell_type": "code",
   "execution_count": 133,
   "id": "f2d58797-56bb-4f38-8920-3faee7487361",
   "metadata": {
    "tags": []
   },
   "outputs": [
    {
     "data": {
      "text/html": [
       "1"
      ],
      "text/latex": [
       "1"
      ],
      "text/markdown": [
       "1"
      ],
      "text/plain": [
       "[1] 1"
      ]
     },
     "metadata": {},
     "output_type": "display_data"
    }
   ],
   "source": [
    "k <- 1\n",
    "k              # print the value of k "
   ]
  },
  {
   "cell_type": "code",
   "execution_count": 134,
   "id": "3d8a940a-1bc3-4116-91fc-b86a163a247d",
   "metadata": {
    "tags": []
   },
   "outputs": [
    {
     "data": {
      "text/html": [
       "'numeric'"
      ],
      "text/latex": [
       "'numeric'"
      ],
      "text/markdown": [
       "'numeric'"
      ],
      "text/plain": [
       "[1] \"numeric\""
      ]
     },
     "metadata": {},
     "output_type": "display_data"
    }
   ],
   "source": [
    "class(k)       # print the class name of k "
   ]
  },
  {
   "cell_type": "markdown",
   "id": "148b1529-3795-44e7-8246-2c5dda9f2cc5",
   "metadata": {},
   "source": [
    "That k is not an integer can be confirmed with `is.integer()`:"
   ]
  },
  {
   "cell_type": "code",
   "execution_count": 135,
   "id": "8c0e42cc-30ad-4b60-b854-6f2b267a0139",
   "metadata": {
    "tags": []
   },
   "outputs": [
    {
     "data": {
      "text/html": [
       "FALSE"
      ],
      "text/latex": [
       "FALSE"
      ],
      "text/markdown": [
       "FALSE"
      ],
      "text/plain": [
       "[1] FALSE"
      ]
     },
     "metadata": {},
     "output_type": "display_data"
    }
   ],
   "source": [
    "is.integer(k)  # is k an integer?"
   ]
  },
  {
   "cell_type": "markdown",
   "id": "529258d2-a3e8-45ec-894e-6403cc3f864b",
   "metadata": {},
   "source": [
    "## Integers\n",
    "\n",
    "To create an integer variable in R, we use `as.integer()`."
   ]
  },
  {
   "cell_type": "code",
   "execution_count": 204,
   "id": "0747b55f-f9f9-4848-8aa8-6e891c88553c",
   "metadata": {
    "tags": []
   },
   "outputs": [
    {
     "data": {
      "text/html": [
       "3"
      ],
      "text/latex": [
       "3"
      ],
      "text/markdown": [
       "3"
      ],
      "text/plain": [
       "[1] 3"
      ]
     },
     "metadata": {},
     "output_type": "display_data"
    }
   ],
   "source": [
    "y <- as.integer(3) \n",
    "y              # print the value of y "
   ]
  },
  {
   "cell_type": "code",
   "execution_count": 205,
   "id": "e4898a9e-f6f5-47c1-ab06-86efde129c6d",
   "metadata": {
    "tags": []
   },
   "outputs": [
    {
     "data": {
      "text/html": [
       "'integer'"
      ],
      "text/latex": [
       "'integer'"
      ],
      "text/markdown": [
       "'integer'"
      ],
      "text/plain": [
       "[1] \"integer\""
      ]
     },
     "metadata": {},
     "output_type": "display_data"
    },
    {
     "data": {
      "text/html": [
       "TRUE"
      ],
      "text/latex": [
       "TRUE"
      ],
      "text/markdown": [
       "TRUE"
      ],
      "text/plain": [
       "[1] TRUE"
      ]
     },
     "metadata": {},
     "output_type": "display_data"
    }
   ],
   "source": [
    "class(y)       # print the class name of y \n",
    "is.integer(y)  # is y an integer? "
   ]
  },
  {
   "cell_type": "markdown",
   "id": "16c34136-7246-4120-8100-a1a91590f9a2",
   "metadata": {},
   "source": [
    "We can also declare an integer by appending an `L` suffix."
   ]
  },
  {
   "cell_type": "code",
   "execution_count": 206,
   "id": "95d3691e-cc76-4c17-b9fc-fdd02c9d7d84",
   "metadata": {
    "tags": []
   },
   "outputs": [
    {
     "data": {
      "text/html": [
       "TRUE"
      ],
      "text/latex": [
       "TRUE"
      ],
      "text/markdown": [
       "TRUE"
      ],
      "text/plain": [
       "[1] TRUE"
      ]
     },
     "metadata": {},
     "output_type": "display_data"
    }
   ],
   "source": [
    "y <- 3L \n",
    "is.integer(y)  # is y an integer? "
   ]
  },
  {
   "cell_type": "markdown",
   "id": "975acfc7-08d9-49d5-93f8-cdfdc2f36af5",
   "metadata": {},
   "source": [
    "We can coerce, or cast, a numeric value into an integer with\n",
    "`as.integer()`."
   ]
  },
  {
   "cell_type": "code",
   "execution_count": 207,
   "id": "79bf00af-ee12-4be6-95c0-c6c6b744b5eb",
   "metadata": {
    "tags": []
   },
   "outputs": [
    {
     "data": {
      "text/html": [
       "3"
      ],
      "text/latex": [
       "3"
      ],
      "text/markdown": [
       "3"
      ],
      "text/plain": [
       "[1] 3"
      ]
     },
     "metadata": {},
     "output_type": "display_data"
    }
   ],
   "source": [
    "as.integer(3.14)    # coerce a numeric value "
   ]
  },
  {
   "cell_type": "markdown",
   "id": "17d702a6-17df-4e1b-8ef0-233f82ebe814",
   "metadata": {},
   "source": [
    "And we can parse a string for decimal values in much the same way."
   ]
  },
  {
   "cell_type": "code",
   "execution_count": 208,
   "id": "432533d8-174d-415a-8261-3d522279a0b6",
   "metadata": {
    "tags": []
   },
   "outputs": [
    {
     "data": {
      "text/html": [
       "5"
      ],
      "text/latex": [
       "5"
      ],
      "text/markdown": [
       "5"
      ],
      "text/plain": [
       "[1] 5"
      ]
     },
     "metadata": {},
     "output_type": "display_data"
    }
   ],
   "source": [
    "as.integer(\"5.27\")  # coerce a decimal string "
   ]
  },
  {
   "cell_type": "markdown",
   "id": "251631c8-6d88-4e15-978e-8236119e57d3",
   "metadata": {},
   "source": [
    "On the other hand, you can't parse a non-decimal string."
   ]
  },
  {
   "cell_type": "code",
   "execution_count": 209,
   "id": "37e49214-4cf5-488a-9dc4-a43de17ba47d",
   "metadata": {
    "tags": []
   },
   "outputs": [
    {
     "name": "stderr",
     "output_type": "stream",
     "text": [
      "Warning message in eval(expr, envir, enclos):\n",
      "“NAs introduced by coercion”\n"
     ]
    },
    {
     "data": {
      "text/html": [
       "&lt;NA&gt;"
      ],
      "text/latex": [
       "<NA>"
      ],
      "text/markdown": [
       "&lt;NA&gt;"
      ],
      "text/plain": [
       "[1] NA"
      ]
     },
     "metadata": {},
     "output_type": "display_data"
    }
   ],
   "source": [
    "as.integer(\"Joe\")   # coerce an non-decimal string "
   ]
  },
  {
   "cell_type": "markdown",
   "id": "25ea6b04-9e54-461a-a918-09ef9b865e36",
   "metadata": {},
   "source": [
    "We can convert booleans to numbers this way, too."
   ]
  },
  {
   "cell_type": "code",
   "execution_count": 210,
   "id": "6399d07b-8e60-4fef-9bab-e2a27bb55db6",
   "metadata": {
    "tags": []
   },
   "outputs": [
    {
     "data": {
      "text/html": [
       "1"
      ],
      "text/latex": [
       "1"
      ],
      "text/markdown": [
       "1"
      ],
      "text/plain": [
       "[1] 1"
      ]
     },
     "metadata": {},
     "output_type": "display_data"
    },
    {
     "data": {
      "text/html": [
       "0"
      ],
      "text/latex": [
       "0"
      ],
      "text/markdown": [
       "0"
      ],
      "text/plain": [
       "[1] 0"
      ]
     },
     "metadata": {},
     "output_type": "display_data"
    }
   ],
   "source": [
    "as.integer(TRUE)    # the numeric value of TRUE \n",
    "as.integer(FALSE)   # the numeric value of FALSE "
   ]
  },
  {
   "cell_type": "markdown",
   "id": "b9877d69-980e-4d5c-a488-81fe84c77019",
   "metadata": {},
   "source": [
    "## Math Operators\n",
    "\n",
    "Numerics and integers are subject to the standard array of arithmetic\n",
    "operations.\n",
    "\n",
    "| **Operator**   | **Description**             |\n",
    "|----------------|-----------------------------|\n",
    "| **+**          | addition                    |\n",
    "| **-**          | subtraction                 |\n",
    "| **\\***         | multiplication              |\n",
    "| **/**          | division                    |\n",
    "| **\\^ or \\*\\*** | exponentiation              |\n",
    "| **x %% y**     | modulus (x mod y) 5%%2 is 1 |\n",
    "| **x %/% y**    | integer division 5%/%2 is 2 |"
   ]
  },
  {
   "cell_type": "markdown",
   "id": "839b399e-5821-4a35-9b24-f831037f27d7",
   "metadata": {},
   "source": [
    "## Logical (Boolean)\n",
    "\n",
    "A logical value is often produced from the **comparison** between\n",
    "values."
   ]
  },
  {
   "cell_type": "code",
   "execution_count": 211,
   "id": "e96fdf82-96a2-47f9-9665-5b3424018aa5",
   "metadata": {
    "tags": []
   },
   "outputs": [
    {
     "data": {
      "text/html": [
       "FALSE"
      ],
      "text/latex": [
       "FALSE"
      ],
      "text/markdown": [
       "FALSE"
      ],
      "text/plain": [
       "[1] FALSE"
      ]
     },
     "metadata": {},
     "output_type": "display_data"
    }
   ],
   "source": [
    "x <- 1\n",
    "y <- 2      # sample values \n",
    "z <- x > y  # is x larger than y? \n",
    "z           # print the logical value "
   ]
  },
  {
   "cell_type": "code",
   "execution_count": 212,
   "id": "65504c17-4d19-44c5-a2ab-b1e384b004de",
   "metadata": {
    "tags": []
   },
   "outputs": [
    {
     "data": {
      "text/html": [
       "'logical'"
      ],
      "text/latex": [
       "'logical'"
      ],
      "text/markdown": [
       "'logical'"
      ],
      "text/plain": [
       "[1] \"logical\""
      ]
     },
     "metadata": {},
     "output_type": "display_data"
    }
   ],
   "source": [
    "class(z)       # print the class name of z "
   ]
  },
  {
   "cell_type": "markdown",
   "id": "49ea8446-0f73-4d5f-92f1-51754b0319c0",
   "metadata": {},
   "source": [
    "## Logical Operators\n",
    "\n",
    "The standard logical operations are `&` (and), `|` (or), and `!`\n",
    "(negation)."
   ]
  },
  {
   "cell_type": "code",
   "execution_count": 213,
   "id": "f389a98c-df40-4c61-a2ec-1496e2e400e3",
   "metadata": {
    "tags": []
   },
   "outputs": [
    {
     "data": {
      "text/html": [
       "FALSE"
      ],
      "text/latex": [
       "FALSE"
      ],
      "text/markdown": [
       "FALSE"
      ],
      "text/plain": [
       "[1] FALSE"
      ]
     },
     "metadata": {},
     "output_type": "display_data"
    }
   ],
   "source": [
    "u <- TRUE\n",
    "v <- FALSE\n",
    "u & v          # u AND v "
   ]
  },
  {
   "cell_type": "code",
   "execution_count": 214,
   "id": "6578e12d-d2a0-44d0-a2d2-14267f79c000",
   "metadata": {
    "tags": []
   },
   "outputs": [
    {
     "data": {
      "text/html": [
       "TRUE"
      ],
      "text/latex": [
       "TRUE"
      ],
      "text/markdown": [
       "TRUE"
      ],
      "text/plain": [
       "[1] TRUE"
      ]
     },
     "metadata": {},
     "output_type": "display_data"
    }
   ],
   "source": [
    "u | v          # u OR v "
   ]
  },
  {
   "cell_type": "code",
   "execution_count": 147,
   "id": "d7f89b44-8cc0-41ff-9b43-29983ec8d013",
   "metadata": {
    "tags": []
   },
   "outputs": [
    {
     "data": {
      "text/html": [
       "FALSE"
      ],
      "text/latex": [
       "FALSE"
      ],
      "text/markdown": [
       "FALSE"
      ],
      "text/plain": [
       "[1] FALSE"
      ]
     },
     "metadata": {},
     "output_type": "display_data"
    }
   ],
   "source": [
    "!u             # negation of u "
   ]
  },
  {
   "cell_type": "markdown",
   "id": "2f649d68-4747-4810-babb-5276e080e6d0",
   "metadata": {},
   "source": [
    "Note that you can use `T` and `F` instead of `TRUE` and `FALSE`."
   ]
  },
  {
   "cell_type": "code",
   "execution_count": 148,
   "id": "fa6cc7d0-1765-408f-aeba-6fe5eaea59a0",
   "metadata": {
    "tags": []
   },
   "outputs": [
    {
     "data": {
      "text/html": [
       "FALSE"
      ],
      "text/latex": [
       "FALSE"
      ],
      "text/markdown": [
       "FALSE"
      ],
      "text/plain": [
       "[1] FALSE"
      ]
     },
     "metadata": {},
     "output_type": "display_data"
    }
   ],
   "source": [
    "a <- T\n",
    "b <- F\n",
    "a & b"
   ]
  },
  {
   "cell_type": "markdown",
   "id": "78c82c5c-dd1d-41b8-a4ef-07d8805c976f",
   "metadata": {},
   "source": [
    "## Characters\n",
    "\n",
    "A character object is used to represent string values in R.\n",
    "\n",
    "This may confusing if you are coming from a language where 'character'\n",
    "means an individual character, such as `A`.\n",
    "\n",
    "We may convert non-character objects into characters with the\n",
    "`as.character()` function:"
   ]
  },
  {
   "cell_type": "code",
   "execution_count": 149,
   "id": "6d99ac7a-fb3e-4c53-8e7e-19cd630e96f1",
   "metadata": {
    "tags": []
   },
   "outputs": [
    {
     "data": {
      "text/html": [
       "'3.14'"
      ],
      "text/latex": [
       "'3.14'"
      ],
      "text/markdown": [
       "'3.14'"
      ],
      "text/plain": [
       "[1] \"3.14\""
      ]
     },
     "metadata": {},
     "output_type": "display_data"
    }
   ],
   "source": [
    "x <- as.character(3.14) \n",
    "x"
   ]
  },
  {
   "cell_type": "code",
   "execution_count": 150,
   "id": "17f7cc60-c456-4a25-9b8b-6075fa39315d",
   "metadata": {
    "tags": []
   },
   "outputs": [
    {
     "data": {
      "text/html": [
       "'character'"
      ],
      "text/latex": [
       "'character'"
      ],
      "text/markdown": [
       "'character'"
      ],
      "text/plain": [
       "[1] \"character\""
      ]
     },
     "metadata": {},
     "output_type": "display_data"
    }
   ],
   "source": [
    "class(x)       # print the class name of x "
   ]
  },
  {
   "cell_type": "markdown",
   "id": "77f82548-1e29-4182-9bec-8f8a16da9f45",
   "metadata": {},
   "source": [
    "## `paste()`\n",
    "\n",
    "Two character values can be concatenated with the `paste()` function.\n",
    "\n",
    "R does *not* overload the `+` operator."
   ]
  },
  {
   "cell_type": "code",
   "execution_count": 151,
   "id": "16c2474b-06ec-4238-aecf-0447bed35d6a",
   "metadata": {
    "tags": []
   },
   "outputs": [
    {
     "data": {
      "text/html": [
       "'Joe Smith'"
      ],
      "text/latex": [
       "'Joe Smith'"
      ],
      "text/markdown": [
       "'Joe Smith'"
      ],
      "text/plain": [
       "[1] \"Joe Smith\""
      ]
     },
     "metadata": {},
     "output_type": "display_data"
    }
   ],
   "source": [
    "fname <- \"Joe\"\n",
    "lname <-\"Smith\" \n",
    "paste(fname, lname) "
   ]
  },
  {
   "cell_type": "markdown",
   "id": "f2988c44-48a1-491f-975a-500283d25a40",
   "metadata": {},
   "source": [
    "`paste()` takes a `sep` argument:"
   ]
  },
  {
   "cell_type": "code",
   "execution_count": 152,
   "id": "15535b36-2b1d-40b9-b704-9949b01d01e8",
   "metadata": {
    "tags": []
   },
   "outputs": [
    {
     "data": {
      "text/html": [
       "'A--B--C'"
      ],
      "text/latex": [
       "'A--B--C'"
      ],
      "text/markdown": [
       "'A--B--C'"
      ],
      "text/plain": [
       "[1] \"A--B--C\""
      ]
     },
     "metadata": {},
     "output_type": "display_data"
    }
   ],
   "source": [
    "paste(\"A\", \"B\", \"C\", sep=\"--\")"
   ]
  },
  {
   "cell_type": "markdown",
   "id": "0d68fd61-4bf1-457b-abf4-25118f2330bd",
   "metadata": {},
   "source": [
    "## `sprintf()`\n",
    "\n",
    "It is often convenient to create a readable string with the `sprintf()`\n",
    "function, which has a C language syntax."
   ]
  },
  {
   "cell_type": "code",
   "execution_count": 153,
   "id": "aaf9727c-c55f-44ac-a16c-43d7029c6ca8",
   "metadata": {
    "tags": []
   },
   "outputs": [
    {
     "data": {
      "text/html": [
       "'Sam has 100 dollars'"
      ],
      "text/latex": [
       "'Sam has 100 dollars'"
      ],
      "text/markdown": [
       "'Sam has 100 dollars'"
      ],
      "text/plain": [
       "[1] \"Sam has 100 dollars\""
      ]
     },
     "metadata": {},
     "output_type": "display_data"
    }
   ],
   "source": [
    "sprintf(\"%s has %d dollars\", \"Sam\", 100) "
   ]
  },
  {
   "cell_type": "markdown",
   "id": "70cd2529-0844-464a-847b-fcc63509f171",
   "metadata": {},
   "source": [
    "## `substr()`\n",
    "\n",
    "To extract a substring, we apply the `substr()` function.\n",
    "\n",
    "Here is an example showing how to extract the substring between the\n",
    "third and twelfth positions in a string."
   ]
  },
  {
   "cell_type": "code",
   "execution_count": 154,
   "id": "d3d9692f-353c-4383-ba73-a31553470f8a",
   "metadata": {
    "tags": []
   },
   "outputs": [
    {
     "data": {
      "text/html": [
       "'ry has a l'"
      ],
      "text/latex": [
       "'ry has a l'"
      ],
      "text/markdown": [
       "'ry has a l'"
      ],
      "text/plain": [
       "[1] \"ry has a l\""
      ]
     },
     "metadata": {},
     "output_type": "display_data"
    }
   ],
   "source": [
    "substr(\"Mary has a little lamb.\", start=3, stop=12) "
   ]
  },
  {
   "cell_type": "markdown",
   "id": "493e9d23-4d7a-4446-af4c-d1f4c5ae35d2",
   "metadata": {},
   "source": [
    "## `sub()`\n",
    "\n",
    "And to replace the first occurrence of the word \"little\" by another word\n",
    "\"big\" in the string, we apply the `sub()` function.\n",
    "\n",
    "This function can use regular expressions."
   ]
  },
  {
   "cell_type": "code",
   "execution_count": 155,
   "id": "852cd14a-9f92-4f01-9a0e-06fad7f36bd3",
   "metadata": {
    "tags": []
   },
   "outputs": [
    {
     "data": {
      "text/html": [
       "'Mary has a big lamb.'"
      ],
      "text/latex": [
       "'Mary has a big lamb.'"
      ],
      "text/markdown": [
       "'Mary has a big lamb.'"
      ],
      "text/plain": [
       "[1] \"Mary has a big lamb.\""
      ]
     },
     "metadata": {},
     "output_type": "display_data"
    }
   ],
   "source": [
    "sub(\"little\", \"big\", \"Mary has a little lamb.\") "
   ]
  },
  {
   "cell_type": "markdown",
   "id": "c581ee57-622b-4d29-aa9f-c4facd7e77fe",
   "metadata": {
    "tags": []
   },
   "source": [
    "# Factors\n",
    "\n",
    "- Implicitly, a kind of **data structure**, since they organize data types.\n",
    "\n",
    "  - They can store both strings and integers. \n",
    "\n",
    "- The categorize data as **levels**. \n",
    "\n",
    "  - Levels are **distinct**, like sets in Python or LOVs in SQL.\n",
    "\n",
    "  - Levels are **stored** alongside the vector.\n",
    "\n",
    "  - Levels **constrain** what can be added to the factor vector.\n",
    "\n",
    "  - Levels are always **characters**, even when the data are numeric or boolean \n",
    "\n",
    "- Useful in data frame columns that have a list of values which make sense as a group. \n",
    "\n",
    "    - Male, Female\n",
    "    \n",
    "    - True, False\n",
    "    \n",
    "    - 1, 2, 3, 4, 5\n",
    "\n",
    "- Created with `factor()` taking a vector as input.\n",
    "\n",
    "- Analagous to **Categories in Pandas**."
   ]
  },
  {
   "cell_type": "markdown",
   "id": "49f734e3-eb0f-4bd4-b1be-23b9673cb8d9",
   "metadata": {},
   "source": [
    "**Example**"
   ]
  },
  {
   "cell_type": "markdown",
   "id": "8d293f70-e0d1-49e7-94da-0d2ab2c8276c",
   "metadata": {},
   "source": [
    "Take a vector of integers."
   ]
  },
  {
   "cell_type": "code",
   "execution_count": 1,
   "id": "c728fa5c-e791-4f2b-91ad-6bd65902c8ce",
   "metadata": {
    "tags": []
   },
   "outputs": [],
   "source": [
    "v1 = c(1,5,6,9,4,3,5,8,7,6,3,0,0,0,1,2,3,6,4,5,7,9)"
   ]
  },
  {
   "cell_type": "markdown",
   "id": "5be9126d-2a86-4f22-b8cd-dee806b8eecc",
   "metadata": {},
   "source": [
    "See that it has not levels associated with it."
   ]
  },
  {
   "cell_type": "code",
   "execution_count": 2,
   "id": "aae7b500-dc90-4429-82cc-a68c63eb3820",
   "metadata": {
    "tags": []
   },
   "outputs": [
    {
     "data": {
      "text/plain": [
       "NULL"
      ]
     },
     "metadata": {},
     "output_type": "display_data"
    }
   ],
   "source": [
    "levels(v1)"
   ]
  },
  {
   "cell_type": "markdown",
   "id": "864ceb80-c483-42e2-8944-45dca824714b",
   "metadata": {},
   "source": [
    "Convert the vector in a factor."
   ]
  },
  {
   "cell_type": "code",
   "execution_count": 3,
   "id": "2ec01503-316b-4b1e-a97e-396859ce5a10",
   "metadata": {
    "tags": []
   },
   "outputs": [],
   "source": [
    "f1 = factor(v1)"
   ]
  },
  {
   "cell_type": "markdown",
   "id": "76c56a0d-596c-4852-a321-72fd0ac199ae",
   "metadata": {},
   "source": [
    "Now see that it has extracted a distinct list of items and converted them to strings."
   ]
  },
  {
   "cell_type": "code",
   "execution_count": 4,
   "id": "afae4354-3521-47d5-a238-96e65f0443e9",
   "metadata": {
    "tags": []
   },
   "outputs": [
    {
     "data": {
      "text/html": [
       "<ol class=list-inline>\n",
       "\t<li>'0'</li>\n",
       "\t<li>'1'</li>\n",
       "\t<li>'2'</li>\n",
       "\t<li>'3'</li>\n",
       "\t<li>'4'</li>\n",
       "\t<li>'5'</li>\n",
       "\t<li>'6'</li>\n",
       "\t<li>'7'</li>\n",
       "\t<li>'8'</li>\n",
       "\t<li>'9'</li>\n",
       "</ol>\n"
      ],
      "text/latex": [
       "\\begin{enumerate*}\n",
       "\\item '0'\n",
       "\\item '1'\n",
       "\\item '2'\n",
       "\\item '3'\n",
       "\\item '4'\n",
       "\\item '5'\n",
       "\\item '6'\n",
       "\\item '7'\n",
       "\\item '8'\n",
       "\\item '9'\n",
       "\\end{enumerate*}\n"
      ],
      "text/markdown": [
       "1. '0'\n",
       "2. '1'\n",
       "3. '2'\n",
       "4. '3'\n",
       "5. '4'\n",
       "6. '5'\n",
       "7. '6'\n",
       "8. '7'\n",
       "9. '8'\n",
       "10. '9'\n",
       "\n",
       "\n"
      ],
      "text/plain": [
       " [1] \"0\" \"1\" \"2\" \"3\" \"4\" \"5\" \"6\" \"7\" \"8\" \"9\""
      ]
     },
     "metadata": {},
     "output_type": "display_data"
    }
   ],
   "source": [
    "levels(f1)"
   ]
  },
  {
   "cell_type": "markdown",
   "id": "05d65945-e582-46f8-93f4-db09fb49befd",
   "metadata": {},
   "source": [
    "Printing the factor shows that the object contains two structures:"
   ]
  },
  {
   "cell_type": "code",
   "execution_count": 5,
   "id": "684d952f-8de0-49c9-937d-073c08cf78eb",
   "metadata": {
    "tags": []
   },
   "outputs": [
    {
     "name": "stdout",
     "output_type": "stream",
     "text": [
      " [1] 1 5 6 9 4 3 5 8 7 6 3 0 0 0 1 2 3 6 4 5 7 9\n",
      "Levels: 0 1 2 3 4 5 6 7 8 9\n"
     ]
    }
   ],
   "source": [
    "print(f1)"
   ]
  },
  {
   "cell_type": "markdown",
   "id": "872ac0ff-788e-4629-9a81-0a7190e8c62f",
   "metadata": {},
   "source": [
    "The object has properties accessible by functions."
   ]
  },
  {
   "cell_type": "code",
   "execution_count": 6,
   "id": "a744ee31-a40e-45ef-b67a-513926f525a8",
   "metadata": {
    "tags": []
   },
   "outputs": [
    {
     "data": {
      "text/html": [
       "10"
      ],
      "text/latex": [
       "10"
      ],
      "text/markdown": [
       "10"
      ],
      "text/plain": [
       "[1] 10"
      ]
     },
     "metadata": {},
     "output_type": "display_data"
    }
   ],
   "source": [
    "nlevels(f1)"
   ]
  },
  {
   "cell_type": "markdown",
   "id": "478a0955-4e45-49ba-a0c9-0092c21f8340",
   "metadata": {},
   "source": [
    "Note that levels act as a constraint on the factor vector."
   ]
  },
  {
   "cell_type": "markdown",
   "id": "1373dad3-ef55-4204-94db-501ac0d3f72d",
   "metadata": {},
   "source": [
    "So, if we want to edit the factor to have a value that is not in the distinct list of levels, we get an error."
   ]
  },
  {
   "cell_type": "code",
   "execution_count": 7,
   "id": "7e095002-187b-44c2-bb77-10ce6d2df8c2",
   "metadata": {
    "tags": []
   },
   "outputs": [
    {
     "data": {
      "text/html": [
       "4\n",
       "<details>\n",
       "\t<summary style=display:list-item;cursor:pointer>\n",
       "\t\t<strong>Levels</strong>:\n",
       "\t</summary>\n",
       "\t<ol class=list-inline>\n",
       "\t\t<li>'0'</li>\n",
       "\t\t<li>'1'</li>\n",
       "\t\t<li>'2'</li>\n",
       "\t\t<li>'3'</li>\n",
       "\t\t<li>'4'</li>\n",
       "\t\t<li>'5'</li>\n",
       "\t\t<li>'6'</li>\n",
       "\t\t<li>'7'</li>\n",
       "\t\t<li>'8'</li>\n",
       "\t\t<li>'9'</li>\n",
       "\t</ol>\n",
       "</details>"
      ],
      "text/latex": [
       "4\n",
       "\\emph{Levels}: \\begin{enumerate*}\n",
       "\\item '0'\n",
       "\\item '1'\n",
       "\\item '2'\n",
       "\\item '3'\n",
       "\\item '4'\n",
       "\\item '5'\n",
       "\\item '6'\n",
       "\\item '7'\n",
       "\\item '8'\n",
       "\\item '9'\n",
       "\\end{enumerate*}\n"
      ],
      "text/markdown": [
       "4\n",
       "**Levels**: 1. '0'\n",
       "2. '1'\n",
       "3. '2'\n",
       "4. '3'\n",
       "5. '4'\n",
       "6. '5'\n",
       "7. '6'\n",
       "8. '7'\n",
       "9. '8'\n",
       "10. '9'\n",
       "\n",
       "\n"
      ],
      "text/plain": [
       "[1] 4\n",
       "Levels: 0 1 2 3 4 5 6 7 8 9"
      ]
     },
     "metadata": {},
     "output_type": "display_data"
    }
   ],
   "source": [
    "f1[5]"
   ]
  },
  {
   "cell_type": "code",
   "execution_count": 8,
   "id": "47358da9-be32-4dc4-87be-97f959abbbcd",
   "metadata": {
    "collapsed": true,
    "jupyter": {
     "outputs_hidden": true
    },
    "tags": []
   },
   "outputs": [
    {
     "name": "stderr",
     "output_type": "stream",
     "text": [
      "Warning message in `[<-.factor`(`*tmp*`, 5, value = 20):\n",
      "“invalid factor level, NA generated”"
     ]
    }
   ],
   "source": [
    "f1[5] <- 20"
   ]
  },
  {
   "cell_type": "markdown",
   "id": "a5ee4ee2-7b14-4443-9a79-65ded8dbf02e",
   "metadata": {},
   "source": [
    "Note that we also blow away the original value!"
   ]
  },
  {
   "cell_type": "code",
   "execution_count": 9,
   "id": "bed55d15-ad0c-4aef-8c53-04610ab7b625",
   "metadata": {
    "tags": []
   },
   "outputs": [
    {
     "data": {
      "text/html": [
       "<ol class=list-inline>\n",
       "\t<li>1</li>\n",
       "\t<li>5</li>\n",
       "\t<li>6</li>\n",
       "\t<li>9</li>\n",
       "\t<li>&lt;NA&gt;</li>\n",
       "\t<li>3</li>\n",
       "\t<li>5</li>\n",
       "\t<li>8</li>\n",
       "\t<li>7</li>\n",
       "\t<li>6</li>\n",
       "\t<li>3</li>\n",
       "\t<li>0</li>\n",
       "\t<li>0</li>\n",
       "\t<li>0</li>\n",
       "\t<li>1</li>\n",
       "\t<li>2</li>\n",
       "\t<li>3</li>\n",
       "\t<li>6</li>\n",
       "\t<li>4</li>\n",
       "\t<li>5</li>\n",
       "\t<li>7</li>\n",
       "\t<li>9</li>\n",
       "</ol>\n",
       "\n",
       "<details>\n",
       "\t<summary style=display:list-item;cursor:pointer>\n",
       "\t\t<strong>Levels</strong>:\n",
       "\t</summary>\n",
       "\t<ol class=list-inline>\n",
       "\t\t<li>'0'</li>\n",
       "\t\t<li>'1'</li>\n",
       "\t\t<li>'2'</li>\n",
       "\t\t<li>'3'</li>\n",
       "\t\t<li>'4'</li>\n",
       "\t\t<li>'5'</li>\n",
       "\t\t<li>'6'</li>\n",
       "\t\t<li>'7'</li>\n",
       "\t\t<li>'8'</li>\n",
       "\t\t<li>'9'</li>\n",
       "\t</ol>\n",
       "</details>"
      ],
      "text/latex": [
       "\\begin{enumerate*}\n",
       "\\item 1\n",
       "\\item 5\n",
       "\\item 6\n",
       "\\item 9\n",
       "\\item <NA>\n",
       "\\item 3\n",
       "\\item 5\n",
       "\\item 8\n",
       "\\item 7\n",
       "\\item 6\n",
       "\\item 3\n",
       "\\item 0\n",
       "\\item 0\n",
       "\\item 0\n",
       "\\item 1\n",
       "\\item 2\n",
       "\\item 3\n",
       "\\item 6\n",
       "\\item 4\n",
       "\\item 5\n",
       "\\item 7\n",
       "\\item 9\n",
       "\\end{enumerate*}\n",
       "\n",
       "\\emph{Levels}: \\begin{enumerate*}\n",
       "\\item '0'\n",
       "\\item '1'\n",
       "\\item '2'\n",
       "\\item '3'\n",
       "\\item '4'\n",
       "\\item '5'\n",
       "\\item '6'\n",
       "\\item '7'\n",
       "\\item '8'\n",
       "\\item '9'\n",
       "\\end{enumerate*}\n"
      ],
      "text/markdown": [
       "1. 1\n",
       "2. 5\n",
       "3. 6\n",
       "4. 9\n",
       "5. &lt;NA&gt;\n",
       "6. 3\n",
       "7. 5\n",
       "8. 8\n",
       "9. 7\n",
       "10. 6\n",
       "11. 3\n",
       "12. 0\n",
       "13. 0\n",
       "14. 0\n",
       "15. 1\n",
       "16. 2\n",
       "17. 3\n",
       "18. 6\n",
       "19. 4\n",
       "20. 5\n",
       "21. 7\n",
       "22. 9\n",
       "\n",
       "\n",
       "\n",
       "**Levels**: 1. '0'\n",
       "2. '1'\n",
       "3. '2'\n",
       "4. '3'\n",
       "5. '4'\n",
       "6. '5'\n",
       "7. '6'\n",
       "8. '7'\n",
       "9. '8'\n",
       "10. '9'\n",
       "\n",
       "\n"
      ],
      "text/plain": [
       " [1] 1    5    6    9    <NA> 3    5    8    7    6    3    0    0    0    1   \n",
       "[16] 2    3    6    4    5    7    9   \n",
       "Levels: 0 1 2 3 4 5 6 7 8 9"
      ]
     },
     "metadata": {},
     "output_type": "display_data"
    }
   ],
   "source": [
    "f1"
   ]
  },
  {
   "cell_type": "markdown",
   "id": "99107c03-72e2-4404-813d-2b4e91140f7e",
   "metadata": {},
   "source": [
    "Be careful out there."
   ]
  },
  {
   "cell_type": "code",
   "execution_count": null,
   "id": "41152015-6de3-4a78-a724-05eb1b343aaf",
   "metadata": {},
   "outputs": [],
   "source": []
  }
 ],
 "metadata": {
  "kernelspec": {
   "display_name": "R Environment",
   "language": "R",
   "name": "r_env"
  },
  "language_info": {
   "codemirror_mode": "r",
   "file_extension": ".r",
   "mimetype": "text/x-r-source",
   "name": "R",
   "pygments_lexer": "r",
   "version": "4.3.1"
  }
 },
 "nbformat": 4,
 "nbformat_minor": 5
}
