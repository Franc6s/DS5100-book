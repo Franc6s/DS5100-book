{
 "cells": [
  {
   "cell_type": "markdown",
   "id": "825de87c-4ed5-4fdc-9776-1003387083ae",
   "metadata": {},
   "source": [
    "# NB: Functions"
   ]
  },
  {
   "cell_type": "markdown",
   "id": "ec003c2a-da93-44fb-b144-2c5ec96c850b",
   "metadata": {},
   "source": [
    "Let's define some data."
   ]
  },
  {
   "cell_type": "code",
   "execution_count": 1,
   "id": "b3ba5bf2-7a73-477c-8fcd-6e09fc359e9b",
   "metadata": {},
   "outputs": [],
   "source": [
    "x <- 5                \n",
    "xx <- c(4, 6, 7, 8, 2, 11)"
   ]
  },
  {
   "cell_type": "markdown",
   "id": "71ffce19-e0ec-4d20-acda-829dd69bc40c",
   "metadata": {},
   "source": [
    "Now, let's define a function that computes Z-scores by doing the\n",
    "following:\n",
    "\n",
    "-   takes a value and a vector of values as inputs\n",
    "\n",
    "-   normalizes the value against the vector by subtracting the vector\n",
    "    mean from value, and dividing by vector standard deviation."
   ]
  },
  {
   "cell_type": "code",
   "execution_count": 44,
   "id": "d065debd-61e0-47e4-bb9e-dd7e04d5a843",
   "metadata": {},
   "outputs": [],
   "source": [
    "compute_zscore <- function(val, vec) {\n",
    "  (val - mean(vec)) / sd(vec)\n",
    "}"
   ]
  },
  {
   "cell_type": "code",
   "execution_count": 45,
   "id": "3238e9ce-a983-4252-97f8-837dc73c41f8",
   "metadata": {},
   "outputs": [
    {
     "data": {
      "text/html": [
       "-0.424476359978009"
      ],
      "text/latex": [
       "-0.424476359978009"
      ],
      "text/markdown": [
       "-0.424476359978009"
      ],
      "text/plain": [
       "[1] -0.4244764"
      ]
     },
     "metadata": {},
     "output_type": "display_data"
    }
   ],
   "source": [
    "compute_zscore(x, xx)"
   ]
  },
  {
   "cell_type": "markdown",
   "id": "e347afc0-7234-4fc5-9f58-3eb25d2579f8",
   "metadata": {},
   "source": [
    "If vector contains identical values, `sd` is zero, and so the z-score is\n",
    "undefined."
   ]
  },
  {
   "cell_type": "code",
   "execution_count": 46,
   "id": "d1f196e4-52f8-41ff-be91-6ff5260644a9",
   "metadata": {},
   "outputs": [
    {
     "data": {
      "text/html": [
       "Inf"
      ],
      "text/latex": [
       "Inf"
      ],
      "text/markdown": [
       "Inf"
      ],
      "text/plain": [
       "[1] Inf"
      ]
     },
     "metadata": {},
     "output_type": "display_data"
    }
   ],
   "source": [
    "compute_zscore(x, c(1, 1, 1, 1))"
   ]
  },
  {
   "cell_type": "markdown",
   "id": "e8eb4801-89da-41e4-8f8a-b3ff98fdce7f",
   "metadata": {},
   "source": [
    "If vector contains missing values, the result will be `NA`."
   ]
  },
  {
   "cell_type": "code",
   "execution_count": 47,
   "id": "2d5f1c1f-ff15-44ab-af0f-36354744abd3",
   "metadata": {},
   "outputs": [
    {
     "data": {
      "text/html": [
       "&lt;NA&gt;"
      ],
      "text/latex": [
       "<NA>"
      ],
      "text/markdown": [
       "&lt;NA&gt;"
      ],
      "text/plain": [
       "[1] NA"
      ]
     },
     "metadata": {},
     "output_type": "display_data"
    }
   ],
   "source": [
    "xx_na <- c(1, NA, 3, 5) \n",
    "compute_zscore(x, xx_na)"
   ]
  },
  {
   "cell_type": "markdown",
   "id": "2107eda8-cb8a-4561-a6d2-c4b78f585480",
   "metadata": {},
   "source": [
    "## Using conditions in functions\n",
    "\n",
    "A function returns 1 if passed value is odd, 0 if even\n",
    "\n",
    "`%%` is mod operator (returns remainder)."
   ]
  },
  {
   "cell_type": "code",
   "execution_count": 48,
   "id": "ae5b1a31-5dd5-40ff-bbc4-f35b24a75ccd",
   "metadata": {},
   "outputs": [],
   "source": [
    "is_odd <- function(x){ if (x %% 2 == 1) { \n",
    "    return(1) \n",
    "  } else { \n",
    "    return(0)\n",
    "  } \n",
    "}"
   ]
  },
  {
   "cell_type": "markdown",
   "id": "e06e7323-2f45-49d3-b36f-0d44421bd4f1",
   "metadata": {},
   "source": [
    "Call to test some cases:"
   ]
  },
  {
   "cell_type": "code",
   "execution_count": 49,
   "id": "25ed06c4-5cff-409a-844b-aaa753228ec7",
   "metadata": {},
   "outputs": [
    {
     "data": {
      "text/html": [
       "0"
      ],
      "text/latex": [
       "0"
      ],
      "text/markdown": [
       "0"
      ],
      "text/plain": [
       "[1] 0"
      ]
     },
     "metadata": {},
     "output_type": "display_data"
    },
    {
     "data": {
      "text/html": [
       "1"
      ],
      "text/latex": [
       "1"
      ],
      "text/markdown": [
       "1"
      ],
      "text/plain": [
       "[1] 1"
      ]
     },
     "metadata": {},
     "output_type": "display_data"
    }
   ],
   "source": [
    "is_odd(4)\n",
    "is_odd(3)"
   ]
  },
  {
   "cell_type": "markdown",
   "id": "33c8ffbb-0791-4dee-8e93-8e773d22b809",
   "metadata": {},
   "source": [
    "Function arguments can use default values:"
   ]
  },
  {
   "cell_type": "code",
   "execution_count": 50,
   "id": "481520dd-c6f0-4081-82c9-c07824df37fc",
   "metadata": {},
   "outputs": [],
   "source": [
    "threshold_vals <- function(p, thresh = 0.5) {\n",
    "  # for each element in p, returns TRUE if value > thresh, else FALSE\n",
    "  p > thresh\n",
    "}"
   ]
  },
  {
   "cell_type": "code",
   "execution_count": 51,
   "id": "7ae4ba66-20f6-4263-b467-80135d3839a6",
   "metadata": {},
   "outputs": [
    {
     "data": {
      "text/html": [
       "<style>\n",
       ".list-inline {list-style: none; margin:0; padding: 0}\n",
       ".list-inline>li {display: inline-block}\n",
       ".list-inline>li:not(:last-child)::after {content: \"\\00b7\"; padding: 0 .5ex}\n",
       "</style>\n",
       "<ol class=list-inline><li>TRUE</li><li>FALSE</li><li>FALSE</li><li>TRUE</li></ol>\n"
      ],
      "text/latex": [
       "\\begin{enumerate*}\n",
       "\\item TRUE\n",
       "\\item FALSE\n",
       "\\item FALSE\n",
       "\\item TRUE\n",
       "\\end{enumerate*}\n"
      ],
      "text/markdown": [
       "1. TRUE\n",
       "2. FALSE\n",
       "3. FALSE\n",
       "4. TRUE\n",
       "\n",
       "\n"
      ],
      "text/plain": [
       "[1]  TRUE FALSE FALSE  TRUE"
      ]
     },
     "metadata": {},
     "output_type": "display_data"
    }
   ],
   "source": [
    "threshold_vals(c(0.6, 0.4, 0.1, 1))"
   ]
  },
  {
   "cell_type": "markdown",
   "id": "9773396c-1a1b-4166-a1f1-01a6b372f162",
   "metadata": {},
   "source": [
    "Now, pass a different threshold:"
   ]
  },
  {
   "cell_type": "code",
   "execution_count": 52,
   "id": "10ee0f8f-dbd6-4870-8c2f-65f8eec933e1",
   "metadata": {},
   "outputs": [
    {
     "data": {
      "text/html": [
       "<style>\n",
       ".list-inline {list-style: none; margin:0; padding: 0}\n",
       ".list-inline>li {display: inline-block}\n",
       ".list-inline>li:not(:last-child)::after {content: \"\\00b7\"; padding: 0 .5ex}\n",
       "</style>\n",
       "<ol class=list-inline><li>FALSE</li><li>FALSE</li><li>FALSE</li><li>TRUE</li></ol>\n"
      ],
      "text/latex": [
       "\\begin{enumerate*}\n",
       "\\item FALSE\n",
       "\\item FALSE\n",
       "\\item FALSE\n",
       "\\item TRUE\n",
       "\\end{enumerate*}\n"
      ],
      "text/markdown": [
       "1. FALSE\n",
       "2. FALSE\n",
       "3. FALSE\n",
       "4. TRUE\n",
       "\n",
       "\n"
      ],
      "text/plain": [
       "[1] FALSE FALSE FALSE  TRUE"
      ]
     },
     "metadata": {},
     "output_type": "display_data"
    }
   ],
   "source": [
    "threshold_vals(c(0.6, 0.4, 0.1, 1), 0.7)"
   ]
  },
  {
   "cell_type": "markdown",
   "id": "f62d1ba2-a319-4beb-958c-7a09c3c4c15e",
   "metadata": {},
   "source": [
    "You can assert important preconditions with `stop()`:"
   ]
  },
  {
   "cell_type": "code",
   "execution_count": 53,
   "id": "af606dc2-1250-4f03-aa96-56652dedbb2e",
   "metadata": {},
   "outputs": [],
   "source": [
    "add_vectors <- function(x, y) {\n",
    "  \n",
    "  # assert the lengths of vectors x and y match\n",
    "  # if they do, sum elementwise, else throw error with stop()\n",
    "  if (length(x) != length(y)) {\n",
    "    stop(\"x and y must be the same length\", call. = FALSE)\n",
    "  }\n",
    "\n",
    "  x + y\n",
    "}"
   ]
  },
  {
   "cell_type": "code",
   "execution_count": 54,
   "id": "facdce2d-0d78-46bc-8322-9c7b1758598c",
   "metadata": {},
   "outputs": [
    {
     "data": {
      "text/html": [
       "<style>\n",
       ".list-inline {list-style: none; margin:0; padding: 0}\n",
       ".list-inline>li {display: inline-block}\n",
       ".list-inline>li:not(:last-child)::after {content: \"\\00b7\"; padding: 0 .5ex}\n",
       "</style>\n",
       "<ol class=list-inline><li>4</li><li>5</li><li>6</li></ol>\n"
      ],
      "text/latex": [
       "\\begin{enumerate*}\n",
       "\\item 4\n",
       "\\item 5\n",
       "\\item 6\n",
       "\\end{enumerate*}\n"
      ],
      "text/markdown": [
       "1. 4\n",
       "2. 5\n",
       "3. 6\n",
       "\n",
       "\n"
      ],
      "text/plain": [
       "[1] 4 5 6"
      ]
     },
     "metadata": {},
     "output_type": "display_data"
    }
   ],
   "source": [
    "add_vectors(c(1, 2, 3), c(3, 3, 3))"
   ]
  },
  {
   "cell_type": "markdown",
   "id": "ce9f081b-7835-4da0-8f96-911ffc720bd9",
   "metadata": {},
   "source": [
    "This breaks:"
   ]
  },
  {
   "cell_type": "code",
   "execution_count": 56,
   "id": "02e266c0-ec77-4b7d-9d76-8929dc4f6ec1",
   "metadata": {},
   "outputs": [
    {
     "ename": "ERROR",
     "evalue": "Error: x and y must be the same length\n",
     "output_type": "error",
     "traceback": [
      "Error: x and y must be the same length\nTraceback:\n",
      "1. add_vectors(c(1, 2, 3), c(3, 3, 3, 3))",
      "2. stop(\"x and y must be the same length\", call. = FALSE)   # at line 6 of file <text>"
     ]
    }
   ],
   "source": [
    "add_vectors(c(1, 2, 3), c(3, 3, 3, 3)) # breaks"
   ]
  },
  {
   "cell_type": "markdown",
   "id": "949a87b6-a3bd-4a77-b4c2-66cc7b248b6a",
   "metadata": {},
   "source": [
    "## Scoping Rules"
   ]
  },
  {
   "cell_type": "code",
   "execution_count": 57,
   "id": "88cad7c1-fa7c-43e7-a4e1-689593d2f381",
   "metadata": {},
   "outputs": [],
   "source": [
    "z <- 4\n",
    "test_fcn <- function(x) {\n",
    "  x^z\n",
    "}"
   ]
  },
  {
   "cell_type": "markdown",
   "id": "98e5e240-2e2d-45f8-afed-879852176041",
   "metadata": {},
   "source": [
    "Now look at this:"
   ]
  },
  {
   "cell_type": "code",
   "execution_count": 58,
   "id": "60d4543f-1f51-4519-9856-c3cbee5c6054",
   "metadata": {},
   "outputs": [
    {
     "data": {
      "text/html": [
       "16"
      ],
      "text/latex": [
       "16"
      ],
      "text/markdown": [
       "16"
      ],
      "text/plain": [
       "[1] 16"
      ]
     },
     "metadata": {},
     "output_type": "display_data"
    }
   ],
   "source": [
    "test_fcn(2)"
   ]
  },
  {
   "cell_type": "markdown",
   "id": "38eb10fb-cadc-4426-8d7b-15faa80536cc",
   "metadata": {},
   "source": [
    "If `z` isn't defined in the function, how does this work?\n",
    "\n",
    "R's scoping rules are similar to Python's.\n",
    "\n",
    "Since `z` isn't in the function, **R looks in the function's\n",
    "environment** for it.\n",
    "\n",
    "For more on scoping rules, see [Chapter 15: Scoping Rules of\n",
    "R](https://bookdown.org/rdpeng/rprogdatascience/scoping-rules-of-r.html)\n",
    "in Peng's *R Programming For Data Science*."
   ]
  }
 ],
 "metadata": {
  "kernelspec": {
   "display_name": "R Environment",
   "language": "R",
   "name": "r_env"
  },
  "language_info": {
   "codemirror_mode": "r",
   "file_extension": ".r",
   "mimetype": "text/x-r-source",
   "name": "R",
   "pygments_lexer": "r",
   "version": "4.3.1"
  }
 },
 "nbformat": 4,
 "nbformat_minor": 5
}
