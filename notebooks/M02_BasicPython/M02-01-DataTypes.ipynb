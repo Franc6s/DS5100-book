{
 "cells": [
  {
   "cell_type": "markdown",
   "id": "c8876a2c",
   "metadata": {
    "slideshow": {
     "slide_type": "slide"
    },
    "tags": []
   },
   "source": [
    "# NB: Data Types, Operators, and Expressions"
   ]
  },
  {
   "cell_type": "markdown",
   "id": "f22557ec-aa7a-44fd-8564-0fd3047fcb62",
   "metadata": {
    "slideshow": {
     "slide_type": "slide"
    },
    "tags": []
   },
   "source": [
    "# Python Data Types\n",
    "\n",
    "Everything in Python is an object.\n",
    "\n",
    "When we say 'type,' we mean object type. \n",
    "\n",
    "Data types and data structures are both types of object.\n",
    "\n",
    "Data types and structures are created by the way they are written.\n",
    "\n",
    "When we write the raw values of a data type, we call these *literals*, meaning their literal value."
   ]
  },
  {
   "cell_type": "markdown",
   "id": "609e12fe-02d8-4d19-886b-a8b38e6a7e14",
   "metadata": {
    "slideshow": {
     "slide_type": "slide"
    },
    "tags": []
   },
   "source": [
    "## Literals"
   ]
  },
  {
   "cell_type": "markdown",
   "id": "9a1b919c-bdc4-4f9e-9ea7-0cde15083979",
   "metadata": {
    "slideshow": {
     "slide_type": "slide"
    },
    "tags": []
   },
   "source": [
    "**Integers**\n",
    "\n",
    "An integer is a sequence of one or more unquoted roman numerals."
   ]
  },
  {
   "cell_type": "code",
   "execution_count": 3,
   "id": "5dd0cacb-4542-40e1-b1a1-e6c1f3456db8",
   "metadata": {
    "tags": []
   },
   "outputs": [
    {
     "data": {
      "text/plain": [
       "100"
      ]
     },
     "execution_count": 3,
     "metadata": {},
     "output_type": "execute_result"
    }
   ],
   "source": [
    "100"
   ]
  },
  {
   "cell_type": "code",
   "execution_count": 6,
   "id": "c7cb08ec-ea08-41c6-8df3-14a2be57dd23",
   "metadata": {
    "tags": []
   },
   "outputs": [
    {
     "data": {
      "text/plain": [
       "643523453323"
      ]
     },
     "execution_count": 6,
     "metadata": {},
     "output_type": "execute_result"
    }
   ],
   "source": [
    "643523453323"
   ]
  },
  {
   "cell_type": "code",
   "execution_count": 8,
   "id": "f62e3e44-ceb6-436c-8f67-7410d5475c7c",
   "metadata": {
    "tags": []
   },
   "outputs": [
    {
     "data": {
      "text/plain": [
       "0"
      ]
     },
     "execution_count": 8,
     "metadata": {},
     "output_type": "execute_result"
    }
   ],
   "source": [
    "-0"
   ]
  },
  {
   "cell_type": "markdown",
   "id": "f350c77f-debb-421f-b705-1bd6ed1f7f78",
   "metadata": {
    "slideshow": {
     "slide_type": "slide"
    },
    "tags": []
   },
   "source": [
    "**Floats (decimals)**\n",
    "\n",
    "A float is a sequence of unquoted numerals with one and only one period."
   ]
  },
  {
   "cell_type": "code",
   "execution_count": 3,
   "id": "fc3466e7-cae9-47a0-b804-d9060e7633ac",
   "metadata": {
    "tags": []
   },
   "outputs": [
    {
     "data": {
      "text/plain": [
       "3.14"
      ]
     },
     "execution_count": 3,
     "metadata": {},
     "output_type": "execute_result"
    }
   ],
   "source": [
    "3.14 "
   ]
  },
  {
   "cell_type": "markdown",
   "id": "90747615-c27c-41c9-8898-941df35042be",
   "metadata": {},
   "source": [
    "Note that a period as a suffix or prefix will convert an integer to a float."
   ]
  },
  {
   "cell_type": "code",
   "execution_count": 9,
   "id": "1b7f7837-b336-43fe-844f-715cbe652f4d",
   "metadata": {
    "tags": []
   },
   "outputs": [
    {
     "data": {
      "text/plain": [
       "(1, 1.0, 0.1)"
      ]
     },
     "execution_count": 9,
     "metadata": {},
     "output_type": "execute_result"
    }
   ],
   "source": [
    "1, 1., .1"
   ]
  },
  {
   "cell_type": "markdown",
   "id": "e7e55820-1c4c-42f3-a86c-c6fe296e8118",
   "metadata": {
    "tags": []
   },
   "source": [
    "Note also that we are separating these numbers with commas."
   ]
  },
  {
   "cell_type": "markdown",
   "id": "3d6b9715-db21-4ffc-b1d4-cfb05a41717f",
   "metadata": {
    "slideshow": {
     "slide_type": "slide"
    },
    "tags": []
   },
   "source": [
    "**Strings**\n",
    "\n",
    "Strings are sequences of quoted characters of any kind, i.e. numbers, letters, punctuation, etc.\n",
    "\n",
    "Quotes may be be single `'` or double`\"`.\n",
    "\n",
    "The type of quote does not matter, but they must be straight quotes, not so-called \"smart quotes\" that some word processors use."
   ]
  },
  {
   "cell_type": "code",
   "execution_count": 3,
   "id": "e08f8440-235d-4858-848f-99392156614e",
   "metadata": {
    "tags": []
   },
   "outputs": [
    {
     "data": {
      "text/plain": [
       "'foo'"
      ]
     },
     "execution_count": 3,
     "metadata": {},
     "output_type": "execute_result"
    }
   ],
   "source": [
    "\"foo\" "
   ]
  },
  {
   "cell_type": "code",
   "execution_count": 6,
   "id": "b2604fd2-ba9d-4af8-81eb-ffc23333732b",
   "metadata": {},
   "outputs": [
    {
     "data": {
      "text/plain": [
       "'1'"
      ]
     },
     "execution_count": 6,
     "metadata": {},
     "output_type": "execute_result"
    }
   ],
   "source": [
    "\"1\""
   ]
  },
  {
   "cell_type": "code",
   "execution_count": 4,
   "id": "6557d2ec-601a-44eb-a8ea-0babcbfcb433",
   "metadata": {
    "tags": []
   },
   "outputs": [
    {
     "data": {
      "text/plain": [
       "'foo'"
      ]
     },
     "execution_count": 4,
     "metadata": {},
     "output_type": "execute_result"
    }
   ],
   "source": [
    "'foo'"
   ]
  },
  {
   "cell_type": "markdown",
   "id": "04903453-1f08-4952-8efe-9b58db456ad1",
   "metadata": {},
   "source": [
    "Note how Python's internal representation of a string uses single quotes."
   ]
  },
  {
   "cell_type": "markdown",
   "id": "cbd2945c-b706-4975-93fc-b64a7dab57ec",
   "metadata": {
    "slideshow": {
     "slide_type": "subslide"
    },
    "tags": []
   },
   "source": [
    "Note also that there is no explicit **character** type as in Java and other languages.\n",
    "\n",
    "Some languages, such as Java and C, reserve a data type for single characters and create strings by putting these types into an array or some other data structure."
   ]
  },
  {
   "cell_type": "markdown",
   "id": "863f8631-bac9-4910-82d3-9aae14f9d701",
   "metadata": {
    "slideshow": {
     "slide_type": "slide"
    },
    "tags": []
   },
   "source": [
    "**Boolean**\n",
    "\n",
    "Boolean values are represented by the following unquoted reserved words:"
   ]
  },
  {
   "cell_type": "code",
   "execution_count": 5,
   "id": "4dfcf37d-8d71-4bd5-a4c5-426329e1e9c6",
   "metadata": {
    "tags": []
   },
   "outputs": [
    {
     "data": {
      "text/plain": [
       "(True, False)"
      ]
     },
     "execution_count": 5,
     "metadata": {},
     "output_type": "execute_result"
    }
   ],
   "source": [
    "True, False"
   ]
  },
  {
   "cell_type": "markdown",
   "id": "2cc7ffed-35ca-499d-a415-9c235d4fcffc",
   "metadata": {
    "tags": []
   },
   "source": [
    "Note that these are case-sensitive. The following will not work:"
   ]
  },
  {
   "cell_type": "code",
   "execution_count": 13,
   "id": "45a9694c-6e37-4dff-a41f-0bfbef2d0ac4",
   "metadata": {
    "tags": []
   },
   "outputs": [
    {
     "ename": "NameError",
     "evalue": "name 'TRUE' is not defined",
     "output_type": "error",
     "traceback": [
      "\u001b[0;31m---------------------------------------------------------------------------\u001b[0m",
      "\u001b[0;31mNameError\u001b[0m                                 Traceback (most recent call last)",
      "\u001b[0;32m/tmp/ipykernel_382209/3596099519.py\u001b[0m in \u001b[0;36m<module>\u001b[0;34m\u001b[0m\n\u001b[0;32m----> 1\u001b[0;31m \u001b[0mTRUE\u001b[0m\u001b[0;34m,\u001b[0m \u001b[0mtrue\u001b[0m\u001b[0;34m\u001b[0m\u001b[0;34m\u001b[0m\u001b[0m\n\u001b[0m",
      "\u001b[0;31mNameError\u001b[0m: name 'TRUE' is not defined"
     ]
    }
   ],
   "source": [
    "TRUE"
   ]
  },
  {
   "cell_type": "code",
   "execution_count": 14,
   "id": "f17eb911-98bc-4033-97f7-7f69c163eee6",
   "metadata": {
    "tags": []
   },
   "outputs": [
    {
     "ename": "NameError",
     "evalue": "name 'false' is not defined",
     "output_type": "error",
     "traceback": [
      "\u001b[0;31m---------------------------------------------------------------------------\u001b[0m",
      "\u001b[0;31mNameError\u001b[0m                                 Traceback (most recent call last)",
      "\u001b[0;32m/tmp/ipykernel_382209/1273114308.py\u001b[0m in \u001b[0;36m<module>\u001b[0;34m\u001b[0m\n\u001b[0;32m----> 1\u001b[0;31m \u001b[0mfalse\u001b[0m\u001b[0;34m\u001b[0m\u001b[0;34m\u001b[0m\u001b[0m\n\u001b[0m",
      "\u001b[0;31mNameError\u001b[0m: name 'false' is not defined"
     ]
    }
   ],
   "source": [
    "false"
   ]
  },
  {
   "cell_type": "markdown",
   "id": "a5ea14d6-5c7c-4ba8-8732-169aca58266d",
   "metadata": {
    "slideshow": {
     "slide_type": "slide"
    },
    "tags": []
   },
   "source": [
    "**Nothing**\n",
    "\n",
    "Python has a reserved data type for situations where there is no value to represent.\n",
    "\n",
    "It evaluates to nothing!"
   ]
  },
  {
   "cell_type": "code",
   "execution_count": 15,
   "id": "09225ee2-f76d-4014-9ffa-b6da7d2aaaf2",
   "metadata": {
    "tags": []
   },
   "outputs": [],
   "source": [
    "None"
   ]
  },
  {
   "cell_type": "code",
   "execution_count": 16,
   "id": "c79557e1-4164-4705-9447-b9af1b44d65e",
   "metadata": {
    "tags": []
   },
   "outputs": [
    {
     "name": "stdout",
     "output_type": "stream",
     "text": [
      "None\n"
     ]
    }
   ],
   "source": [
    "print(None)"
   ]
  },
  {
   "cell_type": "markdown",
   "id": "9dbf6b45-1b20-4216-9d65-e1c719c7a9ec",
   "metadata": {
    "slideshow": {
     "slide_type": "slide"
    },
    "tags": []
   },
   "source": [
    "**Complex**\n",
    "\n",
    "Complex numbers are created by combining imaginary numbers with other numbers.\n",
    "\n",
    "Imaginary numbers are floats or integers with a `j` suffix."
   ]
  },
  {
   "cell_type": "code",
   "execution_count": 45,
   "id": "e9e1a547-6ce5-4be1-a637-7e7b5732ecd6",
   "metadata": {
    "tags": []
   },
   "outputs": [
    {
     "data": {
      "text/plain": [
       "(5+0j)"
      ]
     },
     "execution_count": 45,
     "metadata": {},
     "output_type": "execute_result"
    }
   ],
   "source": [
    "5 + 0j"
   ]
  },
  {
   "cell_type": "code",
   "execution_count": 48,
   "id": "5ef09558-af98-4adf-965f-63a3548b05f1",
   "metadata": {
    "tags": []
   },
   "outputs": [
    {
     "data": {
      "text/plain": [
       "(0.05+0.1j)"
      ]
     },
     "execution_count": 48,
     "metadata": {},
     "output_type": "execute_result"
    }
   ],
   "source": [
    "5.0 / 100 + .1j"
   ]
  },
  {
   "cell_type": "code",
   "execution_count": 47,
   "id": "d9aa50c2-1c76-45e9-bdb5-f0c0cd3e03ac",
   "metadata": {
    "tags": []
   },
   "outputs": [
    {
     "data": {
      "text/plain": [
       "(0.9870764805873051+0.16024987198553192j)"
      ]
     },
     "execution_count": 47,
     "metadata": {},
     "output_type": "execute_result"
    }
   ],
   "source": [
    "5.0 ** .1j"
   ]
  },
  {
   "cell_type": "markdown",
   "id": "aa616ca6-9bd3-4010-810e-1c3b45ecc62b",
   "metadata": {
    "slideshow": {
     "slide_type": "slide"
    },
    "tags": []
   },
   "source": [
    "# Getting the type of a value"
   ]
  },
  {
   "cell_type": "markdown",
   "id": "8ff73240-9925-4066-bb3a-be265a2932c4",
   "metadata": {},
   "source": [
    "You can always find out what object type you are working with by calling the `type()` function."
   ]
  },
  {
   "cell_type": "code",
   "execution_count": null,
   "id": "238afb0e-29ff-44d9-b9ce-ff783e1386f4",
   "metadata": {
    "tags": []
   },
   "outputs": [
    {
     "name": "stdout",
     "output_type": "stream",
     "text": [
      "<class 'float'>\n",
      "<class 'str'>\n",
      "<class 'str'>\n",
      "<class 'bool'>\n",
      "<class 'NoneType'>\n"
     ]
    }
   ],
   "source": [
    "type(3.14)\n",
    "type(\"foo\")\n",
    "type('foo')\n",
    "type(True)\n",
    "type(None)"
   ]
  },
  {
   "cell_type": "markdown",
   "id": "161b597a-68d3-4a32-a400-451df367f4c5",
   "metadata": {
    "slideshow": {
     "slide_type": "slide"
    },
    "tags": []
   },
   "source": [
    "# Assignment\n",
    "\n",
    "Data are assigned to **variables** using the assignment **operator** `=`, like so:"
   ]
  },
  {
   "cell_type": "code",
   "execution_count": 13,
   "id": "db9633a2-103e-4310-80c6-b3b96153dbe4",
   "metadata": {
    "tags": []
   },
   "outputs": [],
   "source": [
    "integerEx = 8\n",
    "longIntEx = 22000000000000000000000\n",
    "floatEx = 2.2\n",
    "stringEx = \"Hello\"\n",
    "booleanEx = True\n",
    "noneEx = None"
   ]
  },
  {
   "cell_type": "markdown",
   "id": "4a1ffb2d-7eaa-4eb0-aefc-6af0822bad08",
   "metadata": {
    "tags": []
   },
   "source": [
    "The variable name is always on the **left**, the value assigned to it on the **right**.\n",
    "\n",
    "This is not the same as mathemtical equality."
   ]
  },
  {
   "cell_type": "markdown",
   "id": "2a6d27a1-cfda-461a-80b2-4a797e7bad68",
   "metadata": {
    "slideshow": {
     "slide_type": "subslide"
    },
    "tags": []
   },
   "source": [
    "When assigned a value, a variable inherits the object type of the assigned value,\n",
    "\n",
    "In other words, variables are assigned types **dynamically**. \n",
    "\n",
    "This is in contrast to **static typing**, where you define variables by asserting what kind of data values they can hold.\n",
    "\n",
    "Python figures out what type of data is being set to the variable and implicitly stores that info."
   ]
  },
  {
   "cell_type": "markdown",
   "id": "e28d7aec-c869-4efb-9238-7760d2a83577",
   "metadata": {
    "slideshow": {
     "slide_type": "subslide"
    },
    "tags": []
   },
   "source": [
    "Variables names may contain any combination of letters, numerals, and underscores.\n",
    "\n",
    "The may not begin with a numeral."
   ]
  },
  {
   "cell_type": "markdown",
   "id": "5bb72964-a031-4301-8ac8-4f3270c8efaa",
   "metadata": {
    "slideshow": {
     "slide_type": "subslide"
    },
    "tags": []
   },
   "source": [
    "Note that `type()` returns the type of the value that a variable holds, not the type \"variable\"."
   ]
  },
  {
   "cell_type": "code",
   "execution_count": null,
   "id": "b745bc19-21b6-4833-89c2-4e368a247bac",
   "metadata": {
    "tags": []
   },
   "outputs": [
    {
     "name": "stdout",
     "output_type": "stream",
     "text": [
      "<class 'int'>\n"
     ]
    }
   ],
   "source": [
    "type(integerEx)"
   ]
  },
  {
   "cell_type": "markdown",
   "id": "8ab2d51e-9fac-4151-846b-60f9e383bc3a",
   "metadata": {
    "slideshow": {
     "slide_type": "slide"
    },
    "tags": []
   },
   "source": [
    "# Deleting variables with `del()`\n",
    "\n",
    "When you assign a variable in Python, it stores that variable in memory along with its current value.\n",
    "\n",
    "If you want to remove the variable and its value from memory, you can delete it with the `del()` function."
   ]
  },
  {
   "cell_type": "code",
   "execution_count": 9,
   "id": "9dbf9fc6-7944-4299-9fd0-217f290a6902",
   "metadata": {},
   "outputs": [],
   "source": [
    "x = 101.25"
   ]
  },
  {
   "cell_type": "code",
   "execution_count": 10,
   "id": "02acc388-72bc-41f1-bf05-645f6b55c1ad",
   "metadata": {},
   "outputs": [
    {
     "data": {
      "text/plain": [
       "101.25"
      ]
     },
     "execution_count": 10,
     "metadata": {},
     "output_type": "execute_result"
    }
   ],
   "source": [
    "x"
   ]
  },
  {
   "cell_type": "code",
   "execution_count": 11,
   "id": "cd1550a5-777b-4b82-8f44-c8cd9b95b9cb",
   "metadata": {},
   "outputs": [],
   "source": [
    "del(x)  # delete the variable x"
   ]
  },
  {
   "cell_type": "code",
   "execution_count": 12,
   "id": "d4181af3-d232-4749-abe8-b271ea295052",
   "metadata": {},
   "outputs": [
    {
     "ename": "NameError",
     "evalue": "name 'x' is not defined",
     "output_type": "error",
     "traceback": [
      "\u001b[0;31m---------------------------------------------------------------------------\u001b[0m",
      "\u001b[0;31mNameError\u001b[0m                                 Traceback (most recent call last)",
      "Cell \u001b[0;32mIn[12], line 1\u001b[0m\n\u001b[0;32m----> 1\u001b[0m \u001b[43mx\u001b[49m\n",
      "\u001b[0;31mNameError\u001b[0m: name 'x' is not defined"
     ]
    }
   ],
   "source": [
    "x"
   ]
  },
  {
   "cell_type": "markdown",
   "id": "8af27ebd-a200-447c-be16-24600e3b2928",
   "metadata": {
    "slideshow": {
     "slide_type": "subslide"
    },
    "tags": []
   },
   "source": [
    "Note that you cannot delete values!"
   ]
  },
  {
   "cell_type": "code",
   "execution_count": 13,
   "id": "6e87dca3-1e4b-4083-9ed9-1396517d4310",
   "metadata": {
    "tags": []
   },
   "outputs": [
    {
     "ename": "SyntaxError",
     "evalue": "cannot delete literal (1397139688.py, line 1)",
     "output_type": "error",
     "traceback": [
      "\u001b[0;36m  Cell \u001b[0;32mIn[13], line 1\u001b[0;36m\u001b[0m\n\u001b[0;31m    del(\"foo\")\u001b[0m\n\u001b[0m       ^\u001b[0m\n\u001b[0;31mSyntaxError\u001b[0m\u001b[0;31m:\u001b[0m cannot delete literal\n"
     ]
    }
   ],
   "source": [
    "del(\"foo\")"
   ]
  },
  {
   "cell_type": "markdown",
   "id": "8daf6de3-421d-4658-9dd5-ad001097c4ec",
   "metadata": {
    "slideshow": {
     "slide_type": "slide"
    },
    "tags": []
   },
   "source": [
    "# Get Object Indenity with `id()`\n",
    "\n",
    "This function returns the identity of an object. \n",
    "\n",
    "You can think of this number as the unique identifier of the variable in the table that Python uses to store variables and values in memory.\n",
    "\n",
    "You can also think of it as the **address** of the object in memory.\n",
    "\n",
    "This number that is guaranteed to be unique and constant for this object during its lifetime, i.e. during the program session."
   ]
  },
  {
   "cell_type": "code",
   "execution_count": 55,
   "id": "877f33b8-1a9e-43dc-9057-c715f7e26505",
   "metadata": {
    "tags": []
   },
   "outputs": [],
   "source": [
    "integer_example = 55"
   ]
  },
  {
   "cell_type": "code",
   "execution_count": 56,
   "id": "afead607-3c0d-41f0-ad1a-9104d8dd61f2",
   "metadata": {
    "tags": []
   },
   "outputs": [
    {
     "data": {
      "text/plain": [
       "139731913957424"
      ]
     },
     "execution_count": 56,
     "metadata": {},
     "output_type": "execute_result"
    }
   ],
   "source": [
    "id(integer_example)"
   ]
  },
  {
   "cell_type": "markdown",
   "id": "8bbebc65-7751-4ecf-9ca3-4a78d23876d0",
   "metadata": {
    "slideshow": {
     "slide_type": "slide"
    },
    "tags": []
   },
   "source": [
    "# Converting Types with Casting Functions\n",
    "\n",
    "It is possible to convert between types.\n",
    "\n",
    "For example, you may want to convert a float into an integer to save memory.\n",
    "\n",
    "The process of converting a data of one kind into another is a called **casting**.\n",
    "\n",
    "Sometimes conversions are \"lossy\" -- you lose information in the process"
   ]
  },
  {
   "cell_type": "markdown",
   "id": "083a4cbd-3b0a-47b1-bd3e-414c451ff544",
   "metadata": {
    "tags": []
   },
   "source": [
    "## `int()`\n",
    "\n",
    "This converts a number or string into an integer where it makes sense to do so."
   ]
  },
  {
   "cell_type": "markdown",
   "id": "b8e30df1-f96b-4a29-922a-957d766dbc5a",
   "metadata": {
    "tags": []
   },
   "source": [
    "**Float to Int**"
   ]
  },
  {
   "cell_type": "code",
   "execution_count": 57,
   "id": "cc4abe5e-c486-45f7-82f3-801b76642f2a",
   "metadata": {
    "tags": []
   },
   "outputs": [
    {
     "data": {
      "text/plain": [
       "(3.8, float)"
      ]
     },
     "execution_count": 57,
     "metadata": {},
     "output_type": "execute_result"
    }
   ],
   "source": [
    "val = 3.8\n",
    "val, type(val)"
   ]
  },
  {
   "cell_type": "code",
   "execution_count": 58,
   "id": "0eb9601b-d4f5-4e7e-aa83-89c6825f994a",
   "metadata": {
    "tags": []
   },
   "outputs": [
    {
     "data": {
      "text/plain": [
       "(3, int)"
      ]
     },
     "execution_count": 58,
     "metadata": {},
     "output_type": "execute_result"
    }
   ],
   "source": [
    "val_int = int(val)\n",
    "val_int, type(val_int)"
   ]
  },
  {
   "cell_type": "markdown",
   "id": "75533097-a429-4f36-b09b-b7b289ff656a",
   "metadata": {
    "slideshow": {
     "slide_type": "slide"
    },
    "tags": []
   },
   "source": [
    "## `float()`\n",
    "\n",
    "This converts a string or integer into a float."
   ]
  },
  {
   "cell_type": "markdown",
   "id": "6a58dcbd-3e1f-4910-8c44-d45aa6b0ddc3",
   "metadata": {
    "tags": []
   },
   "source": [
    "**String to Float**"
   ]
  },
  {
   "cell_type": "code",
   "execution_count": 69,
   "id": "54cfe26d-31aa-4e4c-8dbe-d5105599a304",
   "metadata": {
    "tags": []
   },
   "outputs": [
    {
     "data": {
      "text/plain": [
       "('3.8', str)"
      ]
     },
     "execution_count": 69,
     "metadata": {},
     "output_type": "execute_result"
    }
   ],
   "source": [
    "val_str = '3.8'\n",
    "val_str, type(val)"
   ]
  },
  {
   "cell_type": "code",
   "execution_count": 70,
   "id": "1d5f9c6c-9589-4ae7-a618-e7d7ceef3433",
   "metadata": {
    "tags": []
   },
   "outputs": [
    {
     "data": {
      "text/plain": [
       "(3.8, float)"
      ]
     },
     "execution_count": 70,
     "metadata": {},
     "output_type": "execute_result"
    }
   ],
   "source": [
    "val_int = float(val_str)\n",
    "val_int, type(val_int)"
   ]
  },
  {
   "cell_type": "markdown",
   "id": "42eb2683-b083-439a-b3ce-a864e030d045",
   "metadata": {
    "slideshow": {
     "slide_type": "subslide"
    },
    "tags": []
   },
   "source": [
    "Note that converting string decimal to integer will fail."
   ]
  },
  {
   "cell_type": "code",
   "execution_count": 72,
   "id": "2e3303e8-12b8-4ade-8506-455fddfad3ef",
   "metadata": {
    "tags": []
   },
   "outputs": [
    {
     "ename": "ValueError",
     "evalue": "invalid literal for int() with base 10: '3.8'",
     "output_type": "error",
     "traceback": [
      "\u001b[0;31m---------------------------------------------------------------------------\u001b[0m",
      "\u001b[0;31mValueError\u001b[0m                                Traceback (most recent call last)",
      "\u001b[0;32m/tmp/ipykernel_382209/3985527561.py\u001b[0m in \u001b[0;36m<module>\u001b[0;34m\u001b[0m\n\u001b[0;32m----> 1\u001b[0;31m \u001b[0mval_int\u001b[0m \u001b[0;34m=\u001b[0m \u001b[0mint\u001b[0m\u001b[0;34m(\u001b[0m\u001b[0mval_str\u001b[0m\u001b[0;34m)\u001b[0m\u001b[0;34m\u001b[0m\u001b[0;34m\u001b[0m\u001b[0m\n\u001b[0m\u001b[1;32m      2\u001b[0m \u001b[0mval_int\u001b[0m\u001b[0;34m,\u001b[0m \u001b[0mtype\u001b[0m\u001b[0;34m(\u001b[0m\u001b[0mval_int\u001b[0m\u001b[0;34m)\u001b[0m\u001b[0;34m\u001b[0m\u001b[0;34m\u001b[0m\u001b[0m\n",
      "\u001b[0;31mValueError\u001b[0m: invalid literal for int() with base 10: '3.8'"
     ]
    }
   ],
   "source": [
    "val_int = int(val_str)\n",
    "val_int, type(val_int)"
   ]
  },
  {
   "cell_type": "markdown",
   "id": "a26c3c06-5267-429f-8d60-74e9f7dea446",
   "metadata": {
    "slideshow": {
     "slide_type": "slide"
    },
    "tags": []
   },
   "source": [
    "## `ord()`\n",
    "\n",
    "This converts a character to it's code point.\n",
    "\n",
    "A code point is the internal number associated with each character in the character set used by Python. \n",
    "\n",
    "The character set is called [Unicode](https://home.unicode.org/)."
   ]
  },
  {
   "cell_type": "code",
   "execution_count": 29,
   "id": "55cf6cf4-c35a-4da2-a975-0bae21e8ce1e",
   "metadata": {
    "tags": []
   },
   "outputs": [
    {
     "data": {
      "text/plain": [
       "(97, 65)"
      ]
     },
     "execution_count": 29,
     "metadata": {},
     "output_type": "execute_result"
    }
   ],
   "source": [
    "ord('a'), ord('A')"
   ]
  },
  {
   "cell_type": "markdown",
   "id": "5019ee17-a037-461d-a545-23871d30a9bd",
   "metadata": {
    "slideshow": {
     "slide_type": "slide"
    },
    "tags": []
   },
   "source": [
    "# Operators"
   ]
  },
  {
   "cell_type": "markdown",
   "id": "326f3a1a-b4c6-4a19-89ca-c1bfb067e626",
   "metadata": {
    "slideshow": {
     "slide_type": "slide"
    },
    "tags": []
   },
   "source": [
    "If variables are **nouns**, and values **meanings**, then operators are **verbs**.\n",
    "\n",
    "**Each data type is associated with a set of operators** that allow you to manipulate the data in way that makes sense for its type. \n",
    "\n",
    "For exampple, numeric data types are subject to mathematical operations, booleans to logical ones, and so forth."
   ]
  },
  {
   "cell_type": "markdown",
   "id": "02b4dbbd-04a4-427c-9c32-f96f44e4262d",
   "metadata": {
    "slideshow": {
     "slide_type": "subslide"
    },
    "tags": []
   },
   "source": [
    "The relationship between data types and operators is a microcosm of the relationship betweed data structures and algorithms. \n",
    "\n",
    "**Data structures imply algorithms and algorithms assume data structures.**\n",
    "\n",
    "The w3schools site has [a good summary](https://www.w3schools.com/python/python_operators.asp).\n",
    "\n",
    "Here are some you may not have seen."
   ]
  },
  {
   "cell_type": "markdown",
   "id": "d8118280-7cb1-4cc9-92be-aa8586c9758f",
   "metadata": {
    "slideshow": {
     "slide_type": "slide"
    },
    "tags": []
   },
   "source": [
    "# Arithmetic Operators"
   ]
  },
  {
   "cell_type": "markdown",
   "id": "f6a76f49-dffa-419a-bfe7-bb63128ad4b6",
   "metadata": {
    "slideshow": {
     "slide_type": "slide"
    },
    "tags": []
   },
   "source": [
    "## floor division `//`\n",
    "\n",
    "Returns the result of a divions without the remainder."
   ]
  },
  {
   "cell_type": "code",
   "execution_count": 30,
   "id": "48056760-7c8e-40a0-95e3-88e629aa784f",
   "metadata": {},
   "outputs": [
    {
     "data": {
      "text/plain": [
       "2"
      ]
     },
     "execution_count": 30,
     "metadata": {},
     "output_type": "execute_result"
    }
   ],
   "source": [
    "5 // 2"
   ]
  },
  {
   "cell_type": "code",
   "execution_count": 31,
   "id": "5ee780ff-55df-4c2c-9be6-b6ae7ab0806f",
   "metadata": {},
   "outputs": [
    {
     "data": {
      "text/plain": [
       "-3"
      ]
     },
     "execution_count": 31,
     "metadata": {},
     "output_type": "execute_result"
    }
   ],
   "source": [
    "-5 // 2"
   ]
  },
  {
   "cell_type": "code",
   "execution_count": 32,
   "id": "25f21b59-2797-4c42-96c9-3ea52e8148ac",
   "metadata": {
    "tags": []
   },
   "outputs": [
    {
     "data": {
      "text/plain": [
       "2.0"
      ]
     },
     "execution_count": 32,
     "metadata": {},
     "output_type": "execute_result"
    }
   ],
   "source": [
    "5.5 // 2"
   ]
  },
  {
   "cell_type": "markdown",
   "id": "1fae5943-1491-4c6f-95b3-4e092a3a8d8b",
   "metadata": {
    "tags": []
   },
   "source": [
    "Note the data types of the returned values."
   ]
  },
  {
   "cell_type": "markdown",
   "id": "8c63e7d3-91e9-4ffc-a26f-c51d5e15f504",
   "metadata": {
    "slideshow": {
     "slide_type": "slide"
    },
    "tags": []
   },
   "source": [
    "## modulus `%`\n",
    "\n",
    "Returns the remainder"
   ]
  },
  {
   "cell_type": "code",
   "execution_count": 33,
   "id": "07298bd4-29c6-45cc-affc-9ef19bcf2ece",
   "metadata": {},
   "outputs": [
    {
     "data": {
      "text/plain": [
       "1"
      ]
     },
     "execution_count": 33,
     "metadata": {},
     "output_type": "execute_result"
    }
   ],
   "source": [
    "5 % 2"
   ]
  },
  {
   "cell_type": "markdown",
   "id": "c24d80bb-e2e7-4e3d-a61b-3a5ef6a49d23",
   "metadata": {},
   "source": [
    "odd integers % 2 = 1  \n",
    "even integers % 2 = 0"
   ]
  },
  {
   "cell_type": "markdown",
   "id": "67a09bed-43b4-4c75-9b9a-abc82d3154de",
   "metadata": {},
   "source": [
    "Look at this ... "
   ]
  },
  {
   "cell_type": "code",
   "execution_count": 34,
   "id": "6d3cd36d-c434-4284-813d-16d5f784b6b7",
   "metadata": {
    "tags": []
   },
   "outputs": [
    {
     "data": {
      "text/plain": [
       "(2.75, 2.0, 1.5)"
      ]
     },
     "execution_count": 34,
     "metadata": {},
     "output_type": "execute_result"
    }
   ],
   "source": [
    "5.5 / 2, 5.5 // 2, 5.5 % 2"
   ]
  },
  {
   "cell_type": "markdown",
   "id": "e48edda7-54f7-4f8f-ad31-4fcd08df00af",
   "metadata": {
    "tags": []
   },
   "source": [
    "## exponentiation `**`\n",
    "\n",
    "Raises one number to the power of another."
   ]
  },
  {
   "cell_type": "code",
   "execution_count": 35,
   "id": "ababdccb-e208-46eb-a36f-ef65feddb978",
   "metadata": {
    "slideshow": {
     "slide_type": "subslide"
    },
    "tags": []
   },
   "outputs": [
    {
     "data": {
      "text/plain": [
       "125"
      ]
     },
     "execution_count": 35,
     "metadata": {},
     "output_type": "execute_result"
    }
   ],
   "source": [
    "5**3"
   ]
  },
  {
   "cell_type": "markdown",
   "id": "69cf10e0-6b50-4ce5-a03d-c3a952a156da",
   "metadata": {
    "slideshow": {
     "slide_type": "slide"
    },
    "tags": []
   },
   "source": [
    "## String Operators"
   ]
  },
  {
   "cell_type": "markdown",
   "id": "dc79c3bf-1e1d-4ae4-ab91-3660ef2a2435",
   "metadata": {
    "slideshow": {
     "slide_type": "slide"
    },
    "tags": []
   },
   "source": [
    "## concatenation `+`\n",
    "\n",
    "When used with strings, the plus operator joins strings into larger strings.\n",
    "\n",
    "The plus sign is an **overloaded** operator in Python."
   ]
  },
  {
   "cell_type": "code",
   "execution_count": 78,
   "id": "5b1bd463",
   "metadata": {
    "tags": []
   },
   "outputs": [],
   "source": [
    "my_string = 'This: '"
   ]
  },
  {
   "cell_type": "code",
   "execution_count": 79,
   "id": "ad4c7af8-2e22-42fb-99ef-243d3fd3b251",
   "metadata": {
    "tags": []
   },
   "outputs": [],
   "source": [
    "my_2nd_string = my_string + ' Hello, world!'"
   ]
  },
  {
   "cell_type": "code",
   "execution_count": 80,
   "id": "4e9bbc83-3cb1-4f82-b338-c2a165371eef",
   "metadata": {
    "tags": []
   },
   "outputs": [
    {
     "data": {
      "text/plain": [
       "'This:  Hello, world!'"
      ]
     },
     "execution_count": 80,
     "metadata": {},
     "output_type": "execute_result"
    }
   ],
   "source": [
    "my_2nd_string"
   ]
  },
  {
   "cell_type": "markdown",
   "id": "27b5507a-7eb9-4d0d-8a03-714cbc305188",
   "metadata": {
    "slideshow": {
     "slide_type": "slide"
    },
    "tags": []
   },
   "source": [
    "## repetition `*`\n",
    "\n",
    "This joins a string to itself as many times as specified."
   ]
  },
  {
   "cell_type": "code",
   "execution_count": 1,
   "id": "302065aa-a80e-438e-9716-d51fbfa8511a",
   "metadata": {
    "tags": []
   },
   "outputs": [
    {
     "name": "stdout",
     "output_type": "stream",
     "text": [
      "--------------------------------------------------------------------------------\n"
     ]
    }
   ],
   "source": [
    "print('-' * 80)"
   ]
  },
  {
   "cell_type": "code",
   "execution_count": 83,
   "id": "8dec3432-384b-4a2b-ac97-480bcc52485c",
   "metadata": {
    "tags": []
   },
   "outputs": [
    {
     "data": {
      "text/plain": [
       "'This: This: This: This: This: '"
      ]
     },
     "execution_count": 83,
     "metadata": {},
     "output_type": "execute_result"
    }
   ],
   "source": [
    "my_string * 5"
   ]
  },
  {
   "cell_type": "code",
   "execution_count": 84,
   "id": "4bb48349-ebfc-4df6-ba03-3958f6975522",
   "metadata": {
    "slideshow": {
     "slide_type": "subslide"
    },
    "tags": []
   },
   "outputs": [],
   "source": [
    "bart_S1E3 = 'I will not skateboard in the halls'"
   ]
  },
  {
   "cell_type": "code",
   "execution_count": 85,
   "id": "e099f60d-8fb5-4ee3-80dc-cf7bd72ce8c0",
   "metadata": {
    "tags": []
   },
   "outputs": [
    {
     "name": "stdout",
     "output_type": "stream",
     "text": [
      "I will not skateboard in the halls\n",
      "I will not skateboard in the halls\n",
      "I will not skateboard in the halls\n",
      "I will not skateboard in the halls\n",
      "I will not skateboard in the halls\n",
      "\n"
     ]
    }
   ],
   "source": [
    "print((bart_S1E3 + '\\n') * 5)"
   ]
  },
  {
   "cell_type": "markdown",
   "id": "30e3e92c-8f04-45b5-b289-c34c63008e29",
   "metadata": {
    "tags": []
   },
   "source": [
    "[See them all](https://simpsonswiki.com/wiki/List_of_chalkboard_gags) :-)"
   ]
  },
  {
   "cell_type": "markdown",
   "id": "13296c65-0dcc-4189-867f-a4df37f2fc79",
   "metadata": {
    "slideshow": {
     "slide_type": "slide"
    },
    "tags": []
   },
   "source": [
    "# The Assignment Operator `=`\n",
    "\n",
    "We've used this already, but it too is an operator."
   ]
  },
  {
   "cell_type": "code",
   "execution_count": 87,
   "id": "adb4f7a2-b0b3-4853-9375-e4d8ebf6475f",
   "metadata": {
    "tags": []
   },
   "outputs": [],
   "source": [
    "epoch = 20"
   ]
  },
  {
   "cell_type": "code",
   "execution_count": 88,
   "id": "b7be5fed-df37-4687-8fd4-b8f620062ffe",
   "metadata": {
    "tags": []
   },
   "outputs": [
    {
     "name": "stdout",
     "output_type": "stream",
     "text": [
      "epoch: 20\n"
     ]
    }
   ],
   "source": [
    "print('epoch:', epoch)"
   ]
  },
  {
   "cell_type": "markdown",
   "id": "dd3b0fc3-6ec6-4ec8-879f-5f4ab413ddd9",
   "metadata": {
    "slideshow": {
     "slide_type": "slide"
    },
    "tags": []
   },
   "source": [
    "# Comparison Operators\n",
    "\n",
    "Comparisons are questions.\n",
    "\n",
    "They return boolean values. "
   ]
  },
  {
   "cell_type": "markdown",
   "id": "809f6d35-bc2b-459d-acd8-3b54ffab289a",
   "metadata": {
    "slideshow": {
     "slide_type": "slide"
    },
    "tags": []
   },
   "source": [
    "## equality `==`"
   ]
  },
  {
   "cell_type": "code",
   "execution_count": 48,
   "id": "a2aa388f-f1d1-4c5a-ad60-fce643587e77",
   "metadata": {},
   "outputs": [
    {
     "data": {
      "text/plain": [
       "True"
      ]
     },
     "execution_count": 48,
     "metadata": {},
     "output_type": "execute_result"
    }
   ],
   "source": [
    "0 == (10 % 5)"
   ]
  },
  {
   "cell_type": "code",
   "execution_count": 49,
   "id": "4f7e30e9-aa68-401e-ae17-8c49620bdb7f",
   "metadata": {},
   "outputs": [
    {
     "data": {
      "text/plain": [
       "False"
      ]
     },
     "execution_count": 49,
     "metadata": {},
     "output_type": "execute_result"
    }
   ],
   "source": [
    "'Boo' == 'Hoo'"
   ]
  },
  {
   "cell_type": "markdown",
   "id": "e9794bd2-b14a-4568-8425-ca8df7672452",
   "metadata": {
    "slideshow": {
     "slide_type": "slide"
    },
    "tags": []
   },
   "source": [
    "## greater than and less than \n",
    "\n",
    "`>`, `<`, `>=`, and `<=`"
   ]
  },
  {
   "cell_type": "code",
   "execution_count": 94,
   "id": "8af29850-ba5d-44ed-b8f1-45149704c982",
   "metadata": {
    "tags": []
   },
   "outputs": [
    {
     "data": {
      "text/plain": [
       "(False, True)"
      ]
     },
     "execution_count": 94,
     "metadata": {},
     "output_type": "execute_result"
    }
   ],
   "source": [
    "10 < 5, 5. < 100 - 90"
   ]
  },
  {
   "cell_type": "markdown",
   "id": "3ceb8d46-577a-4919-81a5-dea53dc3deea",
   "metadata": {
    "slideshow": {
     "slide_type": "subslide"
    },
    "tags": []
   },
   "source": [
    "Note that we can compare strings, too:"
   ]
  },
  {
   "cell_type": "code",
   "execution_count": 93,
   "id": "0f51981d-2bb0-4ffe-a068-ab4de02e59a4",
   "metadata": {
    "tags": []
   },
   "outputs": [
    {
     "data": {
      "text/plain": [
       "True"
      ]
     },
     "execution_count": 93,
     "metadata": {},
     "output_type": "execute_result"
    }
   ],
   "source": [
    "'A' + 'B' == 'AB'"
   ]
  },
  {
   "cell_type": "code",
   "execution_count": 50,
   "id": "d480d7af-0175-4613-b342-08ec3909c1d3",
   "metadata": {},
   "outputs": [
    {
     "data": {
      "text/plain": [
       "True"
      ]
     },
     "execution_count": 50,
     "metadata": {},
     "output_type": "execute_result"
    }
   ],
   "source": [
    "'A' < 'B'"
   ]
  },
  {
   "cell_type": "markdown",
   "id": "0aff3c50-1684-4616-8d40-e7b7f13139ab",
   "metadata": {
    "slideshow": {
     "slide_type": "subslide"
    },
    "tags": []
   },
   "source": [
    "We can compare relative magnitude because we are comparing their code points:"
   ]
  },
  {
   "cell_type": "code",
   "execution_count": 51,
   "id": "70b4328e-2b0f-4607-b02a-49da0db4a2a7",
   "metadata": {
    "tags": []
   },
   "outputs": [
    {
     "data": {
      "text/plain": [
       "(65, 66)"
      ]
     },
     "execution_count": 51,
     "metadata": {},
     "output_type": "execute_result"
    }
   ],
   "source": [
    "ord('A'), ord('B')"
   ]
  },
  {
   "cell_type": "markdown",
   "id": "39232827-7093-43b7-9eea-5fe7211d67aa",
   "metadata": {
    "slideshow": {
     "slide_type": "slide"
    },
    "tags": []
   },
   "source": [
    "**Watch out when comparing floats, though!**"
   ]
  },
  {
   "cell_type": "markdown",
   "id": "03bb9dec-3406-40dc-8211-10655f811660",
   "metadata": {},
   "source": [
    "This works:"
   ]
  },
  {
   "cell_type": "code",
   "execution_count": 95,
   "id": "6bc62135-1f3c-4107-964d-3fe80a30e5e4",
   "metadata": {
    "tags": []
   },
   "outputs": [
    {
     "data": {
      "text/plain": [
       "True"
      ]
     },
     "execution_count": 95,
     "metadata": {},
     "output_type": "execute_result"
    }
   ],
   "source": [
    ".5 == 1/2"
   ]
  },
  {
   "cell_type": "markdown",
   "id": "95aaed8e-2203-422d-a7fc-04bc9a4dce0d",
   "metadata": {},
   "source": [
    "But this does not:"
   ]
  },
  {
   "cell_type": "code",
   "execution_count": 98,
   "id": "98e63e9a-81fc-4d18-b546-6b268135bc78",
   "metadata": {
    "tags": []
   },
   "outputs": [],
   "source": [
    "x = 0.1 + 0.2\n",
    "y = 0.3"
   ]
  },
  {
   "cell_type": "code",
   "execution_count": 99,
   "id": "bdeb035e-e392-45f6-b2e0-19207a3542ec",
   "metadata": {
    "tags": []
   },
   "outputs": [
    {
     "data": {
      "text/plain": [
       "False"
      ]
     },
     "execution_count": 99,
     "metadata": {},
     "output_type": "execute_result"
    }
   ],
   "source": [
    "x == y"
   ]
  },
  {
   "cell_type": "markdown",
   "id": "be8924db-90fc-4229-9352-df486f9cc244",
   "metadata": {
    "slideshow": {
     "slide_type": "subslide"
    },
    "tags": []
   },
   "source": [
    "This is because the two values are represented differently internally:"
   ]
  },
  {
   "cell_type": "code",
   "execution_count": 103,
   "id": "7811da68-45d4-4f91-bd62-9302b487a8e6",
   "metadata": {
    "tags": []
   },
   "outputs": [
    {
     "data": {
      "text/plain": [
       "(0.30000000000000004, 0.3)"
      ]
     },
     "execution_count": 103,
     "metadata": {},
     "output_type": "execute_result"
    }
   ],
   "source": [
    "x, y"
   ]
  },
  {
   "cell_type": "markdown",
   "id": "54cfba2a-6649-4d70-8f08-2b605a8fc0ce",
   "metadata": {
    "slideshow": {
     "slide_type": "subslide"
    },
    "tags": []
   },
   "source": [
    "You can overcome this by rounding both values, like so:"
   ]
  },
  {
   "cell_type": "code",
   "execution_count": 109,
   "id": "8141d1bb-8b03-4e2e-8c06-595583be2722",
   "metadata": {
    "tags": []
   },
   "outputs": [
    {
     "data": {
      "text/plain": [
       "True"
      ]
     },
     "execution_count": 109,
     "metadata": {},
     "output_type": "execute_result"
    }
   ],
   "source": [
    "round(x, 2) == round(y, 2)"
   ]
  },
  {
   "cell_type": "markdown",
   "id": "59241992-765d-4f48-82c9-8258c750982c",
   "metadata": {},
   "source": [
    "But note this fails:"
   ]
  },
  {
   "cell_type": "code",
   "execution_count": 112,
   "id": "b7f7a46c-6ba7-47c7-8b0f-b72eefe3a94f",
   "metadata": {
    "tags": []
   },
   "outputs": [
    {
     "data": {
      "text/plain": [
       "(False, 0.30000000000000004, 0.3)"
      ]
     },
     "execution_count": 112,
     "metadata": {},
     "output_type": "execute_result"
    }
   ],
   "source": [
    "round(x, 20) == round(y, 20), round(x, 20), round(y, 20)"
   ]
  },
  {
   "cell_type": "markdown",
   "id": "e74a8427-0b18-46ae-85c0-5edddd9733ed",
   "metadata": {},
   "source": [
    "This is because of how Python (and computers in general) handle floating point numbers."
   ]
  },
  {
   "cell_type": "markdown",
   "id": "9c2d82cf-cbf1-4dc2-8f71-67d25af3b26d",
   "metadata": {
    "slideshow": {
     "slide_type": "subslide"
    },
    "tags": []
   },
   "source": [
    "The best soluation is to do this:"
   ]
  },
  {
   "cell_type": "code",
   "execution_count": 113,
   "id": "dcdbe949-3eef-420b-b059-b03e484d61a3",
   "metadata": {
    "tags": []
   },
   "outputs": [
    {
     "data": {
      "text/plain": [
       "True"
      ]
     },
     "execution_count": 113,
     "metadata": {},
     "output_type": "execute_result"
    }
   ],
   "source": [
    "import math\n",
    "\n",
    "math.isclose(x, y)"
   ]
  },
  {
   "cell_type": "markdown",
   "id": "b3718ab1-47b5-4853-be5f-bd52cbef8245",
   "metadata": {
    "slideshow": {
     "slide_type": "slide"
    },
    "tags": []
   },
   "source": [
    "## inequality `!=`"
   ]
  },
  {
   "cell_type": "code",
   "execution_count": 52,
   "id": "7dea88ef-22ff-4d9b-a6ca-52440b7b7537",
   "metadata": {
    "tags": []
   },
   "outputs": [
    {
     "data": {
      "text/plain": [
       "True"
      ]
     },
     "execution_count": 52,
     "metadata": {},
     "output_type": "execute_result"
    }
   ],
   "source": [
    "5/9 != 0.5555"
   ]
  },
  {
   "cell_type": "markdown",
   "id": "67ca84dd-db06-46df-a959-5ca9f8bcb825",
   "metadata": {
    "slideshow": {
     "slide_type": "slide"
    },
    "tags": []
   },
   "source": [
    "# Logical Operators\n",
    "\n",
    "Python uses words where other languages will use other symbols."
   ]
  },
  {
   "cell_type": "markdown",
   "id": "ab24eff2-9f8a-4d51-9516-317d37872926",
   "metadata": {
    "slideshow": {
     "slide_type": "slide"
    },
    "tags": []
   },
   "source": [
    "## Conjunctions `and`, `or`, `not`\n",
    "\n",
    "Note the we group comparisons with parentheses."
   ]
  },
  {
   "cell_type": "code",
   "execution_count": 53,
   "id": "0268adf2-b798-4905-a2d6-b88a8490adfe",
   "metadata": {},
   "outputs": [
    {
     "data": {
      "text/plain": [
       "True"
      ]
     },
     "execution_count": 53,
     "metadata": {},
     "output_type": "execute_result"
    }
   ],
   "source": [
    "x = 10\n",
    "\n",
    "(x % 10 == 0) or (x < -1)"
   ]
  },
  {
   "cell_type": "code",
   "execution_count": 54,
   "id": "31fb55f6-6a82-4237-99eb-db08b37ae8c8",
   "metadata": {},
   "outputs": [
    {
     "data": {
      "text/plain": [
       "False"
      ]
     },
     "execution_count": 54,
     "metadata": {},
     "output_type": "execute_result"
    }
   ],
   "source": [
    "(x % 10 == 0) and (x < -1)"
   ]
  },
  {
   "cell_type": "code",
   "execution_count": 55,
   "id": "9c8d80a4-0050-4ba6-b168-18aaea50539e",
   "metadata": {
    "tags": []
   },
   "outputs": [
    {
     "data": {
      "text/plain": [
       "True"
      ]
     },
     "execution_count": 55,
     "metadata": {},
     "output_type": "execute_result"
    }
   ],
   "source": [
    "not x == 5"
   ]
  },
  {
   "cell_type": "markdown",
   "id": "b44371fd-006b-4a0b-a4b8-9350a2dac005",
   "metadata": {
    "slideshow": {
     "slide_type": "slide"
    },
    "tags": []
   },
   "source": [
    "## Identity `is`\n",
    "\n",
    "The `is` keyword tests if two variables refer to the same object.\n",
    "\n",
    "Depending on object types involved, variable can sometimes point to the same object when we assign one variable to another. \n",
    "\n",
    "The test returns `True` if the two objects are the same object and `False` if they are not.\n",
    "\n",
    "Use the `==` operator to test if two variables store equal values."
   ]
  },
  {
   "cell_type": "markdown",
   "id": "a20cf149-c9b6-4f1e-bc53-c82f1d2393a6",
   "metadata": {
    "slideshow": {
     "slide_type": "slide"
    },
    "tags": []
   },
   "source": [
    "`is`"
   ]
  },
  {
   "cell_type": "code",
   "execution_count": 121,
   "id": "77f4dc00-6f38-4708-8c5d-35caaed85c7a",
   "metadata": {
    "tags": []
   },
   "outputs": [],
   "source": [
    "x = 'foo'\n",
    "y = 'foo'\n",
    "z = 'bar'"
   ]
  },
  {
   "cell_type": "code",
   "execution_count": 122,
   "id": "b41de78b-3382-4376-a352-b705983c8ff5",
   "metadata": {
    "tags": []
   },
   "outputs": [
    {
     "data": {
      "text/plain": [
       "(True, False)"
      ]
     },
     "execution_count": 122,
     "metadata": {},
     "output_type": "execute_result"
    }
   ],
   "source": [
    "x is y, x is z"
   ]
  },
  {
   "cell_type": "markdown",
   "id": "a65019ed-1a50-4eba-a570-8d73f1185058",
   "metadata": {
    "slideshow": {
     "slide_type": "slide"
    },
    "tags": []
   },
   "source": [
    "## Negation `not`\n",
    "\n",
    "`not` flips the value of a boolean."
   ]
  },
  {
   "cell_type": "code",
   "execution_count": 123,
   "id": "cbcd8540-d517-441a-875b-19976ccc42eb",
   "metadata": {
    "tags": []
   },
   "outputs": [
    {
     "data": {
      "text/plain": [
       "(False, True, True, False, False, True)"
      ]
     },
     "execution_count": 123,
     "metadata": {},
     "output_type": "execute_result"
    }
   ],
   "source": [
    "not True, not False, not 0, not 1, not 1000, not None"
   ]
  },
  {
   "cell_type": "markdown",
   "id": "5f1b048d-705f-4a72-a71e-b29524b6751b",
   "metadata": {
    "slideshow": {
     "slide_type": "slide"
    },
    "tags": []
   },
   "source": [
    "`is not` tests if two variables do not point to the same object."
   ]
  },
  {
   "cell_type": "code",
   "execution_count": 120,
   "id": "2acd4ea2-ef33-41e5-bdac-3658d51074ec",
   "metadata": {
    "tags": []
   },
   "outputs": [
    {
     "data": {
      "text/plain": [
       "(False, True)"
      ]
     },
     "execution_count": 120,
     "metadata": {},
     "output_type": "execute_result"
    }
   ],
   "source": [
    "x is not y, x is not z"
   ]
  },
  {
   "cell_type": "markdown",
   "id": "8fe630f9-2920-4cd7-9046-4af36d726074",
   "metadata": {
    "slideshow": {
     "slide_type": "slide"
    },
    "tags": []
   },
   "source": [
    "## Unary Operators\n",
    "\n",
    "Python offers a short-cut for most operators. When updating a variable with an operation to that variable, such as:\n",
    "```python\n",
    "my_var = my_var + 1  # Incrementing\n",
    "```\n",
    "\n",
    "You can do this:\n",
    "```python\n",
    "my_var += 1\n",
    "```\n"
   ]
  },
  {
   "cell_type": "markdown",
   "id": "67e2a0c4-56e7-4c64-a72e-30d7451396b8",
   "metadata": {
    "slideshow": {
     "slide_type": "subslide"
    },
    "tags": []
   },
   "source": [
    "Python supports many operators this way. Here are some:\n",
    "```python\n",
    "a -= a\n",
    "a \\= a\n",
    "a \\\\= a\n",
    "a %= a\n",
    "a *= a\n",
    "a **= a\n",
    "```"
   ]
  },
  {
   "cell_type": "markdown",
   "id": "5a3c309b-583a-4e22-bbdb-4c10332fc7b1",
   "metadata": {
    "slideshow": {
     "slide_type": "slide"
    },
    "tags": []
   },
   "source": [
    "# Expressions\n",
    "\n",
    "Variables, literal values, and operators are the building blocks of ebxpressions.\n",
    "\n",
    "For example, the following combines three operators and four variables:"
   ]
  },
  {
   "cell_type": "code",
   "execution_count": 62,
   "id": "e6137ca1-55e5-49fd-8c74-9540ea81ded1",
   "metadata": {},
   "outputs": [
    {
     "data": {
      "text/plain": [
       "4.0"
      ]
     },
     "execution_count": 62,
     "metadata": {},
     "output_type": "execute_result"
    }
   ],
   "source": [
    "1 + 2 * 3 / 2"
   ]
  },
  {
   "cell_type": "markdown",
   "id": "175b7e9a-768c-47be-8bf7-761b8e34d252",
   "metadata": {
    "slideshow": {
     "slide_type": "slide"
    },
    "tags": []
   },
   "source": [
    "Python employs **operator precedence** when evaluating expressions:\n",
    "\n",
    "```\n",
    "P – Parentheses\n",
    "E – Exponentiation\n",
    "M – Multiplication\n",
    "D – Division\n",
    "A – Addition\n",
    "S – Subtraction\n",
    "```"
   ]
  },
  {
   "cell_type": "markdown",
   "id": "0492f014-ec92-456e-aaba-2aceb8337004",
   "metadata": {
    "slideshow": {
     "slide_type": "subslide"
    },
    "tags": []
   },
   "source": [
    "You can use parentheses to group them to force the order of operations you want:"
   ]
  },
  {
   "cell_type": "code",
   "execution_count": 63,
   "id": "7947ec25-90e7-4ef5-8df8-520c25f2f588",
   "metadata": {
    "slideshow": {
     "slide_type": "subslide"
    },
    "tags": []
   },
   "outputs": [
    {
     "data": {
      "text/plain": [
       "4.5"
      ]
     },
     "execution_count": 63,
     "metadata": {},
     "output_type": "execute_result"
    }
   ],
   "source": [
    "(1 + 2) * (3 / 2)"
   ]
  },
  {
   "cell_type": "markdown",
   "id": "94a3fd00-4541-4e66-8e47-9efeb1efed4a",
   "metadata": {
    "slideshow": {
     "slide_type": "subslide"
    },
    "tags": []
   },
   "source": [
    "Variables and literal values can be combined:"
   ]
  },
  {
   "cell_type": "code",
   "execution_count": 64,
   "id": "29aa1c26-d51e-4098-8622-8597f0333fb4",
   "metadata": {},
   "outputs": [],
   "source": [
    "y = 5\n",
    "m = 2.5\n",
    "b = 10"
   ]
  },
  {
   "cell_type": "code",
   "execution_count": 65,
   "id": "b3abdfd2-f22e-471b-b31b-b811940b3826",
   "metadata": {},
   "outputs": [
    {
     "data": {
      "text/plain": [
       "35.0"
      ]
     },
     "execution_count": 65,
     "metadata": {},
     "output_type": "execute_result"
    }
   ],
   "source": [
    "y = m * 10 + b\n",
    "y"
   ]
  },
  {
   "cell_type": "code",
   "execution_count": 66,
   "id": "15558ba0-e862-45db-81da-87c0b63d55ec",
   "metadata": {
    "slideshow": {
     "slide_type": "subslide"
    },
    "tags": []
   },
   "outputs": [
    {
     "data": {
      "text/plain": [
       "22.5"
      ]
     },
     "execution_count": 66,
     "metadata": {},
     "output_type": "execute_result"
    }
   ],
   "source": [
    "y = m * 5 + b\n",
    "y"
   ]
  },
  {
   "cell_type": "markdown",
   "id": "aad1adb9-2749-4088-b491-4ea63c9f298e",
   "metadata": {
    "slideshow": {
     "slide_type": "subslide"
    },
    "tags": []
   },
   "source": [
    "Expresssion can be very complex."
   ]
  },
  {
   "cell_type": "markdown",
   "id": "780c128b-c5cb-45bb-94cd-b92e6bf7edd1",
   "metadata": {},
   "source": [
    "Expressions evaluate to a value, just as single variables do. \n",
    "\n",
    "Therefore, they can be put anywhere a value is accepted."
   ]
  },
  {
   "cell_type": "code",
   "execution_count": 67,
   "id": "a9339628-7748-4c7c-ba5c-587fe3eda79a",
   "metadata": {
    "slideshow": {
     "slide_type": "subslide"
    },
    "tags": []
   },
   "outputs": [
    {
     "data": {
      "text/plain": [
       "1244706300354"
      ]
     },
     "execution_count": 67,
     "metadata": {},
     "output_type": "execute_result"
    }
   ],
   "source": [
    "int((y + 10) ** 8)"
   ]
  }
 ],
 "metadata": {
  "kernelspec": {
   "display_name": "eta",
   "language": "python",
   "name": "eta"
  },
  "language_info": {
   "codemirror_mode": {
    "name": "ipython",
    "version": 3
   },
   "file_extension": ".py",
   "mimetype": "text/x-python",
   "name": "python",
   "nbconvert_exporter": "python",
   "pygments_lexer": "ipython3",
   "version": "3.9.19"
  },
  "vscode": {
   "interpreter": {
    "hash": "c3b963de08c47c3b6758389c5e0978ad73698a111eb508d4e16b558edb8f4cbf"
   }
  },
  "widgets": {
   "application/vnd.jupyter.widget-state+json": {
    "state": {},
    "version_major": 2,
    "version_minor": 0
   }
  }
 },
 "nbformat": 4,
 "nbformat_minor": 5
}
