{
 "cells": [
  {
   "cell_type": "markdown",
   "id": "2094c925-7dea-4e0e-95dd-13eefa7fa57c",
   "metadata": {},
   "source": [
    "# M06 Notes"
   ]
  },
  {
   "cell_type": "markdown",
   "id": "f074eb73-e909-4e43-931c-6153c261f387",
   "metadata": {},
   "source": [
    "## Data Design\n",
    "\n",
    "The structure of data:\n",
    "\n",
    "- **Observed**: Captured measurments. Data qua data. The Information.\n",
    "- **Ontic**: Names that uniquely identify the observied individual or event. The Context.\n",
    "- **Analytic**: Values that are analytically derived from observed data. The Model.\n"
   ]
  }
 ],
 "metadata": {
  "kernelspec": {
   "display_name": "Python 3",
   "language": "python",
   "name": "python3"
  },
  "language_info": {
   "codemirror_mode": {
    "name": "ipython",
    "version": 3
   },
   "file_extension": ".py",
   "mimetype": "text/x-python",
   "name": "python",
   "nbconvert_exporter": "python",
   "pygments_lexer": "ipython3",
   "version": "3.11.4"
  }
 },
 "nbformat": 4,
 "nbformat_minor": 5
}
