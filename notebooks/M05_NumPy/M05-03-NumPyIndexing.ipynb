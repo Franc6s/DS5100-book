{
 "cells": [
  {
   "cell_type": "markdown",
   "id": "e63dd104-cd3b-40b6-921e-4eb2bf25d00b",
   "metadata": {},
   "source": [
    "# NB: NumPy Indexing"
   ]
  },
  {
   "cell_type": "markdown",
   "id": "668366c6-49ac-43fa-acce-ac2f2a708cd3",
   "metadata": {
    "tags": []
   },
   "source": [
    "## Indexing\n",
    "\n",
    " NumPy can create arrays in N dimensions.\n",
    " \n",
    " Here is a 2D array initialized from a list of lists."
   ]
  },
  {
   "cell_type": "code",
   "execution_count": 63,
   "id": "f6b63338-11fa-4401-852b-f519152737aa",
   "metadata": {},
   "outputs": [],
   "source": [
    "arr2d = np.array([[1, 2, 3], [4, 5, 6], [7, 8, 9]])"
   ]
  },
  {
   "cell_type": "markdown",
   "id": "0e38dac0-0a36-4276-9736-cbe3d469de61",
   "metadata": {
    "tags": []
   },
   "source": [
    "Indexing into a dimension produces lower-order arrays."
   ]
  },
  {
   "cell_type": "code",
   "execution_count": 64,
   "id": "5f57062e-2041-47e0-bf4a-9ecf6cd77766",
   "metadata": {},
   "outputs": [
    {
     "data": {
      "text/plain": [
       "array([7, 8, 9])"
      ]
     },
     "execution_count": 64,
     "metadata": {},
     "output_type": "execute_result"
    }
   ],
   "source": [
    "arr2d[2]"
   ]
  },
  {
   "cell_type": "code",
   "execution_count": 65,
   "id": "1b48b797-a1c4-4538-9642-972c6773bd64",
   "metadata": {},
   "outputs": [
    {
     "data": {
      "text/plain": [
       "3"
      ]
     },
     "execution_count": 65,
     "metadata": {},
     "output_type": "execute_result"
    }
   ],
   "source": [
    "arr2d[0][2]"
   ]
  },
  {
   "cell_type": "markdown",
   "id": "4f165c89-f4ed-4ae1-9837-39873f686a18",
   "metadata": {},
   "source": [
    "**Simplified notation:** NumPy offers an elegant way to specify multidimensional indices and slices.\n",
    "\n",
    "Instead of `x[a][b][c]` you can write `x[a,b,c]`."
   ]
  },
  {
   "cell_type": "code",
   "execution_count": 66,
   "id": "bf2a1e13-0301-4b58-954d-3f1eb5c41eda",
   "metadata": {},
   "outputs": [
    {
     "data": {
      "text/plain": [
       "3"
      ]
     },
     "execution_count": 66,
     "metadata": {},
     "output_type": "execute_result"
    }
   ],
   "source": [
    "arr2d[0, 2]"
   ]
  },
  {
   "cell_type": "code",
   "execution_count": 67,
   "id": "5df5a51e-62d8-4b0a-a2ac-0715d20a444f",
   "metadata": {},
   "outputs": [],
   "source": [
    "arr3d = np.array([[[1, 2, 3], [4, 5, 6]], [[7, 8, 9], [10, 11, 12]]])"
   ]
  },
  {
   "cell_type": "code",
   "execution_count": 68,
   "id": "208cadce-4cb9-4a19-be7d-9b4b9a23dc25",
   "metadata": {},
   "outputs": [
    {
     "data": {
      "text/plain": [
       "(2, 2, 3)"
      ]
     },
     "execution_count": 68,
     "metadata": {},
     "output_type": "execute_result"
    }
   ],
   "source": [
    "arr3d.shape"
   ]
  },
  {
   "cell_type": "code",
   "execution_count": 69,
   "id": "0d0ca265-7bca-4b54-a73f-df6a61a47145",
   "metadata": {},
   "outputs": [
    {
     "data": {
      "text/plain": [
       "array([[[ 1,  2,  3],\n",
       "        [ 4,  5,  6]],\n",
       "\n",
       "       [[ 7,  8,  9],\n",
       "        [10, 11, 12]]])"
      ]
     },
     "execution_count": 69,
     "metadata": {},
     "output_type": "execute_result"
    }
   ],
   "source": [
    "arr3d"
   ]
  },
  {
   "cell_type": "markdown",
   "id": "9d0b8174-ef5b-4449-a036-33befae7f586",
   "metadata": {},
   "source": [
    "I find NumPy's way of show the data a bit difficult to parse visually.\n",
    "\n",
    "**Here is a way to visualize 3 and higher dimensional data:**\n",
    "\n",
    "```python\n",
    "[ # AXIS 0                     AXIS 1 CONTAINS 2 ELEMENTS (arrays)\n",
    "    [ # AXIS 1                 EACH MEMBER OF AXIS 2 CONTAINS 2 ELEMENTS (arrays)\n",
    "        [1, 2, 3], # AXIS 2    EACH MEMBER OF AXIS 3 CONTAINS 3 ELEMENTS (integers)\n",
    "        [4, 5, 6]  # AXIS 2\n",
    "    ],  \n",
    "    [ # AXIS 1\n",
    "        [7, 8, 9], \n",
    "        [10, 11, 12]\n",
    "    ]\n",
    "]\n",
    "```\n",
    "Each axis is a level in the nested hierarchy, i.e. a tree or DAG (directed-acyclic graph).\n",
    "\n",
    "* Each axis is a container.\n",
    "* There is only one top container.\n",
    "* Only the bottom containers have data.\n",
    "\n",
    "**Omit lower indices**\n",
    "\n",
    "In multidimensional arrays, if you omit later indices, the returned object will be a **lower-dimensional ndarray** consisting of all the data contained by the higher indexed dimension. \n",
    "\n",
    "So in the 2 × 2 × 3 array `arr3d`:"
   ]
  },
  {
   "cell_type": "code",
   "execution_count": 70,
   "id": "a8435da3-4af3-4aba-92ff-22c2c4e69f77",
   "metadata": {},
   "outputs": [
    {
     "data": {
      "text/plain": [
       "array([[1, 2, 3],\n",
       "       [4, 5, 6]])"
      ]
     },
     "execution_count": 70,
     "metadata": {},
     "output_type": "execute_result"
    }
   ],
   "source": [
    "arr3d[0] # The elements contained by the first row"
   ]
  },
  {
   "cell_type": "markdown",
   "id": "3da0695d-0853-4d51-a112-98211dddaf98",
   "metadata": {},
   "source": [
    "Saving data before modifying an array."
   ]
  },
  {
   "cell_type": "markdown",
   "id": "2dc54346-7d11-4b68-b268-12f71e157532",
   "metadata": {},
   "source": [
    "You can work with these lower dimensional arrays using views and copies."
   ]
  },
  {
   "cell_type": "code",
   "execution_count": 71,
   "id": "4bcfeaa4-3399-4a31-880a-db1b43bf5904",
   "metadata": {},
   "outputs": [
    {
     "data": {
      "text/plain": [
       "array([[[42, 42, 42],\n",
       "        [42, 42, 42]],\n",
       "\n",
       "       [[ 7,  8,  9],\n",
       "        [10, 11, 12]]])"
      ]
     },
     "execution_count": 71,
     "metadata": {},
     "output_type": "execute_result"
    }
   ],
   "source": [
    "old_values = arr3d[0].copy() # Make a copy\n",
    "arr3d[0] = 42                # Use a view to alter the original\n",
    "arr3d                        # See result"
   ]
  },
  {
   "cell_type": "markdown",
   "id": "1b1155ca-d61f-4f36-9646-7ab018f69816",
   "metadata": {},
   "source": [
    "Putting the data back."
   ]
  },
  {
   "cell_type": "code",
   "execution_count": 72,
   "id": "907456ea-3909-4c07-9c42-aeb80a4e83ec",
   "metadata": {},
   "outputs": [
    {
     "data": {
      "text/plain": [
       "array([[[ 1,  2,  3],\n",
       "        [ 4,  5,  6]],\n",
       "\n",
       "       [[ 7,  8,  9],\n",
       "        [10, 11, 12]]])"
      ]
     },
     "execution_count": 72,
     "metadata": {},
     "output_type": "execute_result"
    }
   ],
   "source": [
    "arr3d[0] = old_values\n",
    "arr3d"
   ]
  },
  {
   "cell_type": "markdown",
   "id": "99f8958a-5968-4e0a-80e8-933a63e957b9",
   "metadata": {},
   "source": [
    "Similarly, `arr3d[1, 0]` gives you all of the values whose indices start with (1, 0), forming a 1-dimensional array:"
   ]
  },
  {
   "cell_type": "code",
   "execution_count": 73,
   "id": "6800ea13-ed12-40e8-915d-335a7be46ee4",
   "metadata": {},
   "outputs": [
    {
     "data": {
      "text/plain": [
       "array([7, 8, 9])"
      ]
     },
     "execution_count": 73,
     "metadata": {},
     "output_type": "execute_result"
    }
   ],
   "source": [
    "arr3d[1, 0]"
   ]
  },
  {
   "cell_type": "code",
   "execution_count": 74,
   "id": "d0a1a6f3-9589-448d-ae3b-38bc8db5b317",
   "metadata": {},
   "outputs": [
    {
     "data": {
      "text/plain": [
       "array([[ 7,  8,  9],\n",
       "       [10, 11, 12]])"
      ]
     },
     "execution_count": 74,
     "metadata": {},
     "output_type": "execute_result"
    }
   ],
   "source": [
    "x = arr3d[1]\n",
    "x"
   ]
  },
  {
   "cell_type": "code",
   "execution_count": 75,
   "id": "16be16be-1560-4872-bc01-908f5699329e",
   "metadata": {},
   "outputs": [
    {
     "data": {
      "text/plain": [
       "array([7, 8, 9])"
      ]
     },
     "execution_count": 75,
     "metadata": {},
     "output_type": "execute_result"
    }
   ],
   "source": [
    "x[0]"
   ]
  },
  {
   "cell_type": "markdown",
   "id": "51e673d5-00a3-4ce9-8790-24631745bb98",
   "metadata": {},
   "source": [
    "## Slicing\n",
    "\n",
    "We demonstrate indexing in 2D arrays by means of slicing.\n",
    "\n",
    "A slice is a subset of an array."
   ]
  },
  {
   "cell_type": "code",
   "execution_count": 76,
   "id": "3e6e096c-a211-4a4f-b84e-6e779782217c",
   "metadata": {},
   "outputs": [
    {
     "data": {
      "text/plain": [
       "array([ 0,  1,  2,  3,  4, 64, 64, 64,  8,  9])"
      ]
     },
     "execution_count": 76,
     "metadata": {},
     "output_type": "execute_result"
    }
   ],
   "source": [
    "arr"
   ]
  },
  {
   "cell_type": "code",
   "execution_count": 77,
   "id": "9417e8c0-a185-4efd-8e7a-f8c05bb135ef",
   "metadata": {},
   "outputs": [
    {
     "data": {
      "text/plain": [
       "array([ 1,  2,  3,  4, 64])"
      ]
     },
     "execution_count": 77,
     "metadata": {},
     "output_type": "execute_result"
    }
   ],
   "source": [
    "arr[1:6]"
   ]
  },
  {
   "cell_type": "code",
   "execution_count": 78,
   "id": "06d08a22-b96c-4cb4-a945-9b3a4d6b5eaf",
   "metadata": {},
   "outputs": [
    {
     "data": {
      "text/plain": [
       "array([[1, 2, 3],\n",
       "       [4, 5, 6],\n",
       "       [7, 8, 9]])"
      ]
     },
     "execution_count": 78,
     "metadata": {},
     "output_type": "execute_result"
    }
   ],
   "source": [
    "arr2d"
   ]
  },
  {
   "cell_type": "code",
   "execution_count": 79,
   "id": "ea4c5542-c73d-45af-b28e-2bb35f15397d",
   "metadata": {},
   "outputs": [
    {
     "data": {
      "text/plain": [
       "array([[1, 2, 3],\n",
       "       [4, 5, 6]])"
      ]
     },
     "execution_count": 79,
     "metadata": {},
     "output_type": "execute_result"
    }
   ],
   "source": [
    "arr2d[:2]"
   ]
  },
  {
   "cell_type": "code",
   "execution_count": 80,
   "id": "66bad7aa-b75a-485b-b75e-b2351bfe1a3a",
   "metadata": {},
   "outputs": [
    {
     "data": {
      "text/plain": [
       "array([[2, 3],\n",
       "       [5, 6]])"
      ]
     },
     "execution_count": 80,
     "metadata": {},
     "output_type": "execute_result"
    }
   ],
   "source": [
    "arr2d[:2, 1:]"
   ]
  },
  {
   "cell_type": "code",
   "execution_count": 81,
   "id": "b27874de-4159-4897-8837-8c8eb9acd6b6",
   "metadata": {},
   "outputs": [
    {
     "data": {
      "text/plain": [
       "array([4, 5])"
      ]
     },
     "execution_count": 81,
     "metadata": {},
     "output_type": "execute_result"
    }
   ],
   "source": [
    "arr2d[1, :2]"
   ]
  },
  {
   "cell_type": "code",
   "execution_count": 82,
   "id": "d1e6316a-6c66-49b3-8ee1-732fbf66b3b8",
   "metadata": {},
   "outputs": [
    {
     "data": {
      "text/plain": [
       "array([3, 6])"
      ]
     },
     "execution_count": 82,
     "metadata": {},
     "output_type": "execute_result"
    }
   ],
   "source": [
    "arr2d[:2, 2]"
   ]
  },
  {
   "cell_type": "code",
   "execution_count": 83,
   "id": "e278801e-f35a-4379-b1aa-410d91091fd9",
   "metadata": {},
   "outputs": [
    {
     "data": {
      "text/plain": [
       "array([[1],\n",
       "       [4],\n",
       "       [7]])"
      ]
     },
     "execution_count": 83,
     "metadata": {},
     "output_type": "execute_result"
    }
   ],
   "source": [
    "arr2d[:, :1]"
   ]
  },
  {
   "cell_type": "code",
   "execution_count": 84,
   "id": "c4b47cf2-c0ce-4925-a023-7f74b8844e4e",
   "metadata": {
    "scrolled": true
   },
   "outputs": [
    {
     "data": {
      "text/plain": [
       "array([[1, 0, 0],\n",
       "       [4, 0, 0],\n",
       "       [7, 8, 9]])"
      ]
     },
     "execution_count": 84,
     "metadata": {},
     "output_type": "execute_result"
    }
   ],
   "source": [
    "arr2d[:2, 1:] = 0\n",
    "arr2d"
   ]
  },
  {
   "cell_type": "markdown",
   "id": "e11735cb-b9a7-4799-b3b8-657fbc2cc3f2",
   "metadata": {
    "slideshow": {
     "slide_type": "slide"
    }
   },
   "source": [
    "## More Indexing and Slicing"
   ]
  },
  {
   "cell_type": "markdown",
   "id": "1d5aaaf1-3b4a-4fd6-8c84-25ef7bace541",
   "metadata": {},
   "source": [
    "**Example 1**"
   ]
  },
  {
   "cell_type": "code",
   "execution_count": 40,
   "id": "4f8355ab-5036-4198-b94f-7d930f75765e",
   "metadata": {},
   "outputs": [],
   "source": [
    "foo = np.random.randn(3,5)"
   ]
  },
  {
   "cell_type": "code",
   "execution_count": 41,
   "id": "31dade39-5165-4748-9360-b547aa62805e",
   "metadata": {
    "tags": []
   },
   "outputs": [
    {
     "data": {
      "text/plain": [
       "array([[ 0.62543484, -0.96229943,  0.95196573, -0.51305197, -0.1115699 ],\n",
       "       [ 0.11019503, -0.10980058,  0.28150877, -0.51208741, -0.75206119],\n",
       "       [ 1.69514313, -1.08493512,  0.1422037 , -0.8920906 , -0.71471137]])"
      ]
     },
     "execution_count": 41,
     "metadata": {},
     "output_type": "execute_result"
    }
   ],
   "source": [
    "foo"
   ]
  },
  {
   "cell_type": "code",
   "execution_count": 42,
   "id": "d21dd6e0-cce7-403f-91ff-ab8a6eefb3c8",
   "metadata": {},
   "outputs": [
    {
     "data": {
      "text/plain": [
       "(3, 5)"
      ]
     },
     "execution_count": 42,
     "metadata": {},
     "output_type": "execute_result"
    }
   ],
   "source": [
    "foo.shape"
   ]
  },
  {
   "cell_type": "code",
   "execution_count": 43,
   "id": "64594316-7992-4114-b92b-4c7157dc7f64",
   "metadata": {
    "tags": []
   },
   "outputs": [
    {
     "data": {
      "text/plain": [
       "array([[ 0.11019503, -0.10980058],\n",
       "       [ 1.69514313, -1.08493512]])"
      ]
     },
     "execution_count": 43,
     "metadata": {},
     "output_type": "execute_result"
    }
   ],
   "source": [
    "foo[1:, :2]"
   ]
  },
  {
   "cell_type": "code",
   "execution_count": 44,
   "id": "4b857330-7a79-4736-a873-46b3d4de854d",
   "metadata": {},
   "outputs": [
    {
     "data": {
      "text/plain": [
       "(2, 2)"
      ]
     },
     "execution_count": 44,
     "metadata": {},
     "output_type": "execute_result"
    }
   ],
   "source": [
    "foo[1:, :2].shape"
   ]
  },
  {
   "cell_type": "markdown",
   "id": "37c4ea31-5827-49b6-bc6b-35a2dcbe3b2b",
   "metadata": {},
   "source": [
    "Why is this different?"
   ]
  },
  {
   "cell_type": "code",
   "execution_count": 45,
   "id": "7dd5a46d-8bdd-4f65-a54e-fbaa9f4693b7",
   "metadata": {
    "tags": []
   },
   "outputs": [
    {
     "data": {
      "text/plain": [
       "array([[ 0.11019503, -0.10980058,  0.28150877, -0.51208741, -0.75206119],\n",
       "       [ 1.69514313, -1.08493512,  0.1422037 , -0.8920906 , -0.71471137]])"
      ]
     },
     "execution_count": 45,
     "metadata": {},
     "output_type": "execute_result"
    }
   ],
   "source": [
    "foo[1:][:2]"
   ]
  },
  {
   "cell_type": "markdown",
   "id": "985c50ef-94b6-42f7-ba6a-7a535ad7c755",
   "metadata": {},
   "source": [
    "Because it operations in sequence, not simultaneously."
   ]
  },
  {
   "cell_type": "code",
   "execution_count": 46,
   "id": "5ba6f2eb-9f0b-444d-a5e8-407bc3e35b02",
   "metadata": {
    "tags": []
   },
   "outputs": [
    {
     "data": {
      "text/plain": [
       "array([[ 0.11019503, -0.10980058,  0.28150877, -0.51208741, -0.75206119],\n",
       "       [ 1.69514313, -1.08493512,  0.1422037 , -0.8920906 , -0.71471137]])"
      ]
     },
     "execution_count": 46,
     "metadata": {},
     "output_type": "execute_result"
    }
   ],
   "source": [
    "a = foo[1:]\n",
    "a"
   ]
  },
  {
   "cell_type": "code",
   "execution_count": 47,
   "id": "fb6a8c39-8b06-4cbd-a97e-10a4633adc80",
   "metadata": {
    "tags": []
   },
   "outputs": [
    {
     "data": {
      "text/plain": [
       "array([[ 0.11019503, -0.10980058,  0.28150877, -0.51208741, -0.75206119],\n",
       "       [ 1.69514313, -1.08493512,  0.1422037 , -0.8920906 , -0.71471137]])"
      ]
     },
     "execution_count": 47,
     "metadata": {},
     "output_type": "execute_result"
    }
   ],
   "source": [
    "a[:2]"
   ]
  },
  {
   "cell_type": "markdown",
   "id": "1b92e679-4d01-46a9-9ca9-29d3326554ad",
   "metadata": {},
   "source": [
    "**Example 2**"
   ]
  },
  {
   "cell_type": "code",
   "execution_count": 48,
   "id": "da7593d8-2755-48f9-92bb-c747e9a8442b",
   "metadata": {},
   "outputs": [
    {
     "data": {
      "text/plain": [
       "array([0, 1, 2, 3, 4, 5, 6, 7, 8, 9])"
      ]
     },
     "execution_count": 48,
     "metadata": {},
     "output_type": "execute_result"
    }
   ],
   "source": [
    "arr = np.arange(10)\n",
    "arr"
   ]
  },
  {
   "cell_type": "code",
   "execution_count": 49,
   "id": "c462d044-b1de-4afc-874e-1903931c58ca",
   "metadata": {},
   "outputs": [
    {
     "data": {
      "text/plain": [
       "5"
      ]
     },
     "execution_count": 49,
     "metadata": {},
     "output_type": "execute_result"
    }
   ],
   "source": [
    "arr[5]"
   ]
  },
  {
   "cell_type": "code",
   "execution_count": 50,
   "id": "8167bce9-b4b9-4600-8567-7d753b5401e8",
   "metadata": {},
   "outputs": [
    {
     "data": {
      "text/plain": [
       "array([5, 6, 7])"
      ]
     },
     "execution_count": 50,
     "metadata": {},
     "output_type": "execute_result"
    }
   ],
   "source": [
    "arr[5:8]"
   ]
  },
  {
   "cell_type": "markdown",
   "id": "a8978c9e-bb95-45e1-a693-a8f4f1a5de2d",
   "metadata": {},
   "source": [
    "Slices can be used to set values as well."
   ]
  },
  {
   "cell_type": "code",
   "execution_count": 51,
   "id": "02724088-4025-4fb6-b10a-73a799fbd648",
   "metadata": {},
   "outputs": [],
   "source": [
    "arr[5:8] = 12"
   ]
  },
  {
   "cell_type": "code",
   "execution_count": 52,
   "id": "f5ff8618-b541-45ee-80d7-ced32c0b6bf6",
   "metadata": {},
   "outputs": [
    {
     "data": {
      "text/plain": [
       "array([ 0,  1,  2,  3,  4, 12, 12, 12,  8,  9])"
      ]
     },
     "execution_count": 52,
     "metadata": {},
     "output_type": "execute_result"
    }
   ],
   "source": [
    "arr"
   ]
  },
  {
   "cell_type": "markdown",
   "id": "2400ad5b-0f84-4d4e-add0-29d294e8b23a",
   "metadata": {},
   "source": [
    "## Summary \n",
    "\n",
    "A nice visual of a 2D array\n",
    "\n",
    "<img src=\"https://learning.oreilly.com/api/v2/epubs/urn:orm:book:9781449323592/files/httpatomoreillycomsourceoreillyimages2172112.png\" height=\"50%\" width=\"50%\"/>\n",
    "\n",
    "**Two-Demensional Array Slicing**\n",
    "\n",
    "<img src=\"https://learning.oreilly.com/api/v2/epubs/urn:orm:book:9781449323592/files/httpatomoreillycomsourceoreillyimages2172114.png\" height=\"50%\" width=\"50%\"/>\n",
    "\n",
    "**3D arrays**"
   ]
  },
  {
   "cell_type": "markdown",
   "id": "f3da8243-d325-4d65-bc99-6b76a9f8bf40",
   "metadata": {},
   "source": [
    "## Boolean Indexing\n",
    "\n",
    "This a crucial topic -- it applies to Pandas and R. \n",
    "\n",
    "You can pass a boolean representation of an array to the array indexer (i.e. the `[]` suffix) \n",
    "and it will return only those cells that are `True`.\n",
    "\n",
    "Let's assume that we have two related arrays:\n",
    "* `names` which holds the names associated with the data in each row, or **observations**, of a table.\n",
    "* `data` which holds the data associated with each **feature** of a table.\n",
    "\n",
    "There are $7$ observations and $4$ features."
   ]
  },
  {
   "cell_type": "code",
   "execution_count": 85,
   "id": "da073ceb-f3d0-4f0e-bd96-fb7387ec18bd",
   "metadata": {},
   "outputs": [
    {
     "data": {
      "text/plain": [
       "array(['Bob', 'Joe', 'Will', 'Bob', 'Will', 'Joe', 'Joe'], dtype='<U4')"
      ]
     },
     "execution_count": 85,
     "metadata": {},
     "output_type": "execute_result"
    }
   ],
   "source": [
    "names = np.array(['Bob', 'Joe', 'Will', 'Bob', 'Will', 'Joe', 'Joe'])\n",
    "names"
   ]
  },
  {
   "cell_type": "code",
   "execution_count": 86,
   "id": "c380a5ff-acf8-4b9f-bb22-2060fd9e67ad",
   "metadata": {},
   "outputs": [
    {
     "data": {
      "text/plain": [
       "array([[-0.02296517,  0.13474624, -1.68950219,  0.38049711],\n",
       "       [ 0.26840002,  1.04588115, -0.27682064,  1.34172096],\n",
       "       [ 0.5600871 ,  0.40689673, -1.01778694, -1.26397703],\n",
       "       [-0.30857368,  0.13819812, -0.51737801, -0.25058465],\n",
       "       [-0.41433972, -0.31894006,  0.13259035, -0.78374819],\n",
       "       [ 0.25037425, -0.09460502, -0.08853394, -1.96423597],\n",
       "       [ 1.20040478, -0.03586405, -0.85179925,  0.02612226]])"
      ]
     },
     "execution_count": 86,
     "metadata": {},
     "output_type": "execute_result"
    }
   ],
   "source": [
    "data = np.random.randn(7, 4)\n",
    "data"
   ]
  },
  {
   "cell_type": "code",
   "execution_count": 87,
   "id": "e8b815d9-28a4-4f14-a169-4e18f8442ddb",
   "metadata": {},
   "outputs": [
    {
     "data": {
      "text/plain": [
       "((7,), (7, 4))"
      ]
     },
     "execution_count": 87,
     "metadata": {},
     "output_type": "execute_result"
    }
   ],
   "source": [
    "names.shape, data.shape"
   ]
  },
  {
   "cell_type": "markdown",
   "id": "ebec7011-dde0-4956-ad3c-0df607691420",
   "metadata": {},
   "source": [
    "A comparison operation for an array returns an array of booleans.\n",
    "\n",
    "Let's see which names are `'Bob'`:"
   ]
  },
  {
   "cell_type": "code",
   "execution_count": 88,
   "id": "6938b4bb-594d-4e70-90ba-1a9b77802912",
   "metadata": {},
   "outputs": [
    {
     "data": {
      "text/plain": [
       "array([ True, False, False,  True, False, False, False])"
      ]
     },
     "execution_count": 88,
     "metadata": {},
     "output_type": "execute_result"
    }
   ],
   "source": [
    "names == 'Bob'"
   ]
  },
  {
   "cell_type": "markdown",
   "id": "42379f8f-ad35-4ff3-a7bd-3a4aabbf7ffd",
   "metadata": {},
   "source": [
    "Now, this boolean expression can be passed to an array indexer to the data:"
   ]
  },
  {
   "cell_type": "code",
   "execution_count": 89,
   "id": "a2b8fae9-c005-4eeb-8f60-6f350d9f277e",
   "metadata": {},
   "outputs": [
    {
     "data": {
      "text/plain": [
       "array([[-0.02296517,  0.13474624, -1.68950219,  0.38049711],\n",
       "       [-0.30857368,  0.13819812, -0.51737801, -0.25058465]])"
      ]
     },
     "execution_count": 89,
     "metadata": {},
     "output_type": "execute_result"
    }
   ],
   "source": [
    "data[names == 'Bob']"
   ]
  },
  {
   "cell_type": "markdown",
   "id": "90d27a4f-f586-48a7-bbdf-321a6b3a76fc",
   "metadata": {},
   "source": [
    "Along the second axis, we can use a slice to select data."
   ]
  },
  {
   "cell_type": "code",
   "execution_count": 90,
   "id": "f6f7921b-f9b0-47cf-9c71-2874075df15f",
   "metadata": {},
   "outputs": [
    {
     "data": {
      "text/plain": [
       "array([[-1.68950219,  0.38049711],\n",
       "       [-0.51737801, -0.25058465]])"
      ]
     },
     "execution_count": 90,
     "metadata": {},
     "output_type": "execute_result"
    }
   ],
   "source": [
    "data[names == 'Bob', 2:]"
   ]
  },
  {
   "cell_type": "code",
   "execution_count": 91,
   "id": "d46eff47-4fbc-4efb-a7cb-e797416f5bc1",
   "metadata": {},
   "outputs": [
    {
     "data": {
      "text/plain": [
       "array([ 0.38049711, -0.25058465])"
      ]
     },
     "execution_count": 91,
     "metadata": {},
     "output_type": "execute_result"
    }
   ],
   "source": [
    "data[names == 'Bob', 3]"
   ]
  },
  {
   "cell_type": "markdown",
   "id": "e70db143-798f-4e66-93e3-f9b5469e9344",
   "metadata": {},
   "source": [
    "If you know SQL, this is like the query:\n",
    "\n",
    "```sql\n",
    "SELECT col3, col4 FROM data WHERE name = 'Bob'\n",
    "```"
   ]
  },
  {
   "cell_type": "markdown",
   "id": "bed93fe0-7f17-44ba-a724-256ed1ee89ba",
   "metadata": {},
   "source": [
    "## Negation"
   ]
  },
  {
   "cell_type": "markdown",
   "id": "e63acaaf-e5ba-4a4b-9add-822b4976b6d2",
   "metadata": {},
   "source": [
    "Here are some examples of negated boolean operations being applied."
   ]
  },
  {
   "cell_type": "code",
   "execution_count": 92,
   "id": "4cf5750c-bd31-4c35-8c22-9d0458be1408",
   "metadata": {},
   "outputs": [
    {
     "data": {
      "text/plain": [
       "array([False,  True,  True, False,  True,  True,  True])"
      ]
     },
     "execution_count": 92,
     "metadata": {},
     "output_type": "execute_result"
    }
   ],
   "source": [
    "bix = names != 'Bob'\n",
    "bix"
   ]
  },
  {
   "cell_type": "code",
   "execution_count": 93,
   "id": "9f60c340-23d9-49eb-ab4f-153c1519e45d",
   "metadata": {
    "tags": []
   },
   "outputs": [
    {
     "data": {
      "text/plain": [
       "array([[ 0.26840002,  1.04588115, -0.27682064,  1.34172096],\n",
       "       [ 0.5600871 ,  0.40689673, -1.01778694, -1.26397703],\n",
       "       [-0.41433972, -0.31894006,  0.13259035, -0.78374819],\n",
       "       [ 0.25037425, -0.09460502, -0.08853394, -1.96423597],\n",
       "       [ 1.20040478, -0.03586405, -0.85179925,  0.02612226]])"
      ]
     },
     "execution_count": 93,
     "metadata": {},
     "output_type": "execute_result"
    }
   ],
   "source": [
    "data[bix]"
   ]
  },
  {
   "cell_type": "code",
   "execution_count": 94,
   "id": "6c978411-857f-432d-ac01-de01dada6078",
   "metadata": {
    "tags": []
   },
   "outputs": [
    {
     "data": {
      "text/plain": [
       "array([[-0.02296517,  0.13474624, -1.68950219,  0.38049711],\n",
       "       [-0.30857368,  0.13819812, -0.51737801, -0.25058465]])"
      ]
     },
     "execution_count": 94,
     "metadata": {},
     "output_type": "execute_result"
    }
   ],
   "source": [
    "data[~bix] # Back to Bob"
   ]
  },
  {
   "cell_type": "code",
   "execution_count": 95,
   "id": "b9ab91a2-44d0-4b03-b496-65f29ef5d955",
   "metadata": {},
   "outputs": [
    {
     "data": {
      "text/plain": [
       "array([[ 0.26840002,  1.04588115, -0.27682064,  1.34172096],\n",
       "       [ 0.5600871 ,  0.40689673, -1.01778694, -1.26397703],\n",
       "       [-0.41433972, -0.31894006,  0.13259035, -0.78374819],\n",
       "       [ 0.25037425, -0.09460502, -0.08853394, -1.96423597],\n",
       "       [ 1.20040478, -0.03586405, -0.85179925,  0.02612226]])"
      ]
     },
     "execution_count": 95,
     "metadata": {},
     "output_type": "execute_result"
    }
   ],
   "source": [
    "data[~(names == 'Bob')]"
   ]
  },
  {
   "cell_type": "markdown",
   "id": "4dae7245-7ba1-4c82-8c5f-fcbe25183ebb",
   "metadata": {},
   "source": [
    "Note that we don't use `not` but instead the tilde `~` sign to negate (flip) a value."
   ]
  },
  {
   "cell_type": "markdown",
   "id": "ba57ed06-10ab-43df-8423-2860db9496e3",
   "metadata": {},
   "source": [
    "Nor do we use `and` and `or`; instead we use `&` and `|`.\n",
    "\n",
    "Also, expressions join by these operators need to be in parentheses."
   ]
  },
  {
   "cell_type": "code",
   "execution_count": 96,
   "id": "3cc62760-23cd-4e0f-8b4c-b26109d27063",
   "metadata": {},
   "outputs": [
    {
     "data": {
      "text/plain": [
       "array([[-0.02296517,  0.13474624, -1.68950219,  0.38049711],\n",
       "       [ 0.5600871 ,  0.40689673, -1.01778694, -1.26397703],\n",
       "       [-0.30857368,  0.13819812, -0.51737801, -0.25058465],\n",
       "       [-0.41433972, -0.31894006,  0.13259035, -0.78374819]])"
      ]
     },
     "execution_count": 96,
     "metadata": {},
     "output_type": "execute_result"
    }
   ],
   "source": [
    "mask = (names == 'Bob') | (names == 'Will')\n",
    "mask\n",
    "data[mask]"
   ]
  },
  {
   "cell_type": "code",
   "execution_count": 97,
   "id": "42942959-f75a-4655-8d9e-c97011dc002d",
   "metadata": {},
   "outputs": [
    {
     "data": {
      "text/plain": [
       "array([[0.        , 0.13474624, 0.        , 0.38049711],\n",
       "       [0.26840002, 1.04588115, 0.        , 1.34172096],\n",
       "       [0.5600871 , 0.40689673, 0.        , 0.        ],\n",
       "       [0.        , 0.13819812, 0.        , 0.        ],\n",
       "       [0.        , 0.        , 0.13259035, 0.        ],\n",
       "       [0.25037425, 0.        , 0.        , 0.        ],\n",
       "       [1.20040478, 0.        , 0.        , 0.02612226]])"
      ]
     },
     "execution_count": 97,
     "metadata": {},
     "output_type": "execute_result"
    }
   ],
   "source": [
    "data[data < 0] = 0\n",
    "data"
   ]
  },
  {
   "cell_type": "code",
   "execution_count": 98,
   "id": "3b7bdb72-85af-4b22-8ea9-48514822ffa0",
   "metadata": {},
   "outputs": [
    {
     "data": {
      "text/plain": [
       "array([[7.        , 7.        , 7.        , 7.        ],\n",
       "       [0.26840002, 1.04588115, 0.        , 1.34172096],\n",
       "       [7.        , 7.        , 7.        , 7.        ],\n",
       "       [7.        , 7.        , 7.        , 7.        ],\n",
       "       [7.        , 7.        , 7.        , 7.        ],\n",
       "       [0.25037425, 0.        , 0.        , 0.        ],\n",
       "       [1.20040478, 0.        , 0.        , 0.02612226]])"
      ]
     },
     "execution_count": 98,
     "metadata": {},
     "output_type": "execute_result"
    }
   ],
   "source": [
    "data[names != 'Joe'] = 7\n",
    "data"
   ]
  },
  {
   "cell_type": "markdown",
   "id": "e07f470e-1913-4a72-a929-78e5c15d8d09",
   "metadata": {},
   "source": [
    "## Fancy Indexing\n",
    "\n",
    "In so-call fancy indexing, we use array index numbers to access data.\n",
    "\n",
    "This can be used to sub-select and re-order data from an array.\n",
    "\n",
    "We pass a `list` of item numbers, instead of an integer or integer range with `:`, to the indexer."
   ]
  },
  {
   "cell_type": "code",
   "execution_count": 99,
   "id": "cff0817c-bfed-4c3a-b8d5-9c1d25840bce",
   "metadata": {},
   "outputs": [
    {
     "data": {
      "text/plain": [
       "array([[0., 0., 0., 0.],\n",
       "       [1., 1., 1., 1.],\n",
       "       [2., 2., 2., 2.],\n",
       "       [3., 3., 3., 3.],\n",
       "       [4., 4., 4., 4.],\n",
       "       [5., 5., 5., 5.],\n",
       "       [6., 6., 6., 6.],\n",
       "       [7., 7., 7., 7.]])"
      ]
     },
     "execution_count": 99,
     "metadata": {},
     "output_type": "execute_result"
    }
   ],
   "source": [
    "arr = np.empty((8, 4))\n",
    "for i in range(8):\n",
    "    arr[i] = i\n",
    "arr"
   ]
  },
  {
   "cell_type": "markdown",
   "id": "c70222de-3995-4d80-b445-ff4a986b868a",
   "metadata": {},
   "source": [
    "The following says _Select rows 4, 3, 0, and 6, in that order._"
   ]
  },
  {
   "cell_type": "code",
   "execution_count": 100,
   "id": "da0e29a5-97b0-4349-b717-4694a2526b64",
   "metadata": {},
   "outputs": [
    {
     "data": {
      "text/plain": [
       "array([[4., 4., 4., 4.],\n",
       "       [3., 3., 3., 3.],\n",
       "       [0., 0., 0., 0.],\n",
       "       [6., 6., 6., 6.]])"
      ]
     },
     "execution_count": 100,
     "metadata": {},
     "output_type": "execute_result"
    }
   ],
   "source": [
    "arr[[4, 3, 0, 6]]"
   ]
  },
  {
   "cell_type": "markdown",
   "id": "798c4543-41dc-490a-908e-71a0ae205134",
   "metadata": {},
   "source": [
    "And we can go backwards."
   ]
  },
  {
   "cell_type": "code",
   "execution_count": 101,
   "id": "9d097e64-341f-4477-a69b-08dad311ff64",
   "metadata": {},
   "outputs": [
    {
     "data": {
      "text/plain": [
       "array([[5., 5., 5., 5.],\n",
       "       [3., 3., 3., 3.],\n",
       "       [1., 1., 1., 1.]])"
      ]
     },
     "execution_count": 101,
     "metadata": {},
     "output_type": "execute_result"
    }
   ],
   "source": [
    "arr[[-3, -5, -7]]"
   ]
  },
  {
   "cell_type": "markdown",
   "id": "59f70454-b8a0-4e06-b7b2-459de16e0a10",
   "metadata": {},
   "source": [
    "We can use lists to perform some complex indexing."
   ]
  },
  {
   "cell_type": "code",
   "execution_count": 102,
   "id": "1389fa7b-36bd-4432-bfd5-bbd1928456e7",
   "metadata": {},
   "outputs": [
    {
     "data": {
      "text/plain": [
       "array([[ 0,  1,  2,  3],\n",
       "       [ 4,  5,  6,  7],\n",
       "       [ 8,  9, 10, 11],\n",
       "       [12, 13, 14, 15],\n",
       "       [16, 17, 18, 19],\n",
       "       [20, 21, 22, 23],\n",
       "       [24, 25, 26, 27],\n",
       "       [28, 29, 30, 31]])"
      ]
     },
     "execution_count": 102,
     "metadata": {},
     "output_type": "execute_result"
    }
   ],
   "source": [
    "arr = np.arange(32).reshape((8, 4))\n",
    "arr"
   ]
  },
  {
   "cell_type": "code",
   "execution_count": 103,
   "id": "7a6cec05-c0dd-4d20-8359-7ee949d8183b",
   "metadata": {},
   "outputs": [
    {
     "data": {
      "text/plain": [
       "array([ 4, 23, 29, 10])"
      ]
     },
     "execution_count": 103,
     "metadata": {},
     "output_type": "execute_result"
    }
   ],
   "source": [
    "arr[[1, 5, 7, 2], [0, 3, 1, 2]]  # Grab rows, then select columns from each row"
   ]
  },
  {
   "cell_type": "code",
   "execution_count": 104,
   "id": "b2e56ee2-f25c-4dcd-a888-32ffffcfa005",
   "metadata": {},
   "outputs": [
    {
     "data": {
      "text/plain": [
       "array([[ 4,  7,  5,  6],\n",
       "       [20, 23, 21, 22],\n",
       "       [28, 31, 29, 30],\n",
       "       [ 8, 11,  9, 10]])"
      ]
     },
     "execution_count": 104,
     "metadata": {},
     "output_type": "execute_result"
    }
   ],
   "source": [
    "arr[[1, 5, 7, 2]][:, [0, 3, 1, 2]] # Grab rows, then reorder columns "
   ]
  }
 ],
 "metadata": {
  "kernelspec": {
   "display_name": "Python 3",
   "language": "python",
   "name": "python3"
  },
  "language_info": {
   "codemirror_mode": {
    "name": "ipython",
    "version": 3
   },
   "file_extension": ".py",
   "mimetype": "text/x-python",
   "name": "python",
   "nbconvert_exporter": "python",
   "pygments_lexer": "ipython3",
   "version": "3.11.4"
  }
 },
 "nbformat": 4,
 "nbformat_minor": 5
}
