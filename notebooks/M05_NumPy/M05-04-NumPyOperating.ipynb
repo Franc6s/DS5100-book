{
 "cells": [
  {
   "cell_type": "markdown",
   "id": "f049262c-b42b-41ca-8137-8908bdd4d3d8",
   "metadata": {},
   "source": [
    "# NB: NumPy Operations\n",
    "\n",
    "Programming for Data Science"
   ]
  },
  {
   "cell_type": "markdown",
   "id": "882e1515-1f7c-41c5-8a7d-429027bf9a22",
   "metadata": {
    "slideshow": {
     "slide_type": "slide"
    },
    "tags": []
   },
   "source": [
    "## Element-wise Arithmetic\n",
    "\n",
    "NumPy arrays can be transformed with with arithmetic operations.\n",
    "\n",
    "These are all **element-wise operations**."
   ]
  },
  {
   "cell_type": "markdown",
   "id": "9b0c04d4-2cb0-4d9b-97e3-6c49d8b02e9e",
   "metadata": {},
   "source": [
    "Let's start with a 2D array."
   ]
  },
  {
   "cell_type": "code",
   "execution_count": 32,
   "id": "f5acc4fa-5330-48fc-8c6f-27dc86bd8627",
   "metadata": {},
   "outputs": [
    {
     "data": {
      "text/plain": [
       "array([[1., 2., 3.],\n",
       "       [4., 5., 6.]])"
      ]
     },
     "execution_count": 32,
     "metadata": {},
     "output_type": "execute_result"
    }
   ],
   "source": [
    "arr = np.array([[1., 2., 3.], [4., 5., 6.]])\n",
    "arr"
   ]
  },
  {
   "cell_type": "code",
   "execution_count": 34,
   "id": "ce60fb37-2e26-4936-a310-f70ffed97329",
   "metadata": {},
   "outputs": [
    {
     "data": {
      "text/plain": [
       "array([[ 1.,  4.,  9.],\n",
       "       [16., 25., 36.]])"
      ]
     },
     "execution_count": 34,
     "metadata": {},
     "output_type": "execute_result"
    }
   ],
   "source": [
    "arr * arr"
   ]
  },
  {
   "cell_type": "code",
   "execution_count": 35,
   "id": "c39cf673-0800-4b2e-aa8f-547a13c44dc5",
   "metadata": {},
   "outputs": [
    {
     "data": {
      "text/plain": [
       "array([[0., 0., 0.],\n",
       "       [0., 0., 0.]])"
      ]
     },
     "execution_count": 35,
     "metadata": {},
     "output_type": "execute_result"
    }
   ],
   "source": [
    "arr - arr"
   ]
  },
  {
   "cell_type": "code",
   "execution_count": 36,
   "id": "22c43e30-b619-4607-b880-d294f7c9ab32",
   "metadata": {},
   "outputs": [
    {
     "data": {
      "text/plain": [
       "array([[1.        , 0.5       , 0.33333333],\n",
       "       [0.25      , 0.2       , 0.16666667]])"
      ]
     },
     "execution_count": 36,
     "metadata": {},
     "output_type": "execute_result"
    }
   ],
   "source": [
    "1 / arr"
   ]
  },
  {
   "cell_type": "code",
   "execution_count": 37,
   "id": "996b8de7-c40b-496b-a8de-8e2802a4ad7c",
   "metadata": {},
   "outputs": [
    {
     "data": {
      "text/plain": [
       "array([[1.        , 1.41421356, 1.73205081],\n",
       "       [2.        , 2.23606798, 2.44948974]])"
      ]
     },
     "execution_count": 37,
     "metadata": {},
     "output_type": "execute_result"
    }
   ],
   "source": [
    "arr ** 0.5"
   ]
  },
  {
   "cell_type": "markdown",
   "id": "bb4ac803-a45b-4944-9a39-23ff00256998",
   "metadata": {
    "slideshow": {
     "slide_type": "slide"
    }
   },
   "source": [
    "Now let's compare two arrays."
   ]
  },
  {
   "cell_type": "code",
   "execution_count": 38,
   "id": "d72944c9-a3a1-4e0f-88e7-e68f9017e433",
   "metadata": {},
   "outputs": [
    {
     "data": {
      "text/plain": [
       "array([[ 0.,  4.,  1.],\n",
       "       [ 7.,  2., 12.]])"
      ]
     },
     "execution_count": 38,
     "metadata": {},
     "output_type": "execute_result"
    }
   ],
   "source": [
    "arr2 = np.array([[0., 4., 1.], [7., 2., 12.]])\n",
    "arr2"
   ]
  },
  {
   "cell_type": "code",
   "execution_count": 39,
   "id": "c96d7c86-e17d-4d9a-a84a-b0ef69e0cc0d",
   "metadata": {},
   "outputs": [
    {
     "data": {
      "text/plain": [
       "array([[False,  True, False],\n",
       "       [ True, False,  True]])"
      ]
     },
     "execution_count": 39,
     "metadata": {},
     "output_type": "execute_result"
    }
   ],
   "source": [
    "arr2 > arr"
   ]
  },
  {
   "cell_type": "markdown",
   "id": "ab672030-f266-4bf7-abc0-ab38b846e0ed",
   "metadata": {},
   "source": [
    "Boolean arrays will prove to be very useful ..."
   ]
  },
  {
   "cell_type": "markdown",
   "id": "9dbc5fd7-0d08-4522-b4f6-3563ef396185",
   "metadata": {
    "slideshow": {
     "slide_type": "slide"
    }
   },
   "source": [
    "## Views and Copies\n",
    "\n",
    "Notice that if we assign a scalar to a slice, all of the elements of the slice get that value. \n",
    "\n",
    "This is called **broadcasting**. We'll look at this more later.\n",
    "\n",
    "Also, notice that changes to slices are changes to the arrays they are slices of. \n",
    "\n",
    "They are **views**, not copies. **This is crucial.**\n",
    "\n",
    "See what happens when we change a view:"
   ]
  },
  {
   "cell_type": "code",
   "execution_count": 53,
   "id": "6c44c40f-65ff-4b29-98d5-eb90d2049989",
   "metadata": {},
   "outputs": [
    {
     "data": {
      "text/plain": [
       "array([12, 12, 12])"
      ]
     },
     "execution_count": 53,
     "metadata": {},
     "output_type": "execute_result"
    }
   ],
   "source": [
    "arr_slice = arr[5:8]\n",
    "arr_slice"
   ]
  },
  {
   "cell_type": "code",
   "execution_count": 54,
   "id": "f2ebdc56-17df-4f30-b680-77960de350db",
   "metadata": {},
   "outputs": [
    {
     "data": {
      "text/plain": [
       "array([    0,     1,     2,     3,     4,    12, 12345,    12,     8,\n",
       "           9])"
      ]
     },
     "execution_count": 54,
     "metadata": {},
     "output_type": "execute_result"
    }
   ],
   "source": [
    "arr_slice[1] = 12345\n",
    "arr"
   ]
  },
  {
   "cell_type": "code",
   "execution_count": 55,
   "id": "92853860-149d-4cba-ae63-1fcb1a06ab1f",
   "metadata": {},
   "outputs": [],
   "source": [
    "arr_slice[:] = 64"
   ]
  },
  {
   "cell_type": "code",
   "execution_count": 56,
   "id": "a5d602f3-2607-476d-9fd2-3a48b8e3c678",
   "metadata": {},
   "outputs": [
    {
     "data": {
      "text/plain": [
       "array([64, 64, 64])"
      ]
     },
     "execution_count": 56,
     "metadata": {},
     "output_type": "execute_result"
    }
   ],
   "source": [
    "arr_slice"
   ]
  },
  {
   "cell_type": "code",
   "execution_count": 57,
   "id": "a5649cde-e441-4ca3-91b7-a925689f09c0",
   "metadata": {},
   "outputs": [
    {
     "data": {
      "text/plain": [
       "array([ 0,  1,  2,  3,  4, 64, 64, 64,  8,  9])"
      ]
     },
     "execution_count": 57,
     "metadata": {},
     "output_type": "execute_result"
    }
   ],
   "source": [
    "arr"
   ]
  },
  {
   "cell_type": "markdown",
   "id": "f6ee378d-2db6-4d86-b3de-c35116636fc0",
   "metadata": {},
   "source": [
    "NumPy defaults to views rather than copies because copies are **expensive** and NumPy is designed with large data use cases in mind.\n",
    "\n",
    "If you want a copy of a slice of an ndarray instead of a view, use `.copy()`.\n",
    "\n",
    "Here's an example:"
   ]
  },
  {
   "cell_type": "code",
   "execution_count": 58,
   "id": "e3a5a444-5f3b-479f-abe2-926027ae4b7f",
   "metadata": {
    "tags": []
   },
   "outputs": [],
   "source": [
    "arr_slice_copy = arr[5:8].copy()"
   ]
  },
  {
   "cell_type": "code",
   "execution_count": 59,
   "id": "7be8e32f-6333-4544-ac39-2ae2f352cfab",
   "metadata": {
    "tags": []
   },
   "outputs": [
    {
     "data": {
      "text/plain": [
       "array([64, 64, 64])"
      ]
     },
     "execution_count": 59,
     "metadata": {},
     "output_type": "execute_result"
    }
   ],
   "source": [
    "arr_slice_copy"
   ]
  },
  {
   "cell_type": "code",
   "execution_count": 60,
   "id": "249b9c64-e263-4466-ac89-4cf62e4dcb95",
   "metadata": {
    "tags": []
   },
   "outputs": [],
   "source": [
    "arr_slice_copy[:] = 99"
   ]
  },
  {
   "cell_type": "code",
   "execution_count": 61,
   "id": "e6b0b496-6c16-4e88-a97d-ac7c14adb882",
   "metadata": {
    "tags": []
   },
   "outputs": [
    {
     "data": {
      "text/plain": [
       "array([99, 99, 99])"
      ]
     },
     "execution_count": 61,
     "metadata": {},
     "output_type": "execute_result"
    }
   ],
   "source": [
    "arr_slice_copy"
   ]
  },
  {
   "cell_type": "markdown",
   "id": "b34cfa36-a134-470d-91d8-839e764b1242",
   "metadata": {},
   "source": [
    "Note how the original array is unchanged:"
   ]
  },
  {
   "cell_type": "code",
   "execution_count": 62,
   "id": "6e5c5b3b-3c3d-4083-a73d-1a847425c6a6",
   "metadata": {
    "tags": []
   },
   "outputs": [
    {
     "data": {
      "text/plain": [
       "array([ 0,  1,  2,  3,  4, 64, 64, 64,  8,  9])"
      ]
     },
     "execution_count": 62,
     "metadata": {},
     "output_type": "execute_result"
    }
   ],
   "source": [
    "arr"
   ]
  },
  {
   "cell_type": "markdown",
   "id": "f57d8bd5-0c83-4e96-9dc1-1d2163ba02f2",
   "metadata": {},
   "source": [
    "## Broadcasting\n",
    "\n",
    "What happens when you try to perform an element-wise operation on two arrays of different shape?\n",
    "\n",
    "NumPy will convert a low-dimensional array into a high-dimensional array to allow the operation to take place.\n",
    "\n",
    "This is called **broadcasting**."
   ]
  },
  {
   "cell_type": "markdown",
   "id": "ed5f8aeb-d502-49c9-aaa3-896ddbf66a33",
   "metadata": {},
   "source": [
    "Let's look at at our array `foo`:"
   ]
  },
  {
   "cell_type": "code",
   "execution_count": 20,
   "id": "8b24ceaf-0ad7-45bb-8a5d-356d9e672b6d",
   "metadata": {
    "tags": []
   },
   "outputs": [
    {
     "data": {
      "text/plain": [
       "array([[1., 1., 1., 1.],\n",
       "       [1., 1., 1., 1.],\n",
       "       [1., 1., 1., 1.],\n",
       "       [1., 1., 1., 1.],\n",
       "       [1., 1., 1., 1.],\n",
       "       [1., 1., 1., 1.]])"
      ]
     },
     "execution_count": 20,
     "metadata": {},
     "output_type": "execute_result"
    }
   ],
   "source": [
    "foo"
   ]
  },
  {
   "cell_type": "markdown",
   "id": "a05e3367-c059-4ca4-9c77-187d89181d02",
   "metadata": {},
   "source": [
    "If we multiply it by 5, the scalar is converted into an array of the same shape as `foo` with the value 5 broadcast to populate the entire array."
   ]
  },
  {
   "cell_type": "code",
   "execution_count": 21,
   "id": "7ebaf75c-8e83-482d-8753-a70a66d89239",
   "metadata": {
    "tags": []
   },
   "outputs": [
    {
     "data": {
      "text/plain": [
       "array([[5., 5., 5., 5.],\n",
       "       [5., 5., 5., 5.],\n",
       "       [5., 5., 5., 5.],\n",
       "       [5., 5., 5., 5.],\n",
       "       [5., 5., 5., 5.],\n",
       "       [5., 5., 5., 5.]])"
      ]
     },
     "execution_count": 21,
     "metadata": {},
     "output_type": "execute_result"
    }
   ],
   "source": [
    "foo * 5"
   ]
  },
  {
   "cell_type": "markdown",
   "id": "984a92b6-9b4e-4ea5-a5ea-3f6bd276ed12",
   "metadata": {},
   "source": [
    "If we want to multiply an array by a vector, the vector is broadcast to become a 2D array."
   ]
  },
  {
   "cell_type": "code",
   "execution_count": 22,
   "id": "50639ff2-025f-412b-b44e-c189598a84d8",
   "metadata": {
    "tags": []
   },
   "outputs": [
    {
     "data": {
      "text/plain": [
       "array([[ 5., 10.,  6.,  8.],\n",
       "       [ 5., 10.,  6.,  8.],\n",
       "       [ 5., 10.,  6.,  8.],\n",
       "       [ 5., 10.,  6.,  8.],\n",
       "       [ 5., 10.,  6.,  8.],\n",
       "       [ 5., 10.,  6.,  8.]])"
      ]
     },
     "execution_count": 22,
     "metadata": {},
     "output_type": "execute_result"
    }
   ],
   "source": [
    "foo * np.array([5, 10, 6, 8])"
   ]
  },
  {
   "cell_type": "markdown",
   "id": "9459d6c7-4e8b-43fe-aaac-a5da781dff7f",
   "metadata": {},
   "source": [
    "Note that NumPy can't always make the adjustment:"
   ]
  },
  {
   "cell_type": "code",
   "execution_count": 23,
   "id": "93c7175d-ec65-4889-b155-5b28467f0b21",
   "metadata": {
    "tags": []
   },
   "outputs": [
    {
     "ename": "ValueError",
     "evalue": "operands could not be broadcast together with shapes (6,4) (2,) ",
     "output_type": "error",
     "traceback": [
      "\u001b[0;31m---------------------------------------------------------------------------\u001b[0m",
      "\u001b[0;31mValueError\u001b[0m                                Traceback (most recent call last)",
      "Cell \u001b[0;32mIn[23], line 1\u001b[0m\n\u001b[0;32m----> 1\u001b[0m \u001b[43mfoo\u001b[49m\u001b[43m \u001b[49m\u001b[38;5;241;43m*\u001b[39;49m\u001b[43m \u001b[49m\u001b[43mnp\u001b[49m\u001b[38;5;241;43m.\u001b[39;49m\u001b[43marray\u001b[49m\u001b[43m(\u001b[49m\u001b[43m[\u001b[49m\u001b[38;5;241;43m5\u001b[39;49m\u001b[43m,\u001b[49m\u001b[43m \u001b[49m\u001b[38;5;241;43m10\u001b[39;49m\u001b[43m]\u001b[49m\u001b[43m)\u001b[49m\n",
      "\u001b[0;31mValueError\u001b[0m: operands could not be broadcast together with shapes (6,4) (2,) "
     ]
    }
   ],
   "source": [
    "foo * np.array([5, 10])"
   ]
  }
 ],
 "metadata": {
  "kernelspec": {
   "display_name": "Python 3",
   "language": "python",
   "name": "python3"
  },
  "language_info": {
   "codemirror_mode": {
    "name": "ipython",
    "version": 3
   },
   "file_extension": ".py",
   "mimetype": "text/x-python",
   "name": "python",
   "nbconvert_exporter": "python",
   "pygments_lexer": "ipython3",
   "version": "3.11.4"
  }
 },
 "nbformat": 4,
 "nbformat_minor": 5
}
