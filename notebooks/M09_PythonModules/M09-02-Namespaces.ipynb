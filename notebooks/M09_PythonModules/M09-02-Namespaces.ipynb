{
 "cells": [
  {
   "cell_type": "markdown",
   "id": "f7e27f6b-920f-46c3-ab9f-f3aa04782077",
   "metadata": {
    "slideshow": {
     "slide_type": "slide"
    },
    "tags": []
   },
   "source": [
    "# NB: Namespaces\n",
    "\n",
    "Programming for Data Science"
   ]
  },
  {
   "cell_type": "markdown",
   "id": "4e3b4446-6572-4144-a936-bfdee4d31c3d",
   "metadata": {
    "slideshow": {
     "slide_type": "slide"
    },
    "tags": []
   },
   "source": [
    "## Namespaces\n",
    "\n",
    "You can see that a python **module** acts as a single **namespace**, which is used to organize a collection of values:\n",
    "\n",
    "-   functions\n",
    "-   constants\n",
    "-   class definitions\n",
    "-   really any old value"
   ]
  },
  {
   "cell_type": "markdown",
   "id": "4037bc33-f219-465b-8d8c-4ff96faafbb2",
   "metadata": {
    "slideshow": {
     "slide_type": "slide"
    },
    "tags": []
   },
   "source": [
    "A namespace is **a collection of currently defined names** being used by a program.\n",
    "\n",
    "You can think of it as something like a Python dictionary. \n",
    "\n",
    "The keys are the object names and the values are the objects themselves.\n",
    "\n",
    "It's a way of making sure variable and function names do not collide or get confused with each other."
   ]
  },
  {
   "cell_type": "markdown",
   "id": "b37b0806-5829-4ef8-a5f0-68daf2ad2bd4",
   "metadata": {
    "slideshow": {
     "slide_type": "slide"
    },
    "tags": []
   },
   "source": [
    "Python has four namespaces:\n",
    "\n",
    "**Built-In**: Contains the names of all of Python’s built-in objects. \n",
    "\n",
    "See `dir(__builtins__)`\n",
    "\n",
    "**Global**: Contains any names defined at the level of the main program. \n",
    "\n",
    "A global namespace is also created for any module that your program imports. See `globals()`.\n",
    "\n",
    "**Enclosing**: The namespaces of a function for any functions defined within that function. \n",
    "\n",
    "**Local**: Contains any names defined in a function."
   ]
  },
  {
   "cell_type": "markdown",
   "id": "18290520-0755-456d-a9b9-02afb06ec114",
   "metadata": {
    "slideshow": {
     "slide_type": "slide"
    },
    "tags": []
   },
   "source": [
    "Namespaces are related to **scope**. \n",
    "\n",
    "To know the context in which a name has meaning, Python searches namespaces from the inside out.\n",
    "\n",
    "    L -> E -> G -> B\n",
    "\n",
    "![image.png](../../media/scope.png)\n",
    "\n",
    "See `M09-01a-Globals.ipynb` for a demo.\n",
    "\n",
    "See [Namespaces and Scope in Python (Real Python)](https://realpython.com/python-namespaces-scope/) for a good primer."
   ]
  },
  {
   "cell_type": "markdown",
   "id": "4b8106de-2794-4b4c-871e-7021ff4499f7",
   "metadata": {},
   "source": [
    "Here is a demonstration of namespaces:"
   ]
  },
  {
   "cell_type": "code",
   "execution_count": 1,
   "id": "2769be84-bc35-4697-a3a8-43b86d83c160",
   "metadata": {
    "tags": []
   },
   "outputs": [],
   "source": [
    "def foo():\n",
    "    x = y = z = 1\n",
    "    print(locals())\n",
    "    \n",
    "    def bar():\n",
    "        a = b = c = 2\n",
    "        print(locals())\n",
    "        \n",
    "    bar()"
   ]
  },
  {
   "cell_type": "code",
   "execution_count": 2,
   "id": "a4664b13-441f-4f0d-b93d-ba78ff797768",
   "metadata": {
    "tags": []
   },
   "outputs": [
    {
     "name": "stdout",
     "output_type": "stream",
     "text": [
      "{'x': 1, 'y': 1, 'z': 1}\n",
      "{'a': 2, 'b': 2, 'c': 2}\n"
     ]
    }
   ],
   "source": [
    "foo()"
   ]
  },
  {
   "cell_type": "markdown",
   "id": "e952e85a-b9b9-4f36-8642-a45279d90ad9",
   "metadata": {},
   "source": [
    "What happens if we print `globals()`?"
   ]
  },
  {
   "cell_type": "markdown",
   "id": "ee6a1627-173a-44db-b57c-32c590a6c0c8",
   "metadata": {},
   "source": [
    "## How Python finds things\n",
    "\n",
    "How does Python know where to find modules?\n",
    "\n",
    "The interpreter keeps a list of all the places that it looks for modules or packages when you do an import. It is stored in the `sys` module.\n",
    "\n",
    "```python\n",
    "import sys\n",
    "for p in sys.path:\n",
    "    print p\n",
    "```\n",
    "\n",
    "You can edit that list to add or remove paths to let python find\n",
    "modules on a new place.\n",
    "\n",
    "```python\n",
    "sys.path.append(some_local_dir)\n",
    "```\n",
    "\n",
    "Remember that every module has a `__file__` name that points to the path it lives in. \n",
    "\n",
    "This lets you add paths relative to where you are, etc.\n",
    "\n",
    "```python\n",
    "sys.path.append(f\"{__file__}/local_module_directory\")\n",
    "```"
   ]
  },
  {
   "cell_type": "code",
   "execution_count": 3,
   "id": "15f55dd8-7c58-40ee-9e3b-3a19b6cf06d8",
   "metadata": {
    "tags": []
   },
   "outputs": [],
   "source": [
    "import sys"
   ]
  },
  {
   "cell_type": "code",
   "execution_count": 4,
   "id": "c614e977-a678-4966-a8c0-cd3a4faa809b",
   "metadata": {
    "tags": []
   },
   "outputs": [
    {
     "data": {
      "text/plain": [
       "'/sfs/qumulo/qhome/rca2t/Documents/MSDS/DS5100/repo-book/notebooks/M09_PythonModules'"
      ]
     },
     "execution_count": 4,
     "metadata": {},
     "output_type": "execute_result"
    }
   ],
   "source": [
    "pwd"
   ]
  },
  {
   "cell_type": "code",
   "execution_count": 5,
   "id": "5a5655e9-8c94-4bd3-b74f-d2625833d3c4",
   "metadata": {
    "tags": []
   },
   "outputs": [
    {
     "data": {
      "text/plain": [
       "['/sfs/qumulo/qhome/rca2t/Documents/MSDS/DS5100/repo-book/notebooks/M09_PythonModules',\n",
       " '/apps/software/standard/core/jupyterlab/3.6.3-py3.11/lib/python311.zip',\n",
       " '/apps/software/standard/core/jupyterlab/3.6.3-py3.11/lib/python3.11',\n",
       " '/apps/software/standard/core/jupyterlab/3.6.3-py3.11/lib/python3.11/lib-dynload',\n",
       " '',\n",
       " '/home/rca2t/.local/lib/python3.11/site-packages',\n",
       " '/apps/software/standard/core/jupyterlab/3.6.3-py3.11/lib/python3.11/site-packages']"
      ]
     },
     "execution_count": 5,
     "metadata": {},
     "output_type": "execute_result"
    }
   ],
   "source": [
    "sys.path"
   ]
  },
  {
   "cell_type": "markdown",
   "id": "4457af97-5b58-4040-b222-14bcc61fef75",
   "metadata": {
    "tags": []
   },
   "source": [
    "To install a package, you need a setup file. This allows you to build a package. "
   ]
  }
 ],
 "metadata": {
  "kernelspec": {
   "display_name": "Python 3",
   "language": "python",
   "name": "python3"
  },
  "language_info": {
   "codemirror_mode": {
    "name": "ipython",
    "version": 3
   },
   "file_extension": ".py",
   "mimetype": "text/x-python",
   "name": "python",
   "nbconvert_exporter": "python",
   "pygments_lexer": "ipython3",
   "version": "3.11.4"
  }
 },
 "nbformat": 4,
 "nbformat_minor": 5
}
