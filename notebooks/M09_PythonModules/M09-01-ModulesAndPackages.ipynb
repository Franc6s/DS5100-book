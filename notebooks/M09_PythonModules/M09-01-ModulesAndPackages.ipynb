{
 "cells": [
  {
   "cell_type": "markdown",
   "id": "f7e27f6b-920f-46c3-ab9f-f3aa04782077",
   "metadata": {},
   "source": [
    "# NB: Modules and Packages"
   ]
  },
  {
   "cell_type": "markdown",
   "id": "9996fbc3-6230-4780-b8af-44fca9fc6491",
   "metadata": {
    "tags": []
   },
   "source": [
    "## Modules\n",
    "\n",
    "In Python, a **module is a file** containing Python code---basically, a collection of expressions and statements. \n",
    "\n",
    "It will usually contain functions, classes, and fixed variables (\"constants\") such as the value of $\\Large\\pi$."
   ]
  },
  {
   "cell_type": "markdown",
   "id": "01fc9211-4c83-4212-8cb5-2a94d4721d64",
   "metadata": {
    "jp-MarkdownHeadingCollapsed": true,
    "tags": []
   },
   "source": [
    "For instance, let's say we have a file called `fibo.py` with the following code:\n",
    "\n",
    "```python\n",
    "## Fibonacci numbers module\n",
    "\n",
    "def fib(n):\n",
    "    \"Prints Fibonacci series up to n.\"\n",
    "    a, b = 0, 1\n",
    "    while a < n:\n",
    "        print(a, end=' ')\n",
    "        a, b = b, a+b\n",
    "    print()\n",
    "\n",
    "def fib2(n):\n",
    "    \"Returns a Fibonacci series up to n.\"\n",
    "    a, b = 0, 1\n",
    "    result = []\n",
    "    while a < n:\n",
    "        result.append(a)\n",
    "        a, b = b, a+b\n",
    "    return result\n",
    "```"
   ]
  },
  {
   "cell_type": "markdown",
   "id": "8fa75afe-ffc9-459e-84d0-bc907289c039",
   "metadata": {
    "tags": []
   },
   "source": [
    "To use this module, you **import** it into the script you are working in as follows:"
   ]
  },
  {
   "cell_type": "code",
   "execution_count": 4,
   "id": "74827140-683a-4fcd-b310-fe4b31325cc2",
   "metadata": {
    "tags": []
   },
   "outputs": [],
   "source": [
    "import fibo"
   ]
  },
  {
   "cell_type": "markdown",
   "id": "49e62395-facc-41dc-89ee-7bb29553d269",
   "metadata": {
    "tags": []
   },
   "source": [
    "Since `fibo.py` is sitting in the same directory as our notebook, so we can do this."
   ]
  },
  {
   "cell_type": "code",
   "execution_count": 5,
   "id": "7e1b074e-2ed9-4447-93c8-c6246f0923cd",
   "metadata": {},
   "outputs": [
    {
     "name": "stdout",
     "output_type": "stream",
     "text": [
      "fibo.py\n"
     ]
    }
   ],
   "source": [
    "ls | grep fibo.py"
   ]
  },
  {
   "cell_type": "markdown",
   "id": "3a5e03aa-2b95-47e2-aa7c-4b3502dfc783",
   "metadata": {},
   "source": [
    "Now we can use it's attributes (as they are called) in our code."
   ]
  },
  {
   "cell_type": "code",
   "execution_count": 6,
   "id": "7817c836-de97-46f3-ae5f-69adc287a9fe",
   "metadata": {
    "tags": []
   },
   "outputs": [
    {
     "name": "stdout",
     "output_type": "stream",
     "text": [
      "0 1 1 2 3 5 8 13 21 34 55 89 144 233 377 610 987 \n"
     ]
    }
   ],
   "source": [
    "fibo.fib(1000)"
   ]
  },
  {
   "cell_type": "code",
   "execution_count": 7,
   "id": "1fba2e0f-13c8-4c2f-882a-49505a2710b8",
   "metadata": {
    "tags": []
   },
   "outputs": [
    {
     "data": {
      "text/plain": [
       "[0, 1, 1, 2, 3, 5, 8, 13, 21, 34, 55, 89]"
      ]
     },
     "execution_count": 7,
     "metadata": {},
     "output_type": "execute_result"
    }
   ],
   "source": [
    "fibo.fib2(100)"
   ]
  },
  {
   "cell_type": "markdown",
   "id": "a0a9e2d2-11f4-43dc-95b1-23dafaa724ef",
   "metadata": {
    "tags": []
   },
   "source": [
    "### Module names\n",
    "\n",
    "Note that the module's **name** we used to import is just the file name without the `.py` suffix. \n",
    "\n",
    "So, we say that the file `fibo.py` contains the module `fibo`."
   ]
  },
  {
   "cell_type": "markdown",
   "id": "04f3f79f-f27e-42e2-89b4-c579a1b7b4bd",
   "metadata": {
    "tags": []
   },
   "source": [
    "### `__name__`\n",
    "\n",
    "Python provides a special variable called `__name__` that you can use to get the name of a module.\n",
    "\n",
    "For example:"
   ]
  },
  {
   "cell_type": "code",
   "execution_count": 9,
   "id": "533d6f40-ea5c-425e-a1f8-94798ce67346",
   "metadata": {
    "tags": []
   },
   "outputs": [
    {
     "data": {
      "text/plain": [
       "'fibo'"
      ]
     },
     "execution_count": 9,
     "metadata": {},
     "output_type": "execute_result"
    }
   ],
   "source": [
    "fibo.__name__"
   ]
  },
  {
   "cell_type": "markdown",
   "id": "aef14d1f-77c5-4585-8ea8-f1e819d84750",
   "metadata": {
    "tags": []
   },
   "source": [
    "Note that when the module being run is the current file, the name changes to `__main__`."
   ]
  },
  {
   "cell_type": "markdown",
   "id": "d7d35ae5-bb0b-4c5c-abd1-1bde9d7450d0",
   "metadata": {
    "tags": []
   },
   "source": [
    "Let's look at the name of this notebook."
   ]
  },
  {
   "cell_type": "code",
   "execution_count": 10,
   "id": "a7f7ee3e-d98e-4038-9095-50289745cbba",
   "metadata": {
    "tags": []
   },
   "outputs": [
    {
     "data": {
      "text/plain": [
       "'__main__'"
      ]
     },
     "execution_count": 10,
     "metadata": {},
     "output_type": "execute_result"
    }
   ],
   "source": [
    "__name__"
   ]
  },
  {
   "cell_type": "markdown",
   "id": "0474fcc7-d685-4fef-ad6b-3f54d38ff784",
   "metadata": {
    "tags": []
   },
   "source": [
    "## Packages\n",
    "\n",
    "**A package is just a directory** that may contain other modules and packages.\n",
    "\n",
    "For a directory to become a package, it ~~must~~ should contain an `__init__.py` file.\n",
    "\n",
    "> As of Python 3.3, this file is optional.\\\n",
    "> But it is still useful and commonly used.\n",
    "\n",
    "The `__init__.py` can be **totally empty** or it can have some Python code in it. \n",
    "\n",
    "We'll see why you would put code in it below.\n",
    "\n",
    "Here's an example of a simple package:\n",
    "\n",
    "```bash\n",
    "a_package_dir/\n",
    "    __init__.py # Can be empty\n",
    "    module_a.py # Contains functions, classes, etc.\n",
    "```\n",
    "\n",
    "Here is an example directory structure of a package that contains another package:\n",
    "\n",
    "```bash\n",
    "a_package_dir/\n",
    "    __init__.py\n",
    "    module_a.py\n",
    "    a_sub_package_dir/ # A subdirectory\n",
    "        __init__.py\n",
    "        module_b.py\n",
    "```"
   ]
  },
  {
   "cell_type": "markdown",
   "id": "5f140f39-9db5-4910-b7ac-b9058d6df38e",
   "metadata": {
    "tags": []
   },
   "source": [
    "### Importing from modules from packages\n",
    "\n",
    "Given the above directory and file structures, within a Python file you can import the package `a_package` like this:\n",
    "\n",
    "```python\n",
    "import a_package\n",
    "````\n",
    "\n",
    "This will run any code in `a_package/__init__.py`.\n",
    "\n",
    "Any variable or function names defined in the `__init__.py` will be available like this:\n",
    "\n",
    "```python\n",
    "a_package.a_name\n",
    "```\n",
    "\n",
    "However, no **modules** will be imported unless explicity commanded to. \n",
    "\n",
    "So, in the following,\n",
    "\n",
    "```python\n",
    "a_package.module_a\n",
    "```\n",
    "\n",
    "`module_a` will **not** be imported. \n",
    "\n",
    "To access `module_a`, you need to explicitly import it:\n",
    "\n",
    "```python\n",
    "import a_package.module_a\n",
    "```"
   ]
  },
  {
   "cell_type": "markdown",
   "id": "67b0d2ef-1368-4e1a-97c4-7c9cd5c9871d",
   "metadata": {},
   "source": [
    "### Examples"
   ]
  },
  {
   "cell_type": "markdown",
   "id": "04f0a2ab-9397-4503-9fc5-03b3361f0d51",
   "metadata": {},
   "source": [
    "Let's look at an example with actual files."
   ]
  },
  {
   "cell_type": "markdown",
   "id": "0d44509a-e93c-41c2-b2eb-aa9a089b530a",
   "metadata": {},
   "source": [
    "We import a package ..."
   ]
  },
  {
   "cell_type": "code",
   "execution_count": 11,
   "id": "5454fa1a-4422-45de-95a5-ac5300074be3",
   "metadata": {
    "tags": []
   },
   "outputs": [],
   "source": [
    "import demo_package1"
   ]
  },
  {
   "cell_type": "markdown",
   "id": "6ab609a0-7dc9-436d-8707-2a601cbf12cb",
   "metadata": {},
   "source": [
    "But cannot access the module."
   ]
  },
  {
   "cell_type": "code",
   "execution_count": 13,
   "id": "7ca651bd-71e1-4dc9-9ea8-1eb02c849bce",
   "metadata": {
    "scrolled": true,
    "tags": []
   },
   "outputs": [
    {
     "ename": "AttributeError",
     "evalue": "module 'demo_package1' has no attribute 'module1'",
     "output_type": "error",
     "traceback": [
      "\u001b[0;31m---------------------------------------------------------------------------\u001b[0m",
      "\u001b[0;31mAttributeError\u001b[0m                            Traceback (most recent call last)",
      "Cell \u001b[0;32mIn[13], line 1\u001b[0m\n\u001b[0;32m----> 1\u001b[0m \u001b[43mdemo_package1\u001b[49m\u001b[38;5;241;43m.\u001b[39;49m\u001b[43mmodule1\u001b[49m\n",
      "\u001b[0;31mAttributeError\u001b[0m: module 'demo_package1' has no attribute 'module1'"
     ]
    }
   ],
   "source": [
    "demo_package1.module1"
   ]
  },
  {
   "cell_type": "markdown",
   "id": "2f72c147-2ab6-45d0-8860-b6b87c9e48f0",
   "metadata": {},
   "source": [
    "To access it, we have to specify it in the import path:"
   ]
  },
  {
   "cell_type": "code",
   "execution_count": 14,
   "id": "93b5fbc4-1a20-46fa-9ff1-58778aebc151",
   "metadata": {
    "tags": []
   },
   "outputs": [],
   "source": [
    "import demo_package1.module1"
   ]
  },
  {
   "cell_type": "code",
   "execution_count": 15,
   "id": "158307cd-9600-4a0d-a792-6870a662c46b",
   "metadata": {
    "tags": []
   },
   "outputs": [
    {
     "data": {
      "text/plain": [
       "<module 'demo_package1.module1' from '/Users/rca2t1/Dropbox/Courses/DS/DS5100/repo-book/notebooks/M09_PythonModules/demo_package1/module1.py'>"
      ]
     },
     "execution_count": 15,
     "metadata": {},
     "output_type": "execute_result"
    }
   ],
   "source": [
    "demo_package1.module1"
   ]
  },
  {
   "cell_type": "markdown",
   "id": "7f7d1eba-af74-4b70-a525-076b5e82c0e9",
   "metadata": {},
   "source": [
    "Now we have it in memory and can access its attributes."
   ]
  },
  {
   "cell_type": "code",
   "execution_count": 16,
   "id": "fdc4bd71-f6fc-4ab6-8275-f995dbedc6b0",
   "metadata": {
    "tags": []
   },
   "outputs": [
    {
     "name": "stdout",
     "output_type": "stream",
     "text": [
      "Hi, I'm from Demo 1!\n"
     ]
    }
   ],
   "source": [
    "demo_package1.module1.welcome1()"
   ]
  },
  {
   "cell_type": "markdown",
   "id": "21c06821-7c57-4f98-bc05-ad612d3a52fb",
   "metadata": {},
   "source": [
    "### `from`"
   ]
  },
  {
   "cell_type": "markdown",
   "id": "c0ec45d8-4be9-42ad-bc86-f75d754a2cf2",
   "metadata": {},
   "source": [
    "We can use the `from` statement to provide a context for our imports.\n",
    "\n",
    "This allows use to directly import the module into our code."
   ]
  },
  {
   "cell_type": "code",
   "execution_count": 18,
   "id": "ad4ddbe0-512e-4dad-a967-38161d18cb6e",
   "metadata": {
    "tags": []
   },
   "outputs": [],
   "source": [
    "from demo_package1 import module1"
   ]
  },
  {
   "cell_type": "code",
   "execution_count": 14,
   "id": "ce47f0cc-3f5e-4f0e-b466-9e4e4d7d9e77",
   "metadata": {
    "tags": []
   },
   "outputs": [
    {
     "name": "stdout",
     "output_type": "stream",
     "text": [
      "Hi, I'm from Demo 1!\n"
     ]
    }
   ],
   "source": [
    "module1.welcome1()"
   ]
  },
  {
   "cell_type": "code",
   "execution_count": 15,
   "id": "68aa15e5-a8a1-49d3-a18b-e08f57128721",
   "metadata": {
    "tags": []
   },
   "outputs": [],
   "source": [
    "from demo_package1.module1 import welcome1"
   ]
  },
  {
   "cell_type": "code",
   "execution_count": 17,
   "id": "140a25ac-f04b-4144-afea-000a03d717b4",
   "metadata": {
    "tags": []
   },
   "outputs": [
    {
     "name": "stdout",
     "output_type": "stream",
     "text": [
      "Hi, I'm from Demo 1!\n"
     ]
    }
   ],
   "source": [
    "welcome1()"
   ]
  },
  {
   "cell_type": "markdown",
   "id": "b7196f85-47c6-4878-b652-c2d51069c5fe",
   "metadata": {
    "tags": []
   },
   "source": [
    "## Preloading Modules and Functions\n",
    "\n",
    "Rembmer that you can put any code you want in a `__init__.py` file.\n",
    "\n",
    "It's as if the package directory is a module, and the contents the init file is the content of the module."
   ]
  },
  {
   "cell_type": "markdown",
   "id": "1659aa1f-21f5-483e-bd0f-f089ba97ccaf",
   "metadata": {},
   "source": [
    "A **common use case** for putting code into the package initialization file is to **preload modules** when importing the package.\n",
    "\n",
    "This can be useful if you want to make certain modules available to all other modules in your project.\n",
    "\n",
    "You can also use it to import files to be shared by modules in your own project for convenience.\n",
    "\n",
    "For example, let's say you have the following package set up:\n",
    "\n",
    "```bash\n",
    "funny/\n",
    "    __init__.py\n",
    "    funniest.py # contains the function joke()\n",
    "```"
   ]
  },
  {
   "cell_type": "markdown",
   "id": "52342944-9d5f-47b7-b65f-450006ed5527",
   "metadata": {},
   "source": [
    "If you wanted to import the module `funniest` and have access to the function `joke()`, you'd have to do this:\n",
    "\n",
    "```python\n",
    "import funny.funniest\n",
    "```\n",
    "\n",
    "And then to use the function, do this:\n",
    "\n",
    "```python\n",
    "funny.funniest.joke()\n",
    "```\n",
    "\n",
    "You **can't** do this:\n",
    "\n",
    "```python\n",
    "import funny\n",
    "\n",
    "funny.funniest.joke()\n",
    "```\n",
    "\n",
    "You could also do this:\n",
    "\n",
    "```python\n",
    "from funny import funniest\n",
    "\n",
    "funniest.joke()\n",
    "```\n",
    "\n",
    "Or even this:\n",
    "\n",
    "```python\n",
    "from funny.funniest import joke\n",
    "\n",
    "joke()\n",
    "```\n",
    "\n",
    "Note, you **can't** do this:\n",
    "\n",
    "```python\n",
    "from funny import funniest.joke\n",
    "```"
   ]
  },
  {
   "cell_type": "markdown",
   "id": "cb7f4e89-056d-4b06-ab08-b78bcf44e551",
   "metadata": {},
   "source": [
    "Notice the grammar here. \n",
    "\n",
    "The `from` command provides a **context**, and the `import` command specifies the variable name for the resource.\n",
    "\n",
    "In each case, what follows `import` is the name of the resource you will use to access it."
   ]
  },
  {
   "cell_type": "markdown",
   "id": "68814f48-b619-43a4-a4f5-da7264b5c3dc",
   "metadata": {},
   "source": [
    "Now, you can **by-pass** having to import the module doing this in the init file.\n",
    "\n",
    "Basically, you can put the same import line into the init file, and it's as if you did it in your program.\n",
    "\n",
    "Here are some scenarios."
   ]
  },
  {
   "cell_type": "markdown",
   "id": "db812160-c25e-4b83-9929-38ac1861d500",
   "metadata": {},
   "source": [
    "In the init file:\n",
    "\n",
    "```python\n",
    "import funny.funniest\n",
    "```\n",
    "\n",
    "Then in the program:\n",
    "\n",
    "```python\n",
    "import funny\n",
    "\n",
    "funny.funniest.joke()\n",
    "```"
   ]
  },
  {
   "cell_type": "markdown",
   "id": "0d447a27-2b92-4eb1-af40-3ef7fd9d7a8d",
   "metadata": {},
   "source": [
    "Or, in the init file:\n",
    "\n",
    "```python\n",
    "from funny import funniest\n",
    "```\n",
    "\n",
    "Then in the program:\n",
    "\n",
    "```python\n",
    "import funny\n",
    "\n",
    "funny.funniest.joke()\n",
    "```"
   ]
  },
  {
   "cell_type": "markdown",
   "id": "5ae4ff74-2c41-4814-8a60-9869b32e27de",
   "metadata": {},
   "source": [
    "Or, you can put this in the initialization file:\n",
    "\n",
    "```python\n",
    "from funny.funniest import joke\n",
    "```\n",
    "\n",
    "Then in the program, you can do this:\n",
    "\n",
    "```python\n",
    "import funny\n",
    "\n",
    "funny.joke()\n",
    "```\n",
    "\n",
    "Or this:\n",
    "\n",
    "```python\n",
    "from funny import joke\n",
    "\n",
    "joke()\n",
    "```"
   ]
  },
  {
   "cell_type": "markdown",
   "id": "585ce415-ef6a-4796-bd56-a98e9af7a256",
   "metadata": {},
   "source": [
    "See how it simplifies the import statement?"
   ]
  },
  {
   "cell_type": "markdown",
   "id": "cbb3015b-6014-427c-a587-09a1557abe58",
   "metadata": {},
   "source": [
    "Let's looks at some examples with real files."
   ]
  },
  {
   "cell_type": "markdown",
   "id": "80053cfe-4b2a-42a3-bf56-573a19eeea8f",
   "metadata": {},
   "source": [
    "### Example 1: Empty `__init__.py`"
   ]
  },
  {
   "cell_type": "markdown",
   "id": "576dbc6a-3544-402b-b76c-11e77aaea87c",
   "metadata": {},
   "source": [
    "Let's import a module, this time using an alias."
   ]
  },
  {
   "cell_type": "code",
   "execution_count": 23,
   "id": "b6950e5e-7489-4640-a3f2-e287b18338af",
   "metadata": {},
   "outputs": [],
   "source": [
    "import demo_package1.module1 as d1m"
   ]
  },
  {
   "cell_type": "code",
   "execution_count": 24,
   "id": "88715859-ad41-4367-ab4f-35f01ca432b0",
   "metadata": {},
   "outputs": [
    {
     "name": "stdout",
     "output_type": "stream",
     "text": [
      "Hi, I'm from Demo 1!\n"
     ]
    }
   ],
   "source": [
    "d1m.welcome1()"
   ]
  },
  {
   "cell_type": "markdown",
   "id": "5f83d8c1-fbb1-45c8-8a28-9ac132a7ebaf",
   "metadata": {},
   "source": [
    "Here we use a `from` statement to provide context."
   ]
  },
  {
   "cell_type": "code",
   "execution_count": 26,
   "id": "6bb3ef0e-822f-4fff-8b27-5e99f370fc55",
   "metadata": {},
   "outputs": [],
   "source": [
    "from demo_package1.module1 import welcome1"
   ]
  },
  {
   "cell_type": "code",
   "execution_count": 27,
   "id": "8bb2ebc2-f133-4880-b8fe-24cf85a44ef0",
   "metadata": {},
   "outputs": [
    {
     "name": "stdout",
     "output_type": "stream",
     "text": [
      "Hi, I'm from Demo 1!\n"
     ]
    }
   ],
   "source": [
    "welcome1()"
   ]
  },
  {
   "cell_type": "markdown",
   "id": "165bd46c-1819-4588-9081-9f2f5a2d1ec3",
   "metadata": {
    "tags": []
   },
   "source": [
    "### Example 2: Edited `__init__.py`\n",
    "\n",
    "Now, we can allow the users to import a module function directly from a package by simply adding the following to our package initializer:\n",
    "\n",
    "```python\n",
    "from package.module import func # or class\n",
    "```\n",
    "\n",
    "For example, our Demo2 `__init__().py` contains:\n",
    "\n",
    "```python\n",
    "from demo_package2.module2 import welcome2\n",
    "```\n"
   ]
  },
  {
   "cell_type": "markdown",
   "id": "642fbe77-f1f5-46a6-a743-f56043ab7dca",
   "metadata": {},
   "source": [
    "This allows us to do this in our calling script:"
   ]
  },
  {
   "cell_type": "code",
   "execution_count": 28,
   "id": "b35a9f72-e6e2-4943-8ff2-d9a30ed13854",
   "metadata": {},
   "outputs": [],
   "source": [
    "import demo_package2 as d2"
   ]
  },
  {
   "cell_type": "code",
   "execution_count": 29,
   "id": "95ee3764-1e88-473e-8c92-eb7211eea1d8",
   "metadata": {},
   "outputs": [
    {
     "name": "stdout",
     "output_type": "stream",
     "text": [
      "Hi, I'm from Demo 2!\n"
     ]
    }
   ],
   "source": [
    "d2.welcome2()"
   ]
  },
  {
   "cell_type": "markdown",
   "id": "20d6fe6d-d68a-4147-a5b3-57559a2879d5",
   "metadata": {},
   "source": [
    "Or this:"
   ]
  },
  {
   "cell_type": "code",
   "execution_count": 14,
   "id": "d9ea6be2-278b-41bf-bd6e-77b7e4e7ddbb",
   "metadata": {},
   "outputs": [],
   "source": [
    "from demo_package2 import welcome2"
   ]
  },
  {
   "cell_type": "code",
   "execution_count": 15,
   "id": "0583e1b9-675e-4402-a6cb-bf4b2fb86dac",
   "metadata": {
    "tags": []
   },
   "outputs": [
    {
     "name": "stdout",
     "output_type": "stream",
     "text": [
      "Hi, I'm from Demo 2!\n"
     ]
    }
   ],
   "source": [
    "welcome2()"
   ]
  },
  {
   "cell_type": "markdown",
   "id": "9a52bc25-5aa3-4cc3-b3f6-c9bfb9065bfd",
   "metadata": {},
   "source": [
    "It turns out, this is a common practice."
   ]
  },
  {
   "cell_type": "markdown",
   "id": "955d6c19-5e47-40e8-b150-8c8cfbe4e058",
   "metadata": {},
   "source": [
    "### Relative vs Absolute Paths\n",
    "\n",
    "You will sometimes see a dot `.` used in the import statements found in init files.\n",
    "\n",
    "It is used in the context a `from` statement. For example:\n",
    "\n",
    "```python\n",
    "from . import funniest\n",
    "```\n",
    "\n",
    "or \n",
    "\n",
    "```python\n",
    "from .funniest import joke\n",
    "```"
   ]
  },
  {
   "cell_type": "markdown",
   "id": "3ad841f1-4d31-4b91-aac5-33af5f2b0b85",
   "metadata": {},
   "source": [
    "The dot is used to shift from absolute to relative path."
   ]
  },
  {
   "cell_type": "markdown",
   "id": "c03e630b-cad9-4d9f-968e-24edb96b1f2f",
   "metadata": {
    "tags": []
   },
   "source": [
    "In other words, when you import modules in an `__init__.py` file within a package, the dot (`.`) refers to the current package or module's namespace. \n",
    "\n",
    "For example, consider a package structure like this:\n",
    "\n",
    "```\n",
    "mypackage/\n",
    "    __init__.py\n",
    "    module1.py\n",
    "    module2.py\n",
    "```\n",
    "\n",
    "Inside the `__init__.py` file, if you import `module1` using a relative import with a dot (`.`), it would look like this:\n",
    "\n",
    "```python\n",
    "from . import module1\n",
    "```\n",
    "\n",
    "This means that `module1` is being imported from the current package (`mypackage` in this case). \n",
    "\n",
    "Similarly, if you wanted to import `module2` from `module1`, you could do it like this:\n",
    "\n",
    "```python\n",
    "from . import module2\n",
    "```\n",
    "\n",
    "This would import `module2` from the same package as the `__init__.py` file.\n",
    "\n",
    "Using dot notation for imports in `__init__.py` is a way to make relative imports within the package, making the code more readable and maintainable."
   ]
  },
  {
   "cell_type": "markdown",
   "id": "ba43ecde-25b5-439b-9d57-41af322e996b",
   "metadata": {},
   "source": [
    "## Namespaces\n",
    "\n",
    "You can see that a python **module** acts as a single **namespace**, which is used to organize a collection of values:\n",
    "\n",
    "-   functions\n",
    "-   constants\n",
    "-   class definitions\n",
    "-   really any old value\n",
    "\n",
    "A namespace is **a collection of currently defined names** being used by a program.\n",
    "\n",
    "> You can think of it as something like a Python dictionary in which the keys are the object names\\\n",
    "and the values are the objects themselves.\n",
    "\n",
    "It's a way of making sure variable and function names do not collide or get confused with each other.\n",
    "\n",
    "Python has four namespaces:\n",
    "\n",
    "* **Built-In**: Contains the names of all of Python’s built-in objects. See `dir(__builtins__)`\n",
    "\n",
    "* **Global**: Contains any names defined at the level of the main program. \n",
    "\n",
    "> A global namespace is also created for any module that your program imports. See `globals()`.\n",
    "\n",
    "* **Enclosing**: The namespaces of a function for any functions defined within that function. \n",
    "\n",
    "* **Local**: Contains any names defined in a function.\n",
    "\n",
    "Namespaces are related to **scope**. \n",
    "\n",
    "To know the context in which a name has meaning, Python searches namespaces from the inside out.\n",
    "\n",
    "    L -> E -> G -> B\n",
    "\n",
    "![image.png](../../media/scope.png)\n",
    "\n",
    "See `M09-01a-Globals.ipynb` for a demo.\n",
    "\n",
    "See [Namespaces and Scope in Python (Real Python)](https://realpython.com/python-namespaces-scope/) for a good primer."
   ]
  },
  {
   "cell_type": "markdown",
   "id": "4b8106de-2794-4b4c-871e-7021ff4499f7",
   "metadata": {},
   "source": [
    "Here is a demonstration of namespaces:"
   ]
  },
  {
   "cell_type": "code",
   "execution_count": 33,
   "id": "2769be84-bc35-4697-a3a8-43b86d83c160",
   "metadata": {
    "tags": []
   },
   "outputs": [],
   "source": [
    "def foo():\n",
    "    x = y = z = 1\n",
    "    print(locals())\n",
    "    \n",
    "    def bar():\n",
    "        a = b = c = 2\n",
    "        print(locals())\n",
    "        \n",
    "    bar()"
   ]
  },
  {
   "cell_type": "code",
   "execution_count": 31,
   "id": "a4664b13-441f-4f0d-b93d-ba78ff797768",
   "metadata": {
    "tags": []
   },
   "outputs": [
    {
     "name": "stdout",
     "output_type": "stream",
     "text": [
      "{'x': 1, 'y': 1, 'z': 1}\n",
      "{'a': 2, 'b': 2, 'c': 2}\n"
     ]
    }
   ],
   "source": [
    "foo()"
   ]
  },
  {
   "cell_type": "markdown",
   "id": "e952e85a-b9b9-4f36-8642-a45279d90ad9",
   "metadata": {},
   "source": [
    "What happens if we print `globals()`?"
   ]
  },
  {
   "cell_type": "markdown",
   "id": "ee6a1627-173a-44db-b57c-32c590a6c0c8",
   "metadata": {},
   "source": [
    "## How Python finds things\n",
    "\n",
    "How does Python know where to find modules?\n",
    "\n",
    "The interpreter keeps a list of all the places that it looks for modules or packages when you do an import. It is stored in the `sys` module.\n",
    "\n",
    "```python\n",
    "import sys\n",
    "for p in sys.path:\n",
    "    print p\n",
    "```\n",
    "\n",
    "You can edit that list to add or remove paths to let python find\n",
    "modules on a new place.\n",
    "\n",
    "```python\n",
    "sys.path.append(some_local_dir)\n",
    "```\n",
    "\n",
    "Remember that every module has a `__file__` name that points to the path it lives in. \n",
    "\n",
    "This lets you add paths relative to where you are, etc.\n",
    "\n",
    "```python\n",
    "sys.path.append(f\"{__file__}/local_module_directory\")\n",
    "```"
   ]
  },
  {
   "cell_type": "markdown",
   "id": "4457af97-5b58-4040-b222-14bcc61fef75",
   "metadata": {
    "tags": []
   },
   "source": [
    "To install a package, you need a setup file. This allows you to build a package. "
   ]
  },
  {
   "cell_type": "markdown",
   "id": "f7658802-30bc-4523-a46b-b8dd81c6acc7",
   "metadata": {},
   "source": [
    "## More Info\n",
    "\n",
    "There is, of course, a lot more to this topic than what's covered here.\n",
    "\n",
    "We've covered what you need to know to get started.\n",
    "\n",
    "See [the official docs on modules](https://docs.python.org/3/tutorial/modules.html#packages) for more depth."
   ]
  },
  {
   "cell_type": "markdown",
   "id": "dbfc6a7f-d78a-4dee-92ff-fdfd943cdcac",
   "metadata": {
    "tags": []
   },
   "source": [
    "Discuss the idea of a project directory. The project directory contains the package directories and modules, as well as the setup file and other auxiliary files. "
   ]
  }
 ],
 "metadata": {
  "kernelspec": {
   "display_name": "Python 3 (ipykernel)",
   "language": "python",
   "name": "python3"
  },
  "language_info": {
   "codemirror_mode": {
    "name": "ipython",
    "version": 3
   },
   "file_extension": ".py",
   "mimetype": "text/x-python",
   "name": "python",
   "nbconvert_exporter": "python",
   "pygments_lexer": "ipython3",
   "version": "3.11.5"
  }
 },
 "nbformat": 4,
 "nbformat_minor": 5
}
