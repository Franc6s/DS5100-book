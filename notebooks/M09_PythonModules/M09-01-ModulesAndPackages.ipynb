{
 "cells": [
  {
   "cell_type": "markdown",
   "id": "f7e27f6b-920f-46c3-ab9f-f3aa04782077",
   "metadata": {},
   "source": [
    "# NB: Modules and Packages"
   ]
  },
  {
   "cell_type": "markdown",
   "id": "9996fbc3-6230-4780-b8af-44fca9fc6491",
   "metadata": {
    "tags": []
   },
   "source": [
    "## Modules\n",
    "\n",
    "In Python, a **module is a file** containing Python code---basically, a collection of expressions and statements. \n",
    "\n",
    "It will usually contain functions, classes, and fixed variables (\"constants\") as as the value of $\\Large\\pi$."
   ]
  },
  {
   "cell_type": "markdown",
   "id": "01fc9211-4c83-4212-8cb5-2a94d4721d64",
   "metadata": {
    "jp-MarkdownHeadingCollapsed": true,
    "tags": []
   },
   "source": [
    "For instance, let's say we have a file called `fibo.py` with the following code:\n",
    "\n",
    "```python\n",
    "## Fibonacci numbers module\n",
    "\n",
    "def fib(n):\n",
    "    \"Prints Fibonacci series up to n.\"\n",
    "    a, b = 0, 1\n",
    "    while a < n:\n",
    "        print(a, end=' ')\n",
    "        a, b = b, a+b\n",
    "    print()\n",
    "\n",
    "def fib2(n):\n",
    "    \"Returns a Fibonacci series up to n.\"\n",
    "    a, b = 0, 1\n",
    "    result = []\n",
    "    while a < n:\n",
    "        result.append(a)\n",
    "        a, b = b, a+b\n",
    "    return result\n",
    "```"
   ]
  },
  {
   "cell_type": "markdown",
   "id": "8fa75afe-ffc9-459e-84d0-bc907289c039",
   "metadata": {
    "tags": []
   },
   "source": [
    "To use this module, you **import** it into the script you are working in as follows:"
   ]
  },
  {
   "cell_type": "code",
   "execution_count": 1,
   "id": "74827140-683a-4fcd-b310-fe4b31325cc2",
   "metadata": {
    "tags": []
   },
   "outputs": [],
   "source": [
    "import fibo"
   ]
  },
  {
   "cell_type": "markdown",
   "id": "49e62395-facc-41dc-89ee-7bb29553d269",
   "metadata": {
    "tags": []
   },
   "source": [
    "In this case, `fibo.py` is in the same directory as our notebook, so we can do this."
   ]
  },
  {
   "cell_type": "markdown",
   "id": "3a5e03aa-2b95-47e2-aa7c-4b3502dfc783",
   "metadata": {},
   "source": [
    "Now we can use it in our code."
   ]
  },
  {
   "cell_type": "code",
   "execution_count": 2,
   "id": "7817c836-de97-46f3-ae5f-69adc287a9fe",
   "metadata": {
    "tags": []
   },
   "outputs": [
    {
     "name": "stdout",
     "output_type": "stream",
     "text": [
      "0 1 1 2 3 5 8 13 21 34 55 89 144 233 377 610 987 \n"
     ]
    }
   ],
   "source": [
    "fibo.fib(1000)"
   ]
  },
  {
   "cell_type": "code",
   "execution_count": 3,
   "id": "1fba2e0f-13c8-4c2f-882a-49505a2710b8",
   "metadata": {
    "tags": []
   },
   "outputs": [
    {
     "data": {
      "text/plain": [
       "[0, 1, 1, 2, 3, 5, 8, 13, 21, 34, 55, 89]"
      ]
     },
     "execution_count": 3,
     "metadata": {},
     "output_type": "execute_result"
    }
   ],
   "source": [
    "fibo.fib2(100)"
   ]
  },
  {
   "cell_type": "markdown",
   "id": "a0a9e2d2-11f4-43dc-95b1-23dafaa724ef",
   "metadata": {
    "tags": []
   },
   "source": [
    "### Module names\n",
    "\n",
    "Note that the module's **name** is just the file name without the `.py` suffix. \n",
    "\n",
    "So, the file `fibo.py` contains the module `fibo`."
   ]
  },
  {
   "cell_type": "markdown",
   "id": "04f3f79f-f27e-42e2-89b4-c579a1b7b4bd",
   "metadata": {
    "tags": []
   },
   "source": [
    "### `__name__`\n",
    "\n",
    "There is a special variable called `__name__` that you can use to get the name of a module.\n",
    "\n",
    "For example:"
   ]
  },
  {
   "cell_type": "code",
   "execution_count": 4,
   "id": "533d6f40-ea5c-425e-a1f8-94798ce67346",
   "metadata": {
    "tags": []
   },
   "outputs": [
    {
     "data": {
      "text/plain": [
       "'fibo'"
      ]
     },
     "execution_count": 4,
     "metadata": {},
     "output_type": "execute_result"
    }
   ],
   "source": [
    "fibo.__name__"
   ]
  },
  {
   "cell_type": "markdown",
   "id": "aef14d1f-77c5-4585-8ea8-f1e819d84750",
   "metadata": {
    "tags": []
   },
   "source": [
    "When the file is executed and the program is running, \\\n",
    "the module’s name is available as the value of the global variable `__name__`."
   ]
  },
  {
   "cell_type": "markdown",
   "id": "d7d35ae5-bb0b-4c5c-abd1-1bde9d7450d0",
   "metadata": {
    "tags": []
   },
   "source": [
    "Let's look at the name of this notebook."
   ]
  },
  {
   "cell_type": "code",
   "execution_count": 5,
   "id": "a7f7ee3e-d98e-4038-9095-50289745cbba",
   "metadata": {
    "tags": []
   },
   "outputs": [
    {
     "data": {
      "text/plain": [
       "'__main__'"
      ]
     },
     "execution_count": 5,
     "metadata": {},
     "output_type": "execute_result"
    }
   ],
   "source": [
    "__name__"
   ]
  },
  {
   "cell_type": "markdown",
   "id": "0474fcc7-d685-4fef-ad6b-3f54d38ff784",
   "metadata": {
    "tags": []
   },
   "source": [
    "## Packages\n",
    "\n",
    "**A package is a directory** that may contain other modules and packages.\n",
    "\n",
    "For a directory to be a package, it ~~must~~ should contain an `__init__.py` file.\n",
    "\n",
    "> As of Python 3.3, this file is optional.\n",
    "> But it is still useful and commonly used.\n",
    "\n",
    "The `__init__.py` can be **totally empty** or it can have some Python code in it. \n",
    "\n",
    "We'll see why you would do that below.\n",
    "\n",
    "Here is an example directory structure of a package that contains another package:\n",
    "\n",
    "```bash\n",
    "a_package_dir/\n",
    "    __init__.py\n",
    "    module_a.py\n",
    "    a_sub_package_dir/\n",
    "        __init__.py\n",
    "        module_b.py\n",
    "```\n",
    "\n",
    "At a minimum, all you need to have is this:\n",
    "\n",
    "```bash\n",
    "a_package_dir/\n",
    "    __init__.py\n",
    "    module_a.py\n",
    "```"
   ]
  },
  {
   "cell_type": "markdown",
   "id": "5f140f39-9db5-4910-b7ac-b9058d6df38e",
   "metadata": {
    "tags": []
   },
   "source": [
    "### Importing from modules from packages\n",
    "\n",
    "So, given the above directory and file structure, within a Python file you can:\n",
    "\n",
    "```\n",
    "import a_package\n",
    "````\n",
    "\n",
    "This will run any code in `a_package/__init__.py`.\n",
    "\n",
    "So, any variable or function names defined in the `__init__.py` will be available like this:\n",
    "\n",
    "```\n",
    "a_package.a_name\n",
    "```\n",
    "\n",
    "However, no **modules** will be imported unless explicity commanded to. \n",
    "\n",
    "For example:\n",
    "\n",
    "```\n",
    "a_package.module_a\n",
    "```\n",
    "\n",
    "will not be imported. \n",
    "\n",
    "To get modules, you need to explicitly import them:\n",
    "\n",
    "```\n",
    "import a_package.module_a\n",
    "```"
   ]
  },
  {
   "cell_type": "markdown",
   "id": "04f0a2ab-9397-4503-9fc5-03b3361f0d51",
   "metadata": {},
   "source": [
    "Let's look at an example."
   ]
  },
  {
   "cell_type": "code",
   "execution_count": 6,
   "id": "5454fa1a-4422-45de-95a5-ac5300074be3",
   "metadata": {
    "tags": []
   },
   "outputs": [],
   "source": [
    "import demo_package1"
   ]
  },
  {
   "cell_type": "code",
   "execution_count": 7,
   "id": "7ca651bd-71e1-4dc9-9ea8-1eb02c849bce",
   "metadata": {
    "tags": []
   },
   "outputs": [
    {
     "ename": "AttributeError",
     "evalue": "module 'demo_package1' has no attribute 'module1'",
     "output_type": "error",
     "traceback": [
      "\u001b[0;31m---------------------------------------------------------------------------\u001b[0m",
      "\u001b[0;31mAttributeError\u001b[0m                            Traceback (most recent call last)",
      "\u001b[0;32m/tmp/ipykernel_779302/2051291872.py\u001b[0m in \u001b[0;36m<module>\u001b[0;34m\u001b[0m\n\u001b[0;32m----> 1\u001b[0;31m \u001b[0mdemo_package1\u001b[0m\u001b[0;34m.\u001b[0m\u001b[0mmodule1\u001b[0m\u001b[0;34m\u001b[0m\u001b[0;34m\u001b[0m\u001b[0m\n\u001b[0m",
      "\u001b[0;31mAttributeError\u001b[0m: module 'demo_package1' has no attribute 'module1'"
     ]
    }
   ],
   "source": [
    "demo_package1.module1"
   ]
  },
  {
   "cell_type": "code",
   "execution_count": 8,
   "id": "93b5fbc4-1a20-46fa-9ff1-58778aebc151",
   "metadata": {
    "tags": []
   },
   "outputs": [],
   "source": [
    "import demo_package1.module1"
   ]
  },
  {
   "cell_type": "code",
   "execution_count": 9,
   "id": "158307cd-9600-4a0d-a792-6870a662c46b",
   "metadata": {
    "tags": []
   },
   "outputs": [
    {
     "data": {
      "text/plain": [
       "<module 'demo_package1.module1' from '/sfs/qumulo/qhome/rca2t/Documents/MSDS/DS5100/repo-book/notebooks/M09_PythonModules/demo_package1/module1.py'>"
      ]
     },
     "execution_count": 9,
     "metadata": {},
     "output_type": "execute_result"
    }
   ],
   "source": [
    "demo_package1.module1"
   ]
  },
  {
   "cell_type": "code",
   "execution_count": 10,
   "id": "fdc4bd71-f6fc-4ab6-8275-f995dbedc6b0",
   "metadata": {
    "tags": []
   },
   "outputs": [
    {
     "name": "stdout",
     "output_type": "stream",
     "text": [
      "Hi, I'm from Demo 1!\n"
     ]
    }
   ],
   "source": [
    "demo_package1.module1.welcome1()"
   ]
  },
  {
   "cell_type": "code",
   "execution_count": 12,
   "id": "ad4ddbe0-512e-4dad-a967-38161d18cb6e",
   "metadata": {
    "tags": []
   },
   "outputs": [],
   "source": [
    "from demo_package1 import module1"
   ]
  },
  {
   "cell_type": "code",
   "execution_count": 14,
   "id": "ce47f0cc-3f5e-4f0e-b466-9e4e4d7d9e77",
   "metadata": {
    "tags": []
   },
   "outputs": [
    {
     "name": "stdout",
     "output_type": "stream",
     "text": [
      "Hi, I'm from Demo 1!\n"
     ]
    }
   ],
   "source": [
    "module1.welcome1()"
   ]
  },
  {
   "cell_type": "code",
   "execution_count": 15,
   "id": "68aa15e5-a8a1-49d3-a18b-e08f57128721",
   "metadata": {
    "tags": []
   },
   "outputs": [],
   "source": [
    "from demo_package1.module1 import welcome1"
   ]
  },
  {
   "cell_type": "code",
   "execution_count": 17,
   "id": "140a25ac-f04b-4144-afea-000a03d717b4",
   "metadata": {
    "tags": []
   },
   "outputs": [
    {
     "name": "stdout",
     "output_type": "stream",
     "text": [
      "Hi, I'm from Demo 1!\n"
     ]
    }
   ],
   "source": [
    "welcome1()"
   ]
  },
  {
   "cell_type": "markdown",
   "id": "52d867f2-2946-4695-a49c-fa00f596a46f",
   "metadata": {
    "tags": []
   },
   "source": [
    "### Package initializers"
   ]
  },
  {
   "cell_type": "markdown",
   "id": "147248ec-d6c6-408e-9158-9830c0bf1907",
   "metadata": {
    "tags": []
   },
   "source": [
    "Then demonstrate what the initialization function does. "
   ]
  },
  {
   "cell_type": "markdown",
   "id": "eea2b0ac-260a-423f-bdcc-1e3b9ec4b4f6",
   "metadata": {
    "tags": []
   },
   "source": [
    "Show how you can preload things in the initializer so that it's easier to import them into calling modules. "
   ]
  },
  {
   "cell_type": "markdown",
   "id": "462ec674-9032-4ca8-a2d4-c971178a9b0c",
   "metadata": {
    "tags": []
   },
   "source": [
    "Show how you can have packages within packages, and how this plays out when you import things. "
   ]
  },
  {
   "cell_type": "markdown",
   "id": "dbc277fc-f5be-45dd-af26-6b06c30a344a",
   "metadata": {
    "tags": []
   },
   "source": [
    "At this point, introduce the concept of **names and namespaces**."
   ]
  },
  {
   "cell_type": "markdown",
   "id": "c800f41f-f87c-4475-8bb3-d5e255aae7fd",
   "metadata": {
    "jp-MarkdownHeadingCollapsed": true,
    "tags": []
   },
   "source": [
    "### `from`\n",
    "\n",
    "Notice how `from` provides a context, which allows `import` to use names without the path.\n",
    "\n",
    "This raises the topic of **namespaces**."
   ]
  },
  {
   "cell_type": "markdown",
   "id": "ba43ecde-25b5-439b-9d57-41af322e996b",
   "metadata": {},
   "source": [
    "## Namespaces\n",
    "\n",
    "You can see that a python **module** acts as a single **namespace**, which is used to organize a collection of values:\n",
    "\n",
    "-   functions\n",
    "-   constants\n",
    "-   class definitions\n",
    "-   really any old value\n",
    "\n",
    "A namespace is **a collection of currently defined names** being used by a program.\n",
    "\n",
    "> You can think of it as something like a Python dictionary in which the keys are the object names\\\n",
    "and the values are the objects themselves.\n",
    "\n",
    "It's a way of making sure variable and function names do not collide or get confused with each other.\n",
    "\n",
    "Python has four namespaces:\n",
    "\n",
    "* **Built-In**: Contains the names of all of Python’s built-in objects. See `dir(__builtins__)`\n",
    "\n",
    "* **Global**: Contains any names defined at the level of the main program. \n",
    "\n",
    "> A global namespace is also created for any module that your program imports. See `globals()`.\n",
    "\n",
    "* **Enclosing**: The namespaces of a function for any functions defined within that function. \n",
    "\n",
    "* **Local**: Contains any names defined in a function.\n",
    "\n",
    "Namespaces are related to **scope**. \n",
    "\n",
    "To know the context in which a name has meaning, Python searches namespaces from the inside out.\n",
    "\n",
    "    L -> E -> G -> B\n",
    "\n",
    "![image.png](../../media/scope.png)\n",
    "\n",
    "See `M09-01a-Globals.ipynb` for a demo.\n",
    "\n",
    "See [Namespaces and Scope in Python (Real Python)](https://realpython.com/python-namespaces-scope/) for a good primer."
   ]
  },
  {
   "cell_type": "code",
   "execution_count": 2,
   "id": "2769be84-bc35-4697-a3a8-43b86d83c160",
   "metadata": {
    "tags": []
   },
   "outputs": [],
   "source": [
    "def foo():\n",
    "    x = y = z = 1\n",
    "    print(locals())\n",
    "    \n",
    "    def bar():\n",
    "        a = b = c = 2\n",
    "        print(locals())\n",
    "        \n",
    "    bar()"
   ]
  },
  {
   "cell_type": "code",
   "execution_count": 3,
   "id": "a4664b13-441f-4f0d-b93d-ba78ff797768",
   "metadata": {
    "tags": []
   },
   "outputs": [
    {
     "name": "stdout",
     "output_type": "stream",
     "text": [
      "{'x': 1, 'y': 1, 'z': 1}\n",
      "{'a': 2, 'b': 2, 'c': 2}\n"
     ]
    }
   ],
   "source": [
    "foo()"
   ]
  },
  {
   "cell_type": "markdown",
   "id": "93e24706-822f-400c-9c16-bf34dc5dee81",
   "metadata": {
    "tags": []
   },
   "source": [
    "## How Python finds things"
   ]
  },
  {
   "cell_type": "markdown",
   "id": "ee6a1627-173a-44db-b57c-32c590a6c0c8",
   "metadata": {},
   "source": [
    "## The module search path\n",
    "\n",
    "How does Python know where to find modules?\n",
    "\n",
    "The interpreter keeps a list of all the places that it looks for modules or packages when you do an import. It is stored in the `sys` module.\n",
    "\n",
    "```python\n",
    "import sys\n",
    "for p in sys.path:\n",
    "    print p\n",
    "```\n",
    "\n",
    "You can edit that list to add or remove paths to let python find\n",
    "modules on a new place.\n",
    "\n",
    "```python\n",
    "sys.path.append(some_local_dir)\n",
    "```\n",
    "\n",
    "Remember that every module has a `__file__` name that points to the path it lives in. \n",
    "\n",
    "This lets you add paths relative to where you are, etc.\n",
    "\n",
    "```python\n",
    "sys.path.append(f\"{__file__}/local_module_directory\")\n",
    "```"
   ]
  },
  {
   "cell_type": "markdown",
   "id": "4457af97-5b58-4040-b222-14bcc61fef75",
   "metadata": {
    "tags": []
   },
   "source": [
    "To install a package, you need a setup file. This allows you to build a package. "
   ]
  },
  {
   "cell_type": "markdown",
   "id": "f7658802-30bc-4523-a46b-b8dd81c6acc7",
   "metadata": {},
   "source": [
    "## More Info\n",
    "\n",
    "There is, of course, a lot more to this topic than what's covered here.\n",
    "\n",
    "We've covered what you need to know to get started.\n",
    "\n",
    "See [the official docs on modules](https://docs.python.org/3/tutorial/modules.html#packages) for more depth."
   ]
  },
  {
   "cell_type": "markdown",
   "id": "dbfc6a7f-d78a-4dee-92ff-fdfd943cdcac",
   "metadata": {
    "tags": []
   },
   "source": [
    "Discuss the idea of a project directory. The project directory contains the package directories and modules, as well as the setup file and other auxiliary files. "
   ]
  },
  {
   "cell_type": "markdown",
   "id": "2541c955-3b16-49cd-a154-a98804f0463e",
   "metadata": {},
   "source": [
    "## Projects"
   ]
  },
  {
   "cell_type": "markdown",
   "id": "a29f08fd-c6e9-4c18-9182-a01c26dbd585",
   "metadata": {
    "tags": []
   },
   "source": [
    "## Errata \n",
    "\n",
    "You give an ambiguous definition of package what you define should actually become a project directory. The package is any directory with an init file in it.\n",
    "\n",
    "So make the distinction between project directory and package directory.\n",
    "\n",
    "In the part where it explains where to put test files, stick to ticking or sticking them above the package directories. It should be at the root of the project directory.\n",
    "\n",
    "Combined the two notebooks that cover, importing and initialization of package directories.\n",
    "\n",
    "Connect the idea of building a package to installing a package.\n",
    "\n",
    "Here are some basic ideas to understanding importing.\n",
    "\n",
    "The from statement defines the package context. Import accesses modules, which may be qualified package paths.\n",
    "\n",
    "Note that relative imports as written is very confusing.\n",
    "\n",
    "Test the hypothesis that import has to end in a module. And if you want to bypass long package pass to go to modules and functions and classes, to do importing with the initialization files.\n",
    "\n",
    "The best way to teach this is to begin by just talking about packages and modules and how they are imported from files that share their directories. Then you move onto how you put your packages and modules and system wide files. And then then how to share them with others.\n",
    "\n",
    "With each micro topic, introduce the use of examples as you tend to the last half of class."
   ]
  },
  {
   "cell_type": "code",
   "execution_count": null,
   "id": "78fe9900-563a-43f2-b19f-1bfc6951af55",
   "metadata": {},
   "outputs": [],
   "source": []
  }
 ],
 "metadata": {
  "kernelspec": {
   "display_name": "eta",
   "language": "python",
   "name": "eta"
  },
  "language_info": {
   "codemirror_mode": {
    "name": "ipython",
    "version": 3
   },
   "file_extension": ".py",
   "mimetype": "text/x-python",
   "name": "python",
   "nbconvert_exporter": "python",
   "pygments_lexer": "ipython3",
   "version": "3.9.19"
  }
 },
 "nbformat": 4,
 "nbformat_minor": 5
}
