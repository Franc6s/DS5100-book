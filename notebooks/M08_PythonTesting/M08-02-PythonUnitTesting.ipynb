{
 "cells": [
  {
   "cell_type": "markdown",
   "metadata": {
    "slideshow": {
     "slide_type": "slide"
    },
    "tags": []
   },
   "source": [
    "# NB: Unit Testing with Unittest\n",
    "\n",
    "Programming for Data Science"
   ]
  },
  {
   "cell_type": "markdown",
   "metadata": {
    "slideshow": {
     "slide_type": "slide"
    },
    "tags": []
   },
   "source": [
    "## Unit Testing\n",
    "\n",
    "Unit testing is **bottom-up** approach to testing code.\n",
    "\n",
    "It assumes that code may be decomposed into **elementary units** that are independent.\n",
    "\n",
    "Quality assurance is achieved by testing each of these units for their expected behavior, and then **progressively** testing how they interact at increasing levels of relationship."
   ]
  },
  {
   "cell_type": "markdown",
   "metadata": {
    "slideshow": {
     "slide_type": "slide"
    },
    "tags": []
   },
   "source": [
    "## Role of Functions \n",
    "\n",
    "The elementary unit of code is usually the **function**. \n",
    "\n",
    "Recall that functions should be written to perform relatively **simple things** &mdash; simple, well-defined tasks.\n",
    "\n",
    "Unit test are meant to eliminate errors produced by the coder.\n",
    "\n",
    "Unit tests may also be designed to test whether or not functions perform correctly in a range of error-producing **conditions**.\n",
    "\n",
    "These conditions include edge cases, invalid inputs, and error conditions to verify that functions handle these situations gracefully."
   ]
  },
  {
   "cell_type": "markdown",
   "metadata": {
    "slideshow": {
     "slide_type": "slide"
    },
    "tags": []
   },
   "source": [
    "## Integration Testing\n",
    "\n",
    "Unit testing typically focuses on individual functions in isolation. \n",
    "\n",
    "To test how **groups of related functions** interact and perform, we employ **integration testing**.\n",
    "\n",
    "Integration testing is more **complex**, given the combinatorial complexity of coding. "
   ]
  },
  {
   "cell_type": "markdown",
   "metadata": {
    "slideshow": {
     "slide_type": "slide"
    },
    "tags": []
   },
   "source": [
    "## Role of Design\n",
    "\n",
    "It is worth noting that unit testing entails a kind of **design**.\n",
    "\n",
    "If you design functions that are **not well-defined and focused**, then you are **unlikely to test them** effectively.\n",
    "\n",
    "So part of unit testing is what we might call **unit design**.\n",
    "\n",
    "A broad area of programming called **functional programming** implements this kind of design.\n",
    "\n",
    "So, unit testing goes **hand-in-hand** with software design."
   ]
  },
  {
   "cell_type": "markdown",
   "metadata": {
    "slideshow": {
     "slide_type": "slide"
    },
    "tags": []
   },
   "source": [
    "## Benefits of Unit Testing\n",
    "\n",
    "Developers can work in a **predictable** way on developing code.\n",
    "\n",
    "Developers can **write their own unit tests**.\n",
    "\n",
    "You can get **a rapid response** for testing small changes\n",
    "\n",
    "Reduces **defects in the newly developed features** or reduces bugs when changing the existing functionality.\n",
    "\n",
    "Reduces **cost of testing**, since defects are captured in very early phase.\n",
    "\n",
    "**Improves design** and allows better refactoring of code."
   ]
  },
  {
   "cell_type": "markdown",
   "metadata": {
    "jp-MarkdownHeadingCollapsed": true,
    "slideshow": {
     "slide_type": "slide"
    },
    "tags": []
   },
   "source": [
    "## Unit Testing Frameworks\n",
    "\n",
    "There are many of these available to Python users, including:\n",
    "\n",
    "**Unittest**: A full-featured unit testing system, inspired by Java's JUnit. Part of the Python Standard Library (as an external project it was called PyUnit).\\\n",
    "**DocTest**: A lightweight test framework that allows you to embed tests directly in the docstrings, making it easy to combine code examples and test cases in one place. Part of the Python Standard Library.\\\n",
    "**PyTest**: An alternative to PyUnit and with a simpler syntax.\\\n",
    "**nose2**: A discovery-based framwork that extends unittest (successor to nose).\\\n",
    "**Testify**: A Pythonic testing framework compatible with unittest tests.\\\n",
    "**Robot**: A framework for test automation and robotic process automation (not just for Python).\\\n",
    "**Behave**: A framework for Behavior-Driven Development.\\\n",
    "**Hypothesis**: A powerful property-based testing.\n",
    "\n",
    "&mdash; Adapted from https://wiki.python.org/moin/UnitTests\n",
    "\n",
    "We will focus on Unittest."
   ]
  },
  {
   "cell_type": "markdown",
   "metadata": {
    "slideshow": {
     "slide_type": "slide"
    },
    "tags": []
   },
   "source": [
    "## The Basic Idea\n",
    "\n",
    "The Unittest framework provides you with **a bunch of `assert` methods**.\n",
    "\n",
    "These are wrappers around Python's built-in `assert` function. \n",
    "\n",
    "The basic idea is to **write functions that test other functions** by using these assert methods.\n",
    "\n",
    "These functions are put in **another file** that calls your module.\n",
    "\n",
    "This prevents you from  **peppering your code** with assert statements.\n",
    "\n",
    "It aslo allows a clean **separation of concerns**. "
   ]
  },
  {
   "cell_type": "markdown",
   "metadata": {
    "slideshow": {
     "slide_type": "slide"
    },
    "tags": []
   },
   "source": [
    "Unittest provides **many assert methods** -- see this [cheat sheet](https://kapeli.com/cheat_sheets/Python_unittest_Assertions.docset/Contents/Resources/Documents/index) for more.\n",
    "\n",
    "We will focus on three:\n",
    "\n",
    "* `assertTrue()`: Used to test if your function produces an **actual** result that matches an **expected** result.\n",
    "* `assertFalse()`: Used to test if the actual result **fails** in an expected way.\n",
    "* `assertEqual()`: Used to test if two results are equal."
   ]
  },
  {
   "cell_type": "markdown",
   "metadata": {
    "slideshow": {
     "slide_type": "slide"
    },
    "tags": []
   },
   "source": [
    "## The Basic Pattern\n",
    "\n",
    "The Unittest framework works as follows:\n",
    "\n",
    "1. **Choose** a package or class that you want to test.\n",
    "\n",
    "2. **Create** a `.py` file to put your `unittest` code.\n",
    "\n",
    "3. In the file, **create a class** that is a subclass of `unittest.TestCase`.\n",
    "\n",
    "4. In that class **write methods** that are designed to test the behavior of methods in the code you want to test.\n",
    "\n",
    "5. **Run** the script from the command line and see the results.\n",
    "\n",
    "6. **Update** the script as you create new methods or refactor existing ones."
   ]
  },
  {
   "cell_type": "markdown",
   "metadata": {
    "slideshow": {
     "slide_type": "slide"
    },
    "tags": []
   },
   "source": [
    "In the test class:\n",
    "\n",
    "- Each **test method** focuses on one behavior of one method (or function).\n",
    "\n",
    "- There can be **many test methods** for each target method.  \n",
    "\n",
    "- Each test method name must be **prefixed** by **`test_`**.\n",
    "  \n",
    "- Tests are executed in **alphabetical order**, so name them in the order you want them executed.\n",
    "  \n",
    "- Each test makes use of an **assert method**. \n",
    "  \n",
    "- You want **all tests to pass**, so if you want to test if something breaks, you return `True` for a `False` condition."
   ]
  },
  {
   "cell_type": "markdown",
   "metadata": {
    "slideshow": {
     "slide_type": "slide"
    },
    "tags": []
   },
   "source": [
    "Let's look at some examples."
   ]
  },
  {
   "cell_type": "markdown",
   "metadata": {
    "slideshow": {
     "slide_type": "slide"
    },
    "tags": []
   },
   "source": [
    "## Examples"
   ]
  },
  {
   "cell_type": "code",
   "execution_count": 13,
   "metadata": {
    "tags": []
   },
   "outputs": [],
   "source": [
    "# math_operations.py\n",
    "\n",
    "class MathOps:\n",
    "\n",
    "    def add(a, b):\n",
    "        return a + b\n",
    "\n",
    "    def subtract(a, b):\n",
    "        return a - b\n",
    "\n",
    "    def multiply(a, b):\n",
    "        return a * b\n",
    "\n",
    "    def divide(a, b):\n",
    "        if b == 0:\n",
    "            raise ValueError(\"Cannot divide by zero\")\n",
    "        return a / b"
   ]
  },
  {
   "cell_type": "code",
   "execution_count": 14,
   "metadata": {
    "tags": []
   },
   "outputs": [
    {
     "ename": "ModuleNotFoundError",
     "evalue": "No module named 'math_operations'",
     "output_type": "error",
     "traceback": [
      "\u001b[0;31m---------------------------------------------------------------------------\u001b[0m",
      "\u001b[0;31mModuleNotFoundError\u001b[0m                       Traceback (most recent call last)",
      "Cell \u001b[0;32mIn[14], line 4\u001b[0m\n\u001b[1;32m      1\u001b[0m \u001b[38;5;66;03m# test_math_operations.py\u001b[39;00m\n\u001b[1;32m      3\u001b[0m \u001b[38;5;28;01mimport\u001b[39;00m \u001b[38;5;21;01munittest\u001b[39;00m\n\u001b[0;32m----> 4\u001b[0m \u001b[38;5;28;01mfrom\u001b[39;00m \u001b[38;5;21;01mmath_operations\u001b[39;00m \u001b[38;5;28;01mimport\u001b[39;00m add, subtract, multiply, divide\n\u001b[1;32m      6\u001b[0m \u001b[38;5;28;01mclass\u001b[39;00m \u001b[38;5;21;01mTestMathOperations\u001b[39;00m(unittest\u001b[38;5;241m.\u001b[39mTestCase):\n\u001b[1;32m      8\u001b[0m     \u001b[38;5;28;01mdef\u001b[39;00m \u001b[38;5;21mtest_add\u001b[39m(\u001b[38;5;28mself\u001b[39m):\n",
      "\u001b[0;31mModuleNotFoundError\u001b[0m: No module named 'math_operations'"
     ]
    }
   ],
   "source": [
    "# test_math_operations.py\n",
    "\n",
    "import unittest\n",
    "from math_operations import add, subtract, multiply, divide\n",
    "\n",
    "class TestMathOperations(unittest.TestCase):\n",
    "    \n",
    "    def test_add(self):\n",
    "        self.assertEqual(add(2, 3), 5)\n",
    "        self.assertEqual(add(-1, 1), 0)\n",
    "        self.assertEqual(add(-1, -1), -2)\n",
    "\n",
    "    def test_subtract(self):\n",
    "        self.assertEqual(subtract(5, 3), 2)\n",
    "        self.assertEqual(subtract(1, 1), 0)\n",
    "        self.assertEqual(subtract(-1, -1), 0)\n",
    "\n",
    "    def test_multiply(self):\n",
    "        self.assertEqual(multiply(2, 3), 6)\n",
    "        self.assertEqual(multiply(-2, 3), -6)\n",
    "        self.assertEqual(multiply(0, 5), 0)\n",
    "\n",
    "    def test_divide(self):\n",
    "        self.assertEqual(divide(6, 3), 2)\n",
    "        self.assertEqual(divide(7, 2), 3.5)\n",
    "        self.assertRaises(ValueError, divide, 1, 0)\n",
    "\n",
    "if __name__ == '__main__':\n",
    "    unittest.main()"
   ]
  },
  {
   "cell_type": "markdown",
   "metadata": {
    "slideshow": {
     "slide_type": "slide"
    },
    "tags": []
   },
   "source": [
    "## `.assertTrue()`\n",
    "\n",
    "**Negative Test Case** \n",
    "\n",
    "Run `M08-02-script1.py`\n",
    "\n",
    "```python\n",
    "class TestStringMethods(unittest.TestCase):\n",
    "\n",
    "    def test_negative(self):\n",
    "        testValue = False        \n",
    "        message = \"Test value is not true.\"\n",
    "        self.assertTrue(testValue, message)\n",
    "\n",
    "if __name__ == '__main__':\n",
    "    unittest.main()\n",
    "```"
   ]
  },
  {
   "cell_type": "code",
   "execution_count": 2,
   "metadata": {
    "slideshow": {
     "slide_type": "slide"
    },
    "tags": []
   },
   "outputs": [
    {
     "name": "stdout",
     "output_type": "stream",
     "text": [
      "test_negative (__main__.TestStringMethods.test_negative) ... FAIL\n",
      "\n",
      "======================================================================\n",
      "FAIL: test_negative (__main__.TestStringMethods.test_negative)\n",
      "----------------------------------------------------------------------\n",
      "Traceback (most recent call last):\n",
      "  File \"/sfs/qumulo/qhome/rca2t/Documents/MSDS/DS5100/repo-book/notebooks/M08_PythonTesting/M08-02-script1.py\", line 14, in test_negative\n",
      "    self.assertTrue(testValue, message)\n",
      "AssertionError: False is not true : Test value is not true.\n",
      "\n",
      "----------------------------------------------------------------------\n",
      "Ran 1 test in 0.001s\n",
      "\n",
      "FAILED (failures=1)\n"
     ]
    }
   ],
   "source": [
    "!python M08-02-script1.py"
   ]
  },
  {
   "cell_type": "markdown",
   "metadata": {
    "slideshow": {
     "slide_type": "slide"
    },
    "tags": []
   },
   "source": [
    "**Positive Test Case**\n",
    "\n",
    "```python\n",
    "import unittest\n",
    "\n",
    "class TestStringMethods(unittest.TestCase):\n",
    "    \n",
    "    # test function\n",
    "    def test_positive(self):\n",
    "        \n",
    "        testValue = True\n",
    "        \n",
    "        # error message in case if test case got failed\n",
    "        message = \"Test value is not true.\"\n",
    "        \n",
    "        # assertTrue() to check true of test value\n",
    "        self.assertTrue( testValue, message)\n",
    "\n",
    "if __name__ == '__main__':\n",
    "\tunittest.main()\n",
    "```"
   ]
  },
  {
   "cell_type": "code",
   "execution_count": 3,
   "metadata": {
    "slideshow": {
     "slide_type": "slide"
    },
    "tags": []
   },
   "outputs": [
    {
     "name": "stdout",
     "output_type": "stream",
     "text": [
      "test_positive (__main__.TestStringMethods.test_positive) ... ok\n",
      "\n",
      "----------------------------------------------------------------------\n",
      "Ran 1 test in 0.000s\n",
      "\n",
      "OK\n"
     ]
    }
   ],
   "source": [
    "!python M08-02-script2.py"
   ]
  },
  {
   "cell_type": "markdown",
   "metadata": {
    "slideshow": {
     "slide_type": "slide"
    },
    "tags": []
   },
   "source": [
    "## `.assertFalse()`\n",
    "\n",
    "**Negative Test Case**\n",
    "\n",
    "```python\n",
    "import unittest\n",
    "\n",
    "class TestStringMethods(unittest.TestCase):\n",
    "\t# test function\n",
    "\tdef test_negative(self):\n",
    "\t\ttestValue = True\n",
    "\t\t# error message in case if test case got failed\n",
    "\t\tmessage = \"Test value is not false.\"\n",
    "\t\t# assetFalse() to check test value as false\n",
    "\t\tself.assertFalse( testValue, message)\n",
    "\n",
    "if __name__ == '__main__':\n",
    "\tunittest.main()\n",
    "```"
   ]
  },
  {
   "cell_type": "code",
   "execution_count": 4,
   "metadata": {
    "slideshow": {
     "slide_type": "slide"
    },
    "tags": []
   },
   "outputs": [
    {
     "name": "stdout",
     "output_type": "stream",
     "text": [
      "F\n",
      "======================================================================\n",
      "FAIL: test_negative (__main__.TestStringMethods.test_negative)\n",
      "----------------------------------------------------------------------\n",
      "Traceback (most recent call last):\n",
      "  File \"/sfs/qumulo/qhome/rca2t/Documents/MSDS/DS5100/repo-book/notebooks/M08_PythonTesting/M08-02-script3.py\", line 10, in test_negative\n",
      "    self.assertFalse( testValue, message)\n",
      "AssertionError: True is not false : Test value is not false.\n",
      "\n",
      "----------------------------------------------------------------------\n",
      "Ran 1 test in 0.001s\n",
      "\n",
      "FAILED (failures=1)\n"
     ]
    }
   ],
   "source": [
    "!python M08-02-script3.py"
   ]
  },
  {
   "cell_type": "markdown",
   "metadata": {
    "slideshow": {
     "slide_type": "slide"
    },
    "tags": []
   },
   "source": [
    "**Positive Test Case**\n",
    "\n",
    "```python\n",
    "## unit test case\n",
    "import unittest\n",
    "\n",
    "class TestStringMethods(unittest.TestCase):\n",
    "\t# test function\n",
    "\tdef test_positive(self):\n",
    "\t\ttestValue = False\n",
    "\t\t# error message in case if test case got failed\n",
    "\t\tmessage = \"Test value is not false.\"\n",
    "\t\t# assertFalse() to check test value as false\n",
    "\t\tself.assertFalse( testValue, message)\n",
    "\n",
    "if __name__ == '__main__':\n",
    "\tunittest.main()\n",
    "```"
   ]
  },
  {
   "cell_type": "code",
   "execution_count": 5,
   "metadata": {
    "slideshow": {
     "slide_type": "slide"
    },
    "tags": []
   },
   "outputs": [
    {
     "name": "stdout",
     "output_type": "stream",
     "text": [
      ".\n",
      "----------------------------------------------------------------------\n",
      "Ran 1 test in 0.000s\n",
      "\n",
      "OK\n"
     ]
    }
   ],
   "source": [
    "!python M08-02-script4.py"
   ]
  },
  {
   "cell_type": "markdown",
   "metadata": {
    "slideshow": {
     "slide_type": "slide"
    },
    "tags": []
   },
   "source": [
    "## `.assertEqual()`\n",
    "\n",
    "Here is a case where we expect two values to be equal.\n",
    "\n",
    "**Negative Test Case**\n",
    "\n",
    "```python\n",
    "## unit test case\n",
    "import unittest\n",
    "\n",
    "class TestStringMethods(unittest.TestCase):\n",
    "\t# test function to test equality of two value\n",
    "\tdef test_negative(self):\n",
    "\t\tfirstValue = \"geeks\"\n",
    "\t\tsecondValue = \"gfg\"\n",
    "\t\t# error message in case if test case got failed\n",
    "\t\tmessage = \"First value and second value are not equal !\"\n",
    "\t\t# assertEqual() to check equality of first & second value\n",
    "\t\tself.assertEqual(firstValue, secondValue, message)\n",
    "\n",
    "if __name__ == '__main__':\n",
    "\tunittest.main()\n",
    "```"
   ]
  },
  {
   "cell_type": "code",
   "execution_count": 6,
   "metadata": {
    "slideshow": {
     "slide_type": "slide"
    },
    "tags": []
   },
   "outputs": [
    {
     "name": "stdout",
     "output_type": "stream",
     "text": [
      "F\n",
      "======================================================================\n",
      "FAIL: test_negative (__main__.TestStringMethods.test_negative)\n",
      "----------------------------------------------------------------------\n",
      "Traceback (most recent call last):\n",
      "  File \"/sfs/qumulo/qhome/rca2t/Documents/MSDS/DS5100/repo-book/notebooks/M08_PythonTesting/M08-02-script5.py\", line 12, in test_negative\n",
      "    self.assertEqual(firstValue, secondValue, message)\n",
      "AssertionError: 'geeks' != 'gfg'\n",
      "- geeks\n",
      "+ gfg\n",
      " : First value and second value are not equal !\n",
      "\n",
      "----------------------------------------------------------------------\n",
      "Ran 1 test in 0.001s\n",
      "\n",
      "FAILED (failures=1)\n"
     ]
    }
   ],
   "source": [
    "!python M08-02-script5.py"
   ]
  },
  {
   "cell_type": "markdown",
   "metadata": {
    "slideshow": {
     "slide_type": "slide"
    },
    "tags": []
   },
   "source": [
    "**Positive Test Case**\n",
    "\n",
    "```python\n",
    "## unit test case\n",
    "import unittest\n",
    "\n",
    "class TestStringMethods(unittest.TestCase):\n",
    "\t# test function to test equality of two value\n",
    "\tdef test_positive(self):\n",
    "\t\tfirstValue = \"geeks\"\n",
    "\t\tsecondValue = \"geeks\"\n",
    "\t\t# error message in case if test case got failed\n",
    "\t\tmessage = \"First value and second value are not equal !\"\n",
    "\t\t# assertEqual() to check equality of first & second value\n",
    "\t\tself.assertEqual(firstValue, secondValue, message)\n",
    "\n",
    "if __name__ == '__main__':\n",
    "\tunittest.main(verbosity=2)\n",
    "```"
   ]
  },
  {
   "cell_type": "code",
   "execution_count": 7,
   "metadata": {
    "slideshow": {
     "slide_type": "slide"
    },
    "tags": []
   },
   "outputs": [
    {
     "name": "stdout",
     "output_type": "stream",
     "text": [
      "test_positive (__main__.TestStringMethods.test_positive) ... ok\n",
      "\n",
      "----------------------------------------------------------------------\n",
      "Ran 1 test in 0.000s\n",
      "\n",
      "OK\n"
     ]
    }
   ],
   "source": [
    "!python M08-02-script6.py"
   ]
  },
  {
   "cell_type": "markdown",
   "metadata": {
    "slideshow": {
     "slide_type": "slide"
    },
    "tags": []
   },
   "source": [
    "## Example with User-defined Function\n",
    "\n",
    "**Function to test**\n",
    "\n",
    "```python\n",
    "def add_fish_to_aquarium(fish_list):\n",
    "    if len(fish_list) > 10:\n",
    "        raise ValueError(\"A maximum of 10 fish can be added to the aquarium\")\n",
    "    return {\"tank_a\": fish_list}\n",
    "\n",
    "import unittest\n",
    "```\n",
    "\n",
    "**Class to test the function**\n",
    "\n",
    "```python\n",
    "class TestAddFishToAquarium(unittest.TestCase):\n",
    "    \n",
    "    def test_add_fish_to_aquarium_success(self):\n",
    "        actual = add_fish_to_aquarium(fish_list=[\"shark\", \"tuna\"])\n",
    "        expected = {\"tank_a\": [\"shark\", \"tuna\"]}\n",
    "        self.assertEqual(actual, expected)\n",
    "\n",
    "    def test_add_fish_to_aquarium_exception(self):\n",
    "        too_many_fish = [\"shark\"] * 25\n",
    "        with self.assertRaises(ValueError) as exception_context:\n",
    "            add_fish_to_aquarium(fish_list=too_many_fish)\n",
    "        self.assertEqual(\n",
    "            str(exception_context.exception),\n",
    "            \"A maximum of 10 fish can be added to the aquarium\"\n",
    "        )\n",
    "\n",
    "if __name__ == '__main__':\n",
    "    unittest.main(verbosity=2)\n",
    "```"
   ]
  },
  {
   "cell_type": "code",
   "execution_count": 8,
   "metadata": {
    "slideshow": {
     "slide_type": "slide"
    },
    "tags": []
   },
   "outputs": [
    {
     "name": "stdout",
     "output_type": "stream",
     "text": [
      "test_add_fish_to_aquarium_exception (__main__.TestAddFishToAquarium.test_add_fish_to_aquarium_exception) ... ok\n",
      "test_add_fish_to_aquarium_success (__main__.TestAddFishToAquarium.test_add_fish_to_aquarium_success) ... ok\n",
      "\n",
      "----------------------------------------------------------------------\n",
      "Ran 2 tests in 0.000s\n",
      "\n",
      "OK\n"
     ]
    }
   ],
   "source": [
    "!python M08-02-script7.py"
   ]
  },
  {
   "cell_type": "markdown",
   "metadata": {
    "slideshow": {
     "slide_type": "slide"
    },
    "tags": []
   },
   "source": [
    "## Example with External Class\n",
    "\n",
    "We create a class called `Student` and save it in a local file called `student.py`.\n",
    "\n",
    "```python\n",
    "class Student:\n",
    "    \n",
    "    # constructor\n",
    "    def __init__(self, name, courses=None):\n",
    "        self.name = name # string type\n",
    "        self.courses = [] if courses is None else courses # list of strings\n",
    "        self.num_courses = len(self.courses)\n",
    "        \n",
    "    # enroll in a course\n",
    "    def enroll_in_course(self, course_name): \n",
    "        self.courses.append(course_name)\n",
    "        self.num_courses += 1 # increment the number of courses\n",
    "```\n",
    "\n",
    "Then we create a companion test file for our class, saving it in a file called `student_test.py`.\n",
    "\n",
    "```python\n",
    "from student import Student\n",
    "import unittest\n",
    "\n",
    "class EnrollInTestCase(unittest.TestCase): \n",
    "    \n",
    "    def test_is_incremented_correctly(self):\n",
    "        # test if enrollInCourse() method successfully increments the\n",
    "        # num_courses attribute of the Student object \n",
    "\n",
    "        # Create student instance, adding some courses\n",
    "        student1 = Student('Katherine', ['DS 5100'])\n",
    "        student1.enroll_in_course(\"CS 5050\")\n",
    "        student1.enroll_in_course(\"CS 5777\")\n",
    "        print(student1.courses)\n",
    "        print(student1.num_courses)\n",
    "        \n",
    "        # Test\n",
    "        expected = 3\n",
    "        # unittest.TestCase brings in the assertEqual() method\n",
    "        self.assertEqual(student1.num_courses, expected)\n",
    "        \n",
    "if __name__ == '__main__':\n",
    "    unittest.main(verbosity=2)\n",
    "```"
   ]
  },
  {
   "cell_type": "code",
   "execution_count": 9,
   "metadata": {
    "slideshow": {
     "slide_type": "slide"
    },
    "tags": []
   },
   "outputs": [
    {
     "name": "stdout",
     "output_type": "stream",
     "text": [
      "test_01_is_numCoursincremented_correctly (__main__.EnrollInTestCase.test_01_is_numCoursincremented_correctly) ... ['DS 5100', 'CS 5050', 'CS 5777']\n",
      "3\n",
      "ok\n",
      "\n",
      "----------------------------------------------------------------------\n",
      "Ran 1 test in 0.000s\n",
      "\n",
      "OK\n"
     ]
    }
   ],
   "source": [
    "!python student_test.py"
   ]
  },
  {
   "cell_type": "markdown",
   "metadata": {},
   "source": [
    "The messages that `unittest` prints are error messages on Unix, so if we want to direct them to a file, we need to use `2>`. \n",
    "\n",
    "Notice how this command only shows the print messages contained in the program."
   ]
  },
  {
   "cell_type": "code",
   "execution_count": 10,
   "metadata": {},
   "outputs": [
    {
     "name": "stdout",
     "output_type": "stream",
     "text": [
      "['DS 5100', 'CS 5050', 'CS 5777']\n",
      "3\n"
     ]
    }
   ],
   "source": [
    "!python student_test.py 2> student_results.txt"
   ]
  },
  {
   "cell_type": "markdown",
   "metadata": {},
   "source": [
    "This one, on the other hand, captures the print methods and only shows the errors."
   ]
  },
  {
   "cell_type": "code",
   "execution_count": 11,
   "metadata": {},
   "outputs": [
    {
     "name": "stdout",
     "output_type": "stream",
     "text": [
      "test_01_is_numCoursincremented_correctly (__main__.EnrollInTestCase.test_01_is_numCoursincremented_correctly) ... ok\n",
      "\n",
      "----------------------------------------------------------------------\n",
      "Ran 1 test in 0.000s\n",
      "\n",
      "OK\n"
     ]
    }
   ],
   "source": [
    "!python student_test.py > student_results1.txt"
   ]
  }
 ],
 "metadata": {
  "kernelspec": {
   "display_name": "Python 3",
   "language": "python",
   "name": "python3"
  },
  "language_info": {
   "codemirror_mode": {
    "name": "ipython",
    "version": 3
   },
   "file_extension": ".py",
   "mimetype": "text/x-python",
   "name": "python",
   "nbconvert_exporter": "python",
   "pygments_lexer": "ipython3",
   "version": "3.11.4"
  }
 },
 "nbformat": 4,
 "nbformat_minor": 4
}
