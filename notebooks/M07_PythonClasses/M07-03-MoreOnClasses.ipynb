{
 "cells": [
  {
   "cell_type": "markdown",
   "metadata": {},
   "source": [
    "# NB: More About Classes"
   ]
  },
  {
   "cell_type": "markdown",
   "metadata": {},
   "source": [
    "## Some Useful Facts about Python Classes\n",
    "\n",
    "* You can put your classes in a .py file and import them into your other scripts.\n",
    "* You can put more than one class in a file.\n",
    "* Class names are usually written in CamelCase, but not instances.\n",
    "* When saving to a file:\n",
    "  - If only one class, use a lower case name of the class in the file name.\n",
    "  - If more than one, use a package name, one that stands for the logical group the classes belong to."
   ]
  },
  {
   "cell_type": "markdown",
   "metadata": {},
   "source": [
    "## Anatomy of a Python Class"
   ]
  },
  {
   "cell_type": "code",
   "execution_count": 36,
   "metadata": {
    "tags": []
   },
   "outputs": [],
   "source": [
    "## Import class dependencies here, outside of the class definition\n",
    "\n",
    "import pandas as pd\n",
    "import numpy as np\n",
    "import re\n",
    "import requests\n",
    "# from lxml import etree\n",
    "\n",
    "## Use CamelCase to name your class\n",
    "class MyClass(object): # Optionally pass ancestor classes to use inheritance\n",
    "    \"\"\"\n",
    "    Extensive docstring describing structure and function of class.\n",
    "    \"\"\"\n",
    "    \n",
    "    # Class attributes go here with initial values if applicable\n",
    "    att1 = True \n",
    "    att2 = 'Foo'\n",
    "    _private_att = 'Bar' # A variable that is meant to be internally only; not intended to accessed by users\n",
    "    \n",
    "    # Object initializer; called when an instance of the class is created\n",
    "    def __init__(self):\n",
    "        pass\n",
    "    \n",
    "    # Methods that share state via the self variable\n",
    "    def get_something(self):\n",
    "        pass\n",
    "    \n",
    "    # Name your methods consistently -- prefix with verbs\n",
    "    def put_something(self):\n",
    "        pass\n",
    "    \n",
    "    def do_something(self):\n",
    "        pass\n",
    "\n",
    "    def show_something(self):\n",
    "        pass\n",
    "\n",
    "    # A private method\n",
    "    def _private_method(self): \n",
    "        pass\n",
    "    \n",
    "    def do_something_else(self):\n",
    "        # Use private method\n",
    "        self._private_method()\n",
    "    \n",
    "    # A static method\n",
    "    def static_method():\n",
    "        pass"
   ]
  },
  {
   "cell_type": "markdown",
   "metadata": {},
   "source": [
    "## Privacy\n",
    "\n",
    "Users are free to access private attributes and methods, but they not shown in the help docs."
   ]
  },
  {
   "cell_type": "code",
   "execution_count": 37,
   "metadata": {
    "tags": []
   },
   "outputs": [
    {
     "name": "stdout",
     "output_type": "stream",
     "text": [
      "Help on class MyClass in module __main__:\n",
      "\n",
      "class MyClass(builtins.object)\n",
      " |  Extensive docstring describing structure and function of class.\n",
      " |  \n",
      " |  Methods defined here:\n",
      " |  \n",
      " |  __init__(self)\n",
      " |      Initialize self.  See help(type(self)) for accurate signature.\n",
      " |  \n",
      " |  do_something(self)\n",
      " |  \n",
      " |  do_something_else(self)\n",
      " |  \n",
      " |  get_something(self)\n",
      " |      # Methods that share state via the self variable\n",
      " |  \n",
      " |  put_something(self)\n",
      " |      # Name your methods consistently -- prefix with verbs\n",
      " |  \n",
      " |  show_something(self)\n",
      " |  \n",
      " |  static_method()\n",
      " |      # A static method\n",
      " |  \n",
      " |  ----------------------------------------------------------------------\n",
      " |  Data descriptors defined here:\n",
      " |  \n",
      " |  __dict__\n",
      " |      dictionary for instance variables (if defined)\n",
      " |  \n",
      " |  __weakref__\n",
      " |      list of weak references to the object (if defined)\n",
      " |  \n",
      " |  ----------------------------------------------------------------------\n",
      " |  Data and other attributes defined here:\n",
      " |  \n",
      " |  att1 = True\n",
      " |  \n",
      " |  att2 = 'Foo'\n",
      "\n"
     ]
    }
   ],
   "source": [
    "help(MyClass)"
   ]
  },
  {
   "cell_type": "markdown",
   "metadata": {},
   "source": [
    "## Static Classes\n",
    "\n",
    "Static classes don't have instance methods.\n",
    "\n",
    "Static classes don't need to be instantiated.\n",
    "\n",
    "They can be used to store a collection of stand-alone helper functions as methods.\n",
    "\n",
    "Note the absence of `self` ..."
   ]
  },
  {
   "cell_type": "code",
   "execution_count": 6,
   "metadata": {
    "tags": []
   },
   "outputs": [],
   "source": [
    "class StaticClass():\n",
    "\n",
    "    def add_these(*nums):\n",
    "        sum = 0\n",
    "        for num in nums: sum += num\n",
    "        return sum\n",
    "    \n",
    "    def square_me(x):\n",
    "        return x**2"
   ]
  },
  {
   "cell_type": "code",
   "execution_count": 7,
   "metadata": {
    "tags": []
   },
   "outputs": [
    {
     "data": {
      "text/plain": [
       "12"
      ]
     },
     "execution_count": 7,
     "metadata": {},
     "output_type": "execute_result"
    }
   ],
   "source": [
    "StaticClass.add_these(1,5,6)"
   ]
  },
  {
   "cell_type": "code",
   "execution_count": 8,
   "metadata": {
    "tags": []
   },
   "outputs": [
    {
     "data": {
      "text/plain": [
       "25"
      ]
     },
     "execution_count": 8,
     "metadata": {},
     "output_type": "execute_result"
    }
   ],
   "source": [
    "StaticClass.square_me(5)"
   ]
  },
  {
   "cell_type": "markdown",
   "metadata": {},
   "source": [
    "This won't work ..."
   ]
  },
  {
   "cell_type": "code",
   "execution_count": 11,
   "metadata": {
    "tags": []
   },
   "outputs": [],
   "source": [
    "sc = StaticClass()"
   ]
  },
  {
   "cell_type": "code",
   "execution_count": 12,
   "metadata": {
    "tags": []
   },
   "outputs": [
    {
     "ename": "TypeError",
     "evalue": "StaticClass.square_me() takes 1 positional argument but 2 were given",
     "output_type": "error",
     "traceback": [
      "\u001b[0;31m---------------------------------------------------------------------------\u001b[0m",
      "\u001b[0;31mTypeError\u001b[0m                                 Traceback (most recent call last)",
      "Cell \u001b[0;32mIn[12], line 1\u001b[0m\n\u001b[0;32m----> 1\u001b[0m \u001b[43msc\u001b[49m\u001b[38;5;241;43m.\u001b[39;49m\u001b[43msquare_me\u001b[49m\u001b[43m(\u001b[49m\u001b[38;5;241;43m10\u001b[39;49m\u001b[43m)\u001b[49m\n",
      "\u001b[0;31mTypeError\u001b[0m: StaticClass.square_me() takes 1 positional argument but 2 were given"
     ]
    }
   ],
   "source": [
    "sc.square_me(10)"
   ]
  },
  {
   "cell_type": "markdown",
   "metadata": {},
   "source": [
    "Nor will this,"
   ]
  },
  {
   "cell_type": "code",
   "execution_count": 13,
   "metadata": {
    "tags": []
   },
   "outputs": [
    {
     "ename": "TypeError",
     "evalue": "unsupported operand type(s) for ** or pow(): 'StaticClass' and 'int'",
     "output_type": "error",
     "traceback": [
      "\u001b[0;31m---------------------------------------------------------------------------\u001b[0m",
      "\u001b[0;31mTypeError\u001b[0m                                 Traceback (most recent call last)",
      "Cell \u001b[0;32mIn[13], line 1\u001b[0m\n\u001b[0;32m----> 1\u001b[0m \u001b[43msc\u001b[49m\u001b[38;5;241;43m.\u001b[39;49m\u001b[43msquare_me\u001b[49m\u001b[43m(\u001b[49m\u001b[43m)\u001b[49m\n",
      "Cell \u001b[0;32mIn[6], line 9\u001b[0m, in \u001b[0;36mStaticClass.square_me\u001b[0;34m(x)\u001b[0m\n\u001b[1;32m      8\u001b[0m \u001b[38;5;28;01mdef\u001b[39;00m \u001b[38;5;21msquare_me\u001b[39m(x):\n\u001b[0;32m----> 9\u001b[0m     \u001b[38;5;28;01mreturn\u001b[39;00m \u001b[43mx\u001b[49m\u001b[38;5;241;43m*\u001b[39;49m\u001b[38;5;241;43m*\u001b[39;49m\u001b[38;5;241;43m2\u001b[39;49m\n",
      "\u001b[0;31mTypeError\u001b[0m: unsupported operand type(s) for ** or pow(): 'StaticClass' and 'int'"
     ]
    }
   ],
   "source": [
    "sc.square_me()"
   ]
  },
  {
   "cell_type": "markdown",
   "metadata": {
    "tags": []
   },
   "source": [
    "## Classes as Data Structures"
   ]
  },
  {
   "cell_type": "markdown",
   "metadata": {},
   "source": [
    "Classes are a quick way to store data, similar to dictionaries.\n",
    "\n",
    "Here we define a static class to store some configuration data."
   ]
  },
  {
   "cell_type": "code",
   "execution_count": 14,
   "metadata": {
    "tags": []
   },
   "outputs": [],
   "source": [
    "class MyConfig:\n",
    "    a = 10\n",
    "    b = 'foo'\n",
    "    c = 'something else'\n",
    "    f = lambda x: x + 10"
   ]
  },
  {
   "cell_type": "markdown",
   "metadata": {
    "tags": []
   },
   "source": [
    "Unlike dictionaries, their keys, or attributes, can be accessed with less typing."
   ]
  },
  {
   "cell_type": "code",
   "execution_count": 15,
   "metadata": {
    "tags": []
   },
   "outputs": [
    {
     "data": {
      "text/plain": [
       "10"
      ]
     },
     "execution_count": 15,
     "metadata": {},
     "output_type": "execute_result"
    }
   ],
   "source": [
    "MyConfig.a"
   ]
  },
  {
   "cell_type": "markdown",
   "metadata": {
    "tags": []
   },
   "source": [
    "Note also that attributes can be viewed with tab completion (in Jupyter and other IDEs).\n",
    "\n",
    "<img src=\"../../media/class-att-tab-completion.png\" style=\"height:10rem;\"/>"
   ]
  },
  {
   "cell_type": "code",
   "execution_count": 16,
   "metadata": {
    "tags": []
   },
   "outputs": [
    {
     "data": {
      "text/plain": [
       "110"
      ]
     },
     "execution_count": 16,
     "metadata": {},
     "output_type": "execute_result"
    }
   ],
   "source": [
    "MyConfig.f(100)"
   ]
  },
  {
   "cell_type": "markdown",
   "metadata": {},
   "source": [
    "You can dynamically add attributes, too."
   ]
  },
  {
   "cell_type": "code",
   "execution_count": 17,
   "metadata": {
    "tags": []
   },
   "outputs": [],
   "source": [
    "MyConfig.x = 50"
   ]
  },
  {
   "cell_type": "markdown",
   "metadata": {},
   "source": [
    "Note that lambda functions are attributes, too:"
   ]
  },
  {
   "cell_type": "code",
   "execution_count": 18,
   "metadata": {
    "tags": []
   },
   "outputs": [],
   "source": [
    "MyConfig.y = lambda x: x**2"
   ]
  },
  {
   "cell_type": "code",
   "execution_count": 19,
   "metadata": {
    "tags": []
   },
   "outputs": [
    {
     "data": {
      "text/plain": [
       "10000"
      ]
     },
     "execution_count": 19,
     "metadata": {},
     "output_type": "execute_result"
    }
   ],
   "source": [
    "MyConfig.y(100)"
   ]
  },
  {
   "cell_type": "markdown",
   "metadata": {},
   "source": [
    "It's harder to add true functions, though."
   ]
  },
  {
   "cell_type": "markdown",
   "metadata": {},
   "source": [
    "If you wanted to create a data structure template, you could create a non-static class like this:"
   ]
  },
  {
   "cell_type": "code",
   "execution_count": 24,
   "metadata": {
    "tags": []
   },
   "outputs": [],
   "source": [
    "class ConfigTemplate:\n",
    "    \n",
    "    def __init__(self):\n",
    "        self.project_name = ''\n",
    "        self.project_type = ''\n",
    "        self.default_url = ''\n",
    "        self.description = ''"
   ]
  },
  {
   "cell_type": "code",
   "execution_count": 31,
   "metadata": {
    "tags": []
   },
   "outputs": [],
   "source": [
    "config1 = ConfigTemplate()\n",
    "config1.project_name = 'Apollo'\n",
    "config1.project_type = 'Moon Mission'"
   ]
  },
  {
   "cell_type": "code",
   "execution_count": 29,
   "metadata": {
    "tags": []
   },
   "outputs": [],
   "source": [
    "config2 = ConfigTemplate()\n",
    "config2.project_name = 'Artemis'\n",
    "config1.project_type = 'Moon Mission'"
   ]
  },
  {
   "cell_type": "code",
   "execution_count": 33,
   "metadata": {
    "tags": []
   },
   "outputs": [
    {
     "data": {
      "text/plain": [
       "'Apollo'"
      ]
     },
     "execution_count": 33,
     "metadata": {},
     "output_type": "execute_result"
    }
   ],
   "source": [
    "config1.project_name"
   ]
  },
  {
   "cell_type": "code",
   "execution_count": 34,
   "metadata": {
    "tags": []
   },
   "outputs": [
    {
     "data": {
      "text/plain": [
       "'Artemis'"
      ]
     },
     "execution_count": 34,
     "metadata": {},
     "output_type": "execute_result"
    }
   ],
   "source": [
    "config2.project_name"
   ]
  }
 ],
 "metadata": {
  "kernelspec": {
   "display_name": "Python 3",
   "language": "python",
   "name": "python3"
  },
  "language_info": {
   "codemirror_mode": {
    "name": "ipython",
    "version": 3
   },
   "file_extension": ".py",
   "mimetype": "text/x-python",
   "name": "python",
   "nbconvert_exporter": "python",
   "pygments_lexer": "ipython3",
   "version": "3.11.4"
  }
 },
 "nbformat": 4,
 "nbformat_minor": 4
}
