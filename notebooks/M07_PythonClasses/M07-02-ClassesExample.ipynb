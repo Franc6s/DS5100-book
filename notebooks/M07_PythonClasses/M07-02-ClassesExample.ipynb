{
 "cells": [
  {
   "cell_type": "markdown",
   "metadata": {},
   "source": [
    "# NB: Classes Example\n",
    "\n",
    "Here's an example of a class motivated by our earlier observation that functions come in groups."
   ]
  },
  {
   "cell_type": "markdown",
   "metadata": {},
   "source": [
    "## Set Up"
   ]
  },
  {
   "cell_type": "code",
   "execution_count": 1,
   "metadata": {
    "tags": []
   },
   "outputs": [],
   "source": [
    "import pandas as pd\n",
    "import numpy as np"
   ]
  },
  {
   "cell_type": "markdown",
   "metadata": {},
   "source": [
    "\n",
    "## Method 1: Nothing Special\n",
    "\n",
    "We define a set of functions that work in a sequence, where the return value of one is the argument of the other.\n",
    "\n",
    "### Define Functions"
   ]
  },
  {
   "cell_type": "code",
   "execution_count": 2,
   "metadata": {
    "tags": []
   },
   "outputs": [],
   "source": [
    "def create_die(weights):\n",
    "    n_sides = len(weights)\n",
    "    my_probs = [i/sum(weights) for i in weights]\n",
    "    my_die = pd.DataFrame({\n",
    "        'side': range(1, n_sides + 1),\n",
    "        'weights': my_probs\n",
    "    })\n",
    "    return my_die\n",
    "\n",
    "def roll_dice(my_die, n_rolls=1):\n",
    "    results = []\n",
    "    for i in range(n_rolls):\n",
    "        result = my_die.side.sample(weights=my_die.weights).values[0]\n",
    "        results.append(result)\n",
    "    return pd.Series(results)\n",
    "\n",
    "def plot_results(my_results):\n",
    "    my_results.value_counts().sort_index().plot.bar();"
   ]
  },
  {
   "cell_type": "markdown",
   "metadata": {},
   "source": [
    "### Create Instances"
   ]
  },
  {
   "cell_type": "code",
   "execution_count": 3,
   "metadata": {
    "tags": []
   },
   "outputs": [],
   "source": [
    "n_rolls = 10"
   ]
  },
  {
   "cell_type": "code",
   "execution_count": 4,
   "metadata": {
    "tags": []
   },
   "outputs": [],
   "source": [
    "fair_die = create_die([1,1,1,1,1,1,1])"
   ]
  },
  {
   "cell_type": "code",
   "execution_count": 5,
   "metadata": {
    "tags": []
   },
   "outputs": [
    {
     "data": {
      "text/html": [
       "<div>\n",
       "<style scoped>\n",
       "    .dataframe tbody tr th:only-of-type {\n",
       "        vertical-align: middle;\n",
       "    }\n",
       "\n",
       "    .dataframe tbody tr th {\n",
       "        vertical-align: top;\n",
       "    }\n",
       "\n",
       "    .dataframe thead th {\n",
       "        text-align: right;\n",
       "    }\n",
       "</style>\n",
       "<table border=\"1\" class=\"dataframe\">\n",
       "  <thead>\n",
       "    <tr style=\"text-align: right;\">\n",
       "      <th></th>\n",
       "      <th>side</th>\n",
       "      <th>weights</th>\n",
       "    </tr>\n",
       "  </thead>\n",
       "  <tbody>\n",
       "    <tr>\n",
       "      <th>0</th>\n",
       "      <td>1</td>\n",
       "      <td>0.142857</td>\n",
       "    </tr>\n",
       "    <tr>\n",
       "      <th>1</th>\n",
       "      <td>2</td>\n",
       "      <td>0.142857</td>\n",
       "    </tr>\n",
       "    <tr>\n",
       "      <th>2</th>\n",
       "      <td>3</td>\n",
       "      <td>0.142857</td>\n",
       "    </tr>\n",
       "    <tr>\n",
       "      <th>3</th>\n",
       "      <td>4</td>\n",
       "      <td>0.142857</td>\n",
       "    </tr>\n",
       "    <tr>\n",
       "      <th>4</th>\n",
       "      <td>5</td>\n",
       "      <td>0.142857</td>\n",
       "    </tr>\n",
       "    <tr>\n",
       "      <th>5</th>\n",
       "      <td>6</td>\n",
       "      <td>0.142857</td>\n",
       "    </tr>\n",
       "    <tr>\n",
       "      <th>6</th>\n",
       "      <td>7</td>\n",
       "      <td>0.142857</td>\n",
       "    </tr>\n",
       "  </tbody>\n",
       "</table>\n",
       "</div>"
      ],
      "text/plain": [
       "   side   weights\n",
       "0     1  0.142857\n",
       "1     2  0.142857\n",
       "2     3  0.142857\n",
       "3     4  0.142857\n",
       "4     5  0.142857\n",
       "5     6  0.142857\n",
       "6     7  0.142857"
      ]
     },
     "execution_count": 5,
     "metadata": {},
     "output_type": "execute_result"
    }
   ],
   "source": [
    "fair_die"
   ]
  },
  {
   "cell_type": "code",
   "execution_count": 6,
   "metadata": {
    "tags": []
   },
   "outputs": [],
   "source": [
    "fair_results = roll_dice(fair_die, n_rolls)"
   ]
  },
  {
   "cell_type": "code",
   "execution_count": 7,
   "metadata": {
    "tags": []
   },
   "outputs": [
    {
     "data": {
      "text/plain": [
       "0    4\n",
       "1    2\n",
       "2    6\n",
       "3    4\n",
       "4    4\n",
       "5    4\n",
       "6    7\n",
       "7    6\n",
       "8    4\n",
       "9    5\n",
       "dtype: int64"
      ]
     },
     "execution_count": 7,
     "metadata": {},
     "output_type": "execute_result"
    }
   ],
   "source": [
    "fair_results"
   ]
  },
  {
   "cell_type": "code",
   "execution_count": 8,
   "metadata": {
    "tags": []
   },
   "outputs": [
    {
     "data": {
      "image/png": "[encoded data removed]",
      "text/plain": [
       "<Figure size 640x480 with 1 Axes>"
      ]
     },
     "metadata": {},
     "output_type": "display_data"
    }
   ],
   "source": [
    "plot_results(fair_results)"
   ]
  },
  {
   "cell_type": "code",
   "execution_count": 9,
   "metadata": {
    "tags": []
   },
   "outputs": [
    {
     "data": {
      "image/png": "[encoded data removed]",
      "text/plain": [
       "<Figure size 640x480 with 1 Axes>"
      ]
     },
     "metadata": {},
     "output_type": "display_data"
    }
   ],
   "source": [
    "unfair_die = create_die([1,1,1,1,1,5])\n",
    "unfair_results = roll_dice(unfair_die, n_rolls)\n",
    "plot_results(unfair_results)"
   ]
  },
  {
   "cell_type": "markdown",
   "metadata": {},
   "source": [
    "### Doing it all at once"
   ]
  },
  {
   "cell_type": "code",
   "execution_count": 10,
   "metadata": {
    "tags": []
   },
   "outputs": [],
   "source": [
    "def do_it_all(weights):\n",
    "    plot_results(roll_dice(create_die(weights), n_rolls))"
   ]
  },
  {
   "cell_type": "code",
   "execution_count": 11,
   "metadata": {
    "tags": []
   },
   "outputs": [
    {
     "data": {
      "image/png": "[encoded data removed]",
      "text/plain": [
       "<Figure size 640x480 with 1 Axes>"
      ]
     },
     "metadata": {},
     "output_type": "display_data"
    }
   ],
   "source": [
    "do_it_all(roll_dice(create_die([1,1,1,1,1,10]), n_rolls))"
   ]
  },
  {
   "cell_type": "markdown",
   "metadata": {},
   "source": [
    "## Method 2: With Globals\n",
    "\n",
    "### Define a Global Data Structure\n",
    "\n",
    "We create a dictionary called `config` to store our instance data.\n",
    "\n",
    "We'll treat this as a **global**."
   ]
  },
  {
   "cell_type": "code",
   "execution_count": 12,
   "metadata": {
    "tags": []
   },
   "outputs": [],
   "source": [
    "config = {}\n",
    "n_rolls2 = 10"
   ]
  },
  {
   "cell_type": "markdown",
   "metadata": {},
   "source": [
    "### Define Functions "
   ]
  },
  {
   "cell_type": "code",
   "execution_count": 13,
   "metadata": {
    "tags": []
   },
   "outputs": [],
   "source": [
    "def create_die2(die_id):\n",
    "    global config\n",
    "    config[die_id]['die'] = None\n",
    "    weights = config[die_id]['weights']\n",
    "    n_sides = len(weights)\n",
    "    my_probs = [i/sum(weights) for i in weights]\n",
    "    config[die_id]['die'] = pd.DataFrame({\n",
    "        'side': range(1, n_sides + 1),\n",
    "        'weights': my_probs\n",
    "    })\n",
    "\n",
    "def roll_dice2(die_id):\n",
    "    global config\n",
    "    global n_rolls2\n",
    "    config[die_id]['results'] = None\n",
    "    my_die = config[die_id]['die']\n",
    "    results = []\n",
    "    for i in range(n_rolls2):\n",
    "        result = my_die.side.sample(weights=my_die.weights).values[0]\n",
    "        results.append(result)\n",
    "    config[die_id]['results'] = pd.Series(results)\n",
    "\n",
    "def plot_results2(die_id):\n",
    "    global config\n",
    "    my_results = config[die_id]['results']\n",
    "    my_results.value_counts().sort_index().plot.bar();\n",
    "\n",
    "def do_it_all2(die_id):\n",
    "    global config\n",
    "    global n_rolls2\n",
    "    print(\"Die ID:\", die_id)\n",
    "    print(\"Weights:\", config[die_id]['weights'])\n",
    "    print(\"Rolls:\", n_rolls2)\n",
    "    create_die2(die_id)\n",
    "    roll_dice2(die_id)\n",
    "    plot_results2(die_id)"
   ]
  },
  {
   "cell_type": "markdown",
   "metadata": {},
   "source": [
    "### Populate Config\n",
    "\n",
    "We populate our configuration config with some instances."
   ]
  },
  {
   "cell_type": "code",
   "execution_count": 14,
   "metadata": {
    "tags": []
   },
   "outputs": [],
   "source": [
    "config = {\n",
    "    'fair': {\n",
    "        'weights': [1,1,1,1,1,1]\n",
    "    },\n",
    "    'unfair': {\n",
    "        'weights': [1,1,1,1,10,100],\n",
    "    }\n",
    "}"
   ]
  },
  {
   "cell_type": "markdown",
   "metadata": {},
   "source": [
    "### Call Main Function"
   ]
  },
  {
   "cell_type": "code",
   "execution_count": 15,
   "metadata": {
    "tags": []
   },
   "outputs": [
    {
     "name": "stdout",
     "output_type": "stream",
     "text": [
      "Die ID: fair\n",
      "Weights: [1, 1, 1, 1, 1, 1]\n",
      "Rolls: 10\n"
     ]
    },
    {
     "data": {
      "image/png": "[encoded data removed]",
      "text/plain": [
       "<Figure size 640x480 with 1 Axes>"
      ]
     },
     "metadata": {},
     "output_type": "display_data"
    }
   ],
   "source": [
    "do_it_all2('fair')"
   ]
  },
  {
   "cell_type": "code",
   "execution_count": 16,
   "metadata": {
    "tags": []
   },
   "outputs": [
    {
     "name": "stdout",
     "output_type": "stream",
     "text": [
      "Die ID: unfair\n",
      "Weights: [1, 1, 1, 1, 10, 100]\n",
      "Rolls: 10\n"
     ]
    },
    {
     "data": {
      "image/png": "[encoded data removed]",
      "text/plain": [
       "<Figure size 640x480 with 1 Axes>"
      ]
     },
     "metadata": {},
     "output_type": "display_data"
    }
   ],
   "source": [
    "do_it_all2('unfair')"
   ]
  },
  {
   "cell_type": "code",
   "execution_count": 28,
   "metadata": {
    "tags": []
   },
   "outputs": [
    {
     "name": "stdout",
     "output_type": "stream",
     "text": [
      "Die ID: unfair\n",
      "Weights: [1, 1, 1, 1, 10, 100]\n",
      "Rolls: 1000\n"
     ]
    },
    {
     "data": {
      "image/png": "[encoded data removed]",
      "text/plain": [
       "<Figure size 640x480 with 1 Axes>"
      ]
     },
     "metadata": {},
     "output_type": "display_data"
    }
   ],
   "source": [
    "n_rolls2 = 1000 # We change this, but it will affect all uses of the functions until we change it.\n",
    "do_it_all2('unfair')"
   ]
  },
  {
   "cell_type": "code",
   "execution_count": 29,
   "metadata": {
    "tags": []
   },
   "outputs": [
    {
     "name": "stdout",
     "output_type": "stream",
     "text": [
      "Die ID: fair\n",
      "Weights: [1, 1, 1, 1, 1, 1]\n",
      "Rolls: 1000\n"
     ]
    },
    {
     "data": {
      "image/png": "[encoded data removed]",
      "text/plain": [
       "<Figure size 640x480 with 1 Axes>"
      ]
     },
     "metadata": {},
     "output_type": "display_data"
    }
   ],
   "source": [
    "do_it_all2('fair')"
   ]
  },
  {
   "cell_type": "markdown",
   "metadata": {},
   "source": [
    "## Method 3: As Class\n",
    "\n",
    "Define a class that contains the config data structure and all the functions as attributes and methods."
   ]
  },
  {
   "cell_type": "code",
   "execution_count": 30,
   "metadata": {
    "tags": []
   },
   "outputs": [],
   "source": [
    "class DieGame():\n",
    "        \n",
    "    def __init__(self):\n",
    "        self.n_rolls = 10\n",
    "        self.weights = [1,1,1,1,1,1]\n",
    "        \n",
    "    def create_die(self):\n",
    "        self.n_sides = len(self.weights)\n",
    "        self.my_probs = [i/sum(self.weights) for i in self.weights]\n",
    "        self.die = pd.DataFrame({\n",
    "            'side': range(1, self.n_sides + 1),\n",
    "            'weights': self.my_probs\n",
    "        })\n",
    "    \n",
    "    def roll_die(self):\n",
    "        results = []\n",
    "        for i in range(self.n_rolls):\n",
    "            result = self.die.side.sample(weights=self.die.weights).values[0]\n",
    "            results.append(result)\n",
    "        self.results = pd.Series(results)        \n",
    "        \n",
    "    def plot_results(self):\n",
    "        prob_model = pd.Series({i+1:round(p, 2) for i, p in enumerate(self.my_probs)})\n",
    "        print(\"Sides:\", self.n_sides)\n",
    "        print(\"Model:\")\n",
    "        print(prob_model)\n",
    "        print(\"Rolls:\", self.n_rolls)\n",
    "        self.results.value_counts().sort_index().plot.bar(rot=0);\n",
    "        \n",
    "    # We add another method because it's so easy :-)\n",
    "    def plot_probs(self):\n",
    "        pd.Series(self.my_probs).plot.pie(title=\"Die Model\")\n",
    "        \n",
    "    def do_it_all(self):\n",
    "        self.create_die()\n",
    "        self.roll_die()\n",
    "        self.plot_results()\n",
    "        "
   ]
  },
  {
   "cell_type": "code",
   "execution_count": 31,
   "metadata": {
    "tags": []
   },
   "outputs": [
    {
     "name": "stdout",
     "output_type": "stream",
     "text": [
      "Sides: 6\n",
      "Model:\n",
      "1    0.17\n",
      "2    0.17\n",
      "3    0.17\n",
      "4    0.17\n",
      "5    0.17\n",
      "6    0.17\n",
      "dtype: float64\n",
      "Rolls: 100\n"
     ]
    },
    {
     "data": {
      "image/png": "[encoded data removed]",
      "text/plain": [
       "<Figure size 640x480 with 1 Axes>"
      ]
     },
     "metadata": {},
     "output_type": "display_data"
    }
   ],
   "source": [
    "game_1 = DieGame()\n",
    "game_1.n_rolls = 100\n",
    "game_1.do_it_all()"
   ]
  },
  {
   "cell_type": "code",
   "execution_count": 32,
   "metadata": {
    "tags": []
   },
   "outputs": [
    {
     "data": {
      "image/png": "[encoded data removed]",
      "text/plain": [
       "<Figure size 640x480 with 1 Axes>"
      ]
     },
     "metadata": {},
     "output_type": "display_data"
    }
   ],
   "source": [
    "game_1.plot_probs()"
   ]
  },
  {
   "cell_type": "code",
   "execution_count": 33,
   "metadata": {
    "tags": []
   },
   "outputs": [
    {
     "name": "stdout",
     "output_type": "stream",
     "text": [
      "Sides: 6\n",
      "Model:\n",
      "1    0.04\n",
      "2    0.04\n",
      "3    0.04\n",
      "4    0.18\n",
      "5    0.36\n",
      "6    0.36\n",
      "dtype: float64\n",
      "Rolls: 100\n"
     ]
    },
    {
     "data": {
      "image/png": "[encoded data removed]",
      "text/plain": [
       "<Figure size 640x480 with 1 Axes>"
      ]
     },
     "metadata": {},
     "output_type": "display_data"
    }
   ],
   "source": [
    "game_2 = DieGame()\n",
    "game_2.n_rolls = 100\n",
    "game_2.weights = [1,1,1,5,10,10]\n",
    "game_2.do_it_all()"
   ]
  },
  {
   "cell_type": "code",
   "execution_count": 34,
   "metadata": {
    "tags": []
   },
   "outputs": [
    {
     "data": {
      "image/png": "[encoded data removed]",
      "text/plain": [
       "<Figure size 640x480 with 1 Axes>"
      ]
     },
     "metadata": {},
     "output_type": "display_data"
    }
   ],
   "source": [
    "game_2.plot_probs()"
   ]
  },
  {
   "cell_type": "markdown",
   "metadata": {},
   "source": [
    "## Conclusions\n",
    "\n",
    "The OOP approach handles scoping issues as well as data management.\n",
    "\n",
    "Notice how the dictionary is replaced by the object.\n",
    "\n",
    "Not only does it provide a place to store the data, it also provides a schema for it:\n",
    "* You don't need to remember what keys to put in the `data` dictionary of method 2. The object specifies them.\n",
    "\n",
    "Notice also that we don't pass arguments to the object as we do with functions (although we can). \n",
    "\n",
    "We assign values to attributes directly."
   ]
  },
  {
   "cell_type": "code",
   "execution_count": null,
   "metadata": {},
   "outputs": [],
   "source": []
  }
 ],
 "metadata": {
  "kernelspec": {
   "display_name": "eta",
   "language": "python",
   "name": "eta"
  },
  "language_info": {
   "codemirror_mode": {
    "name": "ipython",
    "version": 3
   },
   "file_extension": ".py",
   "mimetype": "text/x-python",
   "name": "python",
   "nbconvert_exporter": "python",
   "pygments_lexer": "ipython3",
   "version": "3.9.19"
  }
 },
 "nbformat": 4,
 "nbformat_minor": 4
}
